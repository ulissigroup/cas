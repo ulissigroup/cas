{
 "cells": [
  {
   "cell_type": "code",
   "execution_count": null,
   "id": "01874921",
   "metadata": {},
   "outputs": [],
   "source": [
    "import matplotlib.pyplot as plt\n",
    "import torch\n",
    "from torch.quasirandom import SobolEngine\n",
    "import pandas as pd\n",
    "import numpy as np\n",
    "from alse.utils import identify_samples_which_satisfy_constraints, normalize, unnormalize\n",
    "from mpl_toolkits import mplot3d\n",
    "# from matplotlib import cm\n",
    "from alse.utils import read_excel\n",
    "from alse.alse_workflow import alse\n",
    "import copy\n",
    "import plotly.graph_objects as go\n",
    "import plotly.express as px"
   ]
  },
  {
   "cell_type": "code",
   "execution_count": null,
   "id": "60be1ce7",
   "metadata": {},
   "outputs": [],
   "source": [
    "bounds = torch.tensor([[200, 300, 1], [3000, 2700, 4]])\n",
    "tkwargs = {\n",
    "    \"device\": torch.device(\"cpu\"),\n",
    "    \"dtype\": torch.float,\n",
    "}\n",
    "file_path = \"../test_data/8_12_data.xlsx\"\n",
    "\n",
    "X, width, pow_cap, wth = read_excel(\"../test_data/8_12_data.xlsx\",[\"V (mm/min)\", \"P (W)\", \"spot size (mm)\"], [\"width (mm)\", \"powder_cap\", \"wth\"])\n",
    "\n",
    "bounds = torch.tensor([[200, 300, 1], [3000, 2700, 4]])\n",
    "constraints = [(\"gt\", 2.5), (\"gt\", 50), (\"gt\", 6)]\n",
    "\n",
    "algo = alse(X, bounds, output_param, constraints)\n",
    "\n",
    "algo.initialize_model([\"reg\", \"reg\", \"reg\"])"
   ]
  },
  {
   "cell_type": "code",
   "execution_count": null,
   "id": "27fc702b",
   "metadata": {},
   "outputs": [],
   "source": [
    "N=20\n",
    "pred, overlap = algo.get_posterior_grid(N)\n",
    "minus_15, plus_15 = algo.get_test_points(num_points=10, uncertainty=0.15)\n",
    "\n",
    "x=np.linspace(bounds[0][0], bounds[1][0], N)\n",
    "y=np.linspace(bounds[0][1], bounds[1][1], N)\n",
    "z=np.linspace(bounds[0][2], bounds[1][2], N)\n",
    "\n",
    "Xplt, Yplt, Zplt = np.meshgrid(x,y,z)\n",
    "Xplt = torch.from_numpy(Xplt)\n",
    "Yplt = torch.from_numpy(Yplt)\n",
    "Zplt = torch.from_numpy(Zplt)\n",
    "\n",
    "fig = go.Figure(\n",
    "    go.Isosurface(\n",
    "        x=Xplt.flatten(),\n",
    "        y=Yplt.flatten(),\n",
    "        z=Zplt.flatten(),\n",
    "        value=overlap,\n",
    "        isomin=0,\n",
    "        isomax=1,\n",
    "        surface_count=4,  # number of isosurfaces, 2 by default: only min and max\n",
    "        colorbar_nticks=4,  # colorbar ticks correspond to isosurface values\n",
    "        caps=dict(x_show=False, y_show=False),\n",
    "    )\n",
    ")\n",
    "fig.add_trace(\n",
    "    go.Scatter3d(\n",
    "        x=minus_15[:,0],\n",
    "        y=minus_15[:,1],\n",
    "        z=minus_15[:,2],\n",
    "        # text=[f\"{yname[i]} : {value}\" for value in dff[yname[i]]],\n",
    "        mode=\"markers\",\n",
    "    )\n",
    ")\n",
    "fig.add_trace(\n",
    "    go.Scatter3d(\n",
    "        x=plus_15[:,0],\n",
    "        y=plus_15[:,1],\n",
    "        z=plus_15[:,2],\n",
    "        # text=[f\"{yname[i]} : {value}\" for value in dff[yname[i]]],\n",
    "        mode=\"markers\",\n",
    "    )\n",
    ")\n",
    "fig.show()"
   ]
  },
  {
   "cell_type": "code",
   "execution_count": null,
   "id": "6810060b",
   "metadata": {},
   "outputs": [],
   "source": [
    "print(plus_15)"
   ]
  },
  {
   "cell_type": "code",
   "execution_count": null,
   "id": "2f0578c0",
   "metadata": {},
   "outputs": [],
   "source": [
    "print(minus_15)"
   ]
  }
 ],
 "metadata": {
  "kernelspec": {
   "display_name": "Python 3 (ipykernel)",
   "language": "python",
   "name": "python3"
  },
  "language_info": {
   "codemirror_mode": {
    "name": "ipython",
    "version": 3
   },
   "file_extension": ".py",
   "mimetype": "text/x-python",
   "name": "python",
   "nbconvert_exporter": "python",
   "pygments_lexer": "ipython3",
   "version": "3.9.13"
  }
 },
 "nbformat": 4,
 "nbformat_minor": 5
}

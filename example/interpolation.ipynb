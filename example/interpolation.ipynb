{
 "cells": [
  {
   "cell_type": "code",
   "execution_count": 31,
   "metadata": {},
   "outputs": [],
   "source": [
    "from alse.utils import read_excel\n",
    "X_data, width, pow_cap, wth = read_excel(\"D:/Cache/alse/test_data/8_12_data.xlsx\",[\"V (mm/min)\", \"P (W)\", \"spot size (mm)\"], [\"width (mm)\", \"powder_cap\", \"wth\"])"
   ]
  },
  {
   "attachments": {},
   "cell_type": "markdown",
   "metadata": {},
   "source": [
    "20 data points"
   ]
  },
  {
   "attachments": {},
   "cell_type": "markdown",
   "metadata": {},
   "source": [
    "This is the easiest way: using the scipy RBFInterpolator"
   ]
  },
  {
   "cell_type": "code",
   "execution_count": 32,
   "metadata": {},
   "outputs": [],
   "source": [
    "import torch\n",
    "import numpy as np\n",
    "import matplotlib.pyplot as plt\n",
    "from scipy.interpolate import RBFInterpolator"
   ]
  },
  {
   "cell_type": "code",
   "execution_count": 33,
   "metadata": {},
   "outputs": [
    {
     "data": {
      "text/plain": [
       "array([[ 1.78188142, 37.40217606,  7.71515598]])"
      ]
     },
     "execution_count": 33,
     "metadata": {},
     "output_type": "execute_result"
    }
   ],
   "source": [
    "# Generate an object that can interpolate at any X\n",
    "def gen_interp_obj(X, Ys):\n",
    "    allY = torch.cat((width, pow_cap, wth), dim=1)\n",
    "    return RBFInterpolator(X, allY)\n",
    "\n",
    "def get_interp_point(point, interp_obj):\n",
    "    return interp_obj(point)\n",
    "\n",
    "intp = gen_interp_obj(X_data, [width, pow_cap, wth])\n",
    "get_interp_point([[1500, 1500, 2]], intp) # Get all Y's at this point"
   ]
  }
 ],
 "metadata": {
  "kernelspec": {
   "display_name": "Python 3",
   "language": "python",
   "name": "python3"
  },
  "language_info": {
   "codemirror_mode": {
    "name": "ipython",
    "version": 3
   },
   "file_extension": ".py",
   "mimetype": "text/x-python",
   "name": "python",
   "nbconvert_exporter": "python",
   "pygments_lexer": "ipython3",
   "version": "3.10.9"
  },
  "orig_nbformat": 4,
  "vscode": {
   "interpreter": {
    "hash": "1fa163922eb0b3709bbb5d8082b2465c9de796dbaacca80cbaa600e7fff3e4fe"
   }
  }
 },
 "nbformat": 4,
 "nbformat_minor": 2
}

{
 "cells": [
  {
   "cell_type": "code",
   "execution_count": 1,
   "id": "2037ea1f",
   "metadata": {},
   "outputs": [
    {
     "name": "stderr",
     "output_type": "stream",
     "text": [
      "/opt/conda/lib/python3.9/site-packages/gpytorch/lazy/triangular_lazy_tensor.py:124: UserWarning: torch.triangular_solve is deprecated in favor of torch.linalg.solve_triangularand will be removed in a future PyTorch release.\n",
      "torch.linalg.solve_triangular has its arguments reversed and does not return a copy of one of the inputs.\n",
      "X = torch.triangular_solve(B, A).solution\n",
      "should be replaced with\n",
      "X = torch.linalg.solve_triangular(A, B). (Triggered internally at  ../aten/src/ATen/native/BatchLinearAlgebra.cpp:2189.)\n",
      "  res = torch.triangular_solve(right_tensor, self.evaluate(), upper=self.upper).solution\n",
      "/opt/conda/lib/python3.9/site-packages/gpytorch/distributions/multivariate_normal.py:259: NumericalWarning: Negative variance values detected. This is likely due to numerical instabilities. Rounding negative variances up to 1e-06.\n",
      "  warnings.warn(\n",
      "/opt/conda/lib/python3.9/site-packages/gpytorch/distributions/multivariate_normal.py:259: NumericalWarning: Negative variance values detected. This is likely due to numerical instabilities. Rounding negative variances up to 1e-06.\n",
      "  warnings.warn(\n",
      "/opt/conda/lib/python3.9/site-packages/gpytorch/distributions/multivariate_normal.py:259: NumericalWarning: Negative variance values detected. This is likely due to numerical instabilities. Rounding negative variances up to 1e-06.\n",
      "  warnings.warn(\n",
      "/opt/conda/lib/python3.9/site-packages/gpytorch/distributions/multivariate_normal.py:259: NumericalWarning: Negative variance values detected. This is likely due to numerical instabilities. Rounding negative variances up to 1e-06.\n",
      "  warnings.warn(\n"
     ]
    },
    {
     "data": {
      "text/plain": [
       "tensor([[2695.9390,  866.9207],\n",
       "        [2686.9771, 1123.6180],\n",
       "        [2402.9883,  732.0095],\n",
       "        [2379.7268,  985.4222],\n",
       "        [2099.6467,  600.0000]])"
      ]
     },
     "execution_count": 1,
     "metadata": {},
     "output_type": "execute_result"
    }
   ],
   "source": [
    "import matplotlib.pyplot as plt\n",
    "import torch\n",
    "from torch.quasirandom import SobolEngine\n",
    "\n",
    "import numpy as np\n",
    "from alse.accuracy import get_accuracy\n",
    "from alse.utils import identify_samples_which_satisfy_constraints, normalize, unnormalize\n",
    "from mpl_toolkits import mplot3d\n",
    "# from matplotlib import cm\n",
    "from alse.utils import read_excel\n",
    "from alse.alse import alse\n",
    "import copy\n",
    "tkwargs = {\n",
    "    \"device\": torch.device(\"cpu\"),\n",
    "    \"dtype\": torch.float,\n",
    "}\n",
    "\n",
    "X, width, pow_cap, wth = read_excel(\"../test_data/trial_NaN.xlsx\",[\"P (W)\", \"V (mm/min)\"], [\"widths avg (mm)\", \"powder capt %\", \"wth\"])\n",
    "bounds = torch.tensor([[900, 600], [2700, 1800]])\n",
    "constraints = [(\"gt\", 2.5), (\"gt\", 0.65), (\"gt\", 6)]\n",
    "\n",
    "algo = alse(X, bounds, [width, pow_cap, wth], constraints)\n",
    "\n",
    "algo.initialize_model([\"reg\", \"reg\", \"reg\"])\n",
    "\n",
    "algo.next_test_points(5)"
   ]
  },
  {
   "cell_type": "code",
   "execution_count": 2,
   "id": "3f18aec7",
   "metadata": {},
   "outputs": [
    {
     "data": {
      "text/plain": [
       "tensor([1.2159e-08, 2.1221e-01, 4.2426e-01, 4.8713e-01, 5.9962e-01, 6.9394e-01,\n",
       "        8.4177e-01, 6.7399e-01, 3.5269e-01, 1.1068e-03, 1.2722e-01, 2.7918e-01,\n",
       "        3.8958e-01, 4.7199e-01, 5.5411e-01, 6.6579e-01, 7.1956e-01, 3.2157e-01,\n",
       "        8.7797e-02, 2.3046e-01, 1.7695e-01, 2.6297e-01, 3.6705e-01, 3.8757e-01,\n",
       "        4.4224e-01, 5.7679e-01, 6.8863e-01, 2.9551e-01, 8.4472e-02, 2.8108e-02,\n",
       "        1.6197e-01, 2.3481e-01, 2.7950e-01, 3.7271e-01, 3.8537e-01, 4.6461e-01,\n",
       "        4.5935e-01, 1.6420e-01, 1.0743e-01, 2.2058e-01, 1.2164e-01, 1.6430e-01,\n",
       "        2.2828e-01, 2.8204e-01, 2.9673e-01, 3.4657e-01, 4.0433e-01, 3.2559e-01,\n",
       "        2.3012e-01, 5.9648e-02, 9.2310e-02, 1.1600e-01, 1.7823e-01, 2.1950e-01,\n",
       "        2.3728e-01, 2.6989e-01, 2.5636e-01, 3.2564e-01, 2.9485e-01, 4.0255e-01,\n",
       "        6.7563e-02, 1.0098e-01, 1.1516e-01, 1.5899e-01, 1.7634e-01, 1.7602e-01,\n",
       "        1.6742e-01, 1.7408e-01, 2.6686e-01, 3.9351e-01, 4.5652e-02, 5.9881e-02,\n",
       "        1.0223e-01, 1.1359e-01, 1.3644e-01, 1.1336e-01, 1.1828e-01, 1.2475e-01,\n",
       "        1.8805e-01, 3.1806e-01, 1.5640e-02, 3.0825e-02, 6.2184e-02, 9.5270e-02,\n",
       "        7.9439e-02, 8.3763e-02, 7.4119e-02, 9.1811e-02, 1.0306e-01, 1.9122e-01,\n",
       "        2.2796e-09, 1.9735e-02, 5.9719e-02, 5.8997e-02, 5.4003e-02, 4.6417e-02,\n",
       "        4.6160e-02, 6.6953e-02, 5.4670e-02, 6.3093e-04],\n",
       "       grad_fn=<DivBackward0>)"
      ]
     },
     "execution_count": 2,
     "metadata": {},
     "output_type": "execute_result"
    }
   ],
   "source": [
    "algo.get_acq_val_grid()"
   ]
  }
 ],
 "metadata": {
  "kernelspec": {
   "display_name": "Python 3.9.13 ('base')",
   "language": "python",
   "name": "python3"
  },
  "language_info": {
   "codemirror_mode": {
    "name": "ipython",
    "version": 3
   },
   "file_extension": ".py",
   "mimetype": "text/x-python",
   "name": "python",
   "nbconvert_exporter": "python",
   "pygments_lexer": "ipython3",
   "version": "3.9.13"
  },
  "vscode": {
   "interpreter": {
    "hash": "d4d1e4263499bec80672ea0156c357c1ee493ec2b1c70f0acce89fc37c4a6abe"
   }
  }
 },
 "nbformat": 4,
 "nbformat_minor": 5
}

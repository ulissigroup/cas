{
 "cells": [
  {
   "cell_type": "code",
   "execution_count": null,
   "id": "b4aa1670",
   "metadata": {},
   "outputs": [],
   "source": [
    "import matplotlib.pyplot as plt\n",
    "import torch\n",
    "from torch.quasirandom import SobolEngine\n",
    "import pandas as pd\n",
    "import numpy as np\n",
    "from alse.utils import identify_samples_which_satisfy_constraints, normalize, unnormalize\n",
    "from mpl_toolkits import mplot3d\n",
    "# from matplotlib import cm\n",
    "# from alse.utils import read_excel\n",
    "from alse.alse_workflow import alse\n",
    "import copy"
   ]
  },
  {
   "cell_type": "code",
   "execution_count": null,
   "id": "bfa9a173",
   "metadata": {},
   "outputs": [],
   "source": [
    "def get_energy_density(v, p, area):\n",
    "    return p/(v*area)\n"
   ]
  },
  {
   "cell_type": "code",
   "execution_count": null,
   "id": "e83a2442",
   "metadata": {},
   "outputs": [],
   "source": [
    "# Velocity (200-3000), Power (300-2700), Spot Size (1-4)\n",
    "bounds = torch.tensor([[200, 300, 1], [3000, 2700, 4]])\n",
    "# initial_training_points = unnormalize(torch.rand(10, 3), bounds)\n",
    "\n",
    "# v = initial_training_points[:, 0]/60\n",
    "# p = initial_training_points[:, 1]\n",
    "# area = (initial_training_points[:, 2]/2)**2 * np.pi\n",
    "\n",
    "# df = pd.DataFrame(initial_training_points.numpy())\n",
    "# energy_density = get_energy_density(v, p, area)\n",
    "# df[\"energy_density\"] = energy_density.numpy()\n",
    "# df = df[~(df['energy_density'] <5)]\n",
    "# df = df[~(df['energy_density'] >100)]  \n",
    "# df.columns = ['V', 'P', 'spot size', 'energy density']\n",
    "# df = df.round({'V': 0, 'P': 0, 'spot size': 1})\n",
    "# df"
   ]
  },
  {
   "cell_type": "code",
   "execution_count": null,
   "id": "7e0076ce",
   "metadata": {},
   "outputs": [],
   "source": [
    "tkwargs = {\n",
    "    \"device\": torch.device(\"cpu\"),\n",
    "    \"dtype\": torch.float,\n",
    "}\n",
    "def read_excel(file_path, x_names, y_names):\n",
    "                                                        # NaN to 0\n",
    "    consolidated_data = pd.read_excel(f\"{file_path}\").fillna(0).loc\n",
    "    print(consolidated_data[0][0])\n",
    "    # Input parameters\n",
    "    input_param = []\n",
    "    for xname in x_names:\n",
    "        input_param.append(torch.tensor(consolidated_data[:, f\"{xname}\"]))\n",
    "\n",
    "    # Output parameters\n",
    "    output_param = []\n",
    "    for yname in y_names:\n",
    "        output_param.append((torch.tensor((consolidated_data[:, f\"{yname}\"]))).unsqueeze(-1))\n",
    "\n",
    "    X = torch.stack(tuple(input_param), -1)\n",
    "    return X.double(), *output_param\n",
    "          # Need .double() !\n",
    "          # Otherwise if sheet contains int can cause problem"
   ]
  },
  {
   "cell_type": "code",
   "execution_count": null,
   "id": "38ad5d65",
   "metadata": {},
   "outputs": [],
   "source": [
    "file_path = \"../test_data/8_12_data.xlsx\"\n",
    "df = pd.read_excel(file_path).fillna(0)\n",
    "x_names = [\"V (mm/min)\", \"P (W)\", \"spot size (mm)\"]\n",
    "y_names = [\"width (mm)\", \"powder_cap\", \"wth\"]\n",
    "\n",
    "input_param = []\n",
    "for xname in x_names:\n",
    "    input_param.append(torch.tensor(df[xname]))\n",
    "\n",
    "output_param = []\n",
    "for yname in y_names:\n",
    "    output_param.append(torch.tensor(df[yname]).unsqueeze(-1))\n",
    "X = torch.stack(tuple(input_param), -1)"
   ]
  },
  {
   "cell_type": "code",
   "execution_count": null,
   "id": "080391f7",
   "metadata": {},
   "outputs": [],
   "source": [
    "print(X.shape[1])"
   ]
  },
  {
   "cell_type": "code",
   "execution_count": null,
   "id": "7e1a0a37",
   "metadata": {},
   "outputs": [],
   "source": [
    "    \n",
    "X, width, pow_cap, wth = read_excel(\"../test_data/8_12_data.xlsx\",[\"V (mm/min)\", \"P (W)\", \"spot size (mm)\"], [\"width (mm)\", \"powder_cap\", \"wth\"])\n",
    "\n",
    "# X, Y = read_excel(\"/home/jovyan/alse/test_data/8_4_data.xlsx\",[\"V (mm/min)\", \"P (W)\"], [\"width (mm)\", \"powder_cap\", \"wth\"])\n",
    "\n",
    "bounds = torch.tensor([[200, 300, 1], [3000, 2700, 4]])\n",
    "constraints = [(\"gt\", 2.5), (\"gt\", 50), (\"gt\", 6)]\n",
    "\n",
    "# algo = alse(X, bounds, [width, pow_cap, wth], constraints)\n",
    "algo = alse(X, bounds, output_param, constraints)\n",
    "\n",
    "algo.initialize_model([\"reg\", \"reg\", \"reg\"])"
   ]
  },
  {
   "cell_type": "code",
   "execution_count": null,
   "id": "c75ed04a",
   "metadata": {},
   "outputs": [],
   "source": [
    "new_pts = algo.next_test_points(1)\n",
    "print(new_pts)"
   ]
  },
  {
   "cell_type": "code",
   "execution_count": null,
   "id": "2037ea1f",
   "metadata": {},
   "outputs": [],
   "source": [
    "df = pd.DataFrame(new_pts.numpy())\n",
    "df"
   ]
  },
  {
   "cell_type": "code",
   "execution_count": null,
   "id": "56139cbf",
   "metadata": {},
   "outputs": [],
   "source": [
    "%matplotlib notebook\n",
    "\n",
    "N=50\n",
    "x=np.linspace(bounds[0][0], bounds[1][0], N)\n",
    "y=np.linspace(bounds[0][1], bounds[1][1], N)\n",
    "z=np.linspace(bounds[0][2], bounds[1][2], N)\n",
    "\n",
    "Xplt, Yplt, Zplt = np.meshgrid(x,y,z)\n",
    "Xplt = torch.from_numpy(Xplt)\n",
    "Yplt = torch.from_numpy(Yplt)\n",
    "Zplt = torch.from_numpy(Zplt)\n",
    "\n",
    "xplt = torch.stack(\n",
    "    (\n",
    "        torch.reshape(Xplt, (Xplt.shape[0] * Xplt.shape[1]* Xplt.shape[2],)),\n",
    "        torch.reshape(Yplt, (Yplt.shape[0] * Yplt.shape[1]* Yplt.shape[2],)),\n",
    "        torch.reshape(Zplt, (Zplt.shape[0] * Zplt.shape[1]* Zplt.shape[2],)),\n",
    "    ),\n",
    "    dim=1,\n",
    ")\n",
    "for model in algo.list_of_models:\n",
    "    model.eval()\n",
    "    \n",
    "\n",
    "# Your 4dimension, only for example (use yours)\n",
    "predicted_width = algo.list_of_models[0](normalize(xplt.float(), bounds)).loc.detach().reshape(N,N,N)\n",
    "predicted_pow_cap = algo.list_of_models[1](normalize(xplt.float(), bounds)).loc.detach().reshape(N,N,N)\n",
    "predicted_wth = algo.list_of_models[2](normalize(xplt.float(), bounds)).loc.detach().reshape(N,N,N)\n",
    "est_width = predicted_width > 2.5\n",
    "est_pow_cap = predicted_pow_cap > 0.5\n",
    "est_wth = predicted_wth > 6\n",
    "printable = (est_width & est_pow_cap & est_wth)\n",
    "\n",
    "act_width = width > 2.5\n",
    "act_pow_cap = pow_cap > 0.5\n",
    "act_wth = wth > 6\n",
    "act_printable = (act_width & act_pow_cap & act_wth)"
   ]
  },
  {
   "cell_type": "code",
   "execution_count": null,
   "id": "99e18f1c",
   "metadata": {},
   "outputs": [],
   "source": [
    "X[:,0][act_printable.squeeze()]"
   ]
  },
  {
   "cell_type": "code",
   "execution_count": null,
   "id": "fbfe18a5",
   "metadata": {
    "scrolled": false
   },
   "outputs": [],
   "source": [
    "%matplotlib notebook\n",
    "\n",
    "N=50\n",
    "x=np.linspace(bounds[0][0], bounds[1][0], N)\n",
    "y=np.linspace(bounds[0][1], bounds[1][1], N)\n",
    "z=np.linspace(bounds[0][2], bounds[1][2], N)\n",
    "\n",
    "Xplt, Yplt, Zplt = np.meshgrid(x,y,z)\n",
    "Xplt = torch.from_numpy(Xplt)\n",
    "Yplt = torch.from_numpy(Yplt)\n",
    "Zplt = torch.from_numpy(Zplt)\n",
    "\n",
    "xplt = torch.stack(\n",
    "    (\n",
    "        torch.reshape(Xplt, (Xplt.shape[0] * Xplt.shape[1]* Xplt.shape[2],)),\n",
    "        torch.reshape(Yplt, (Yplt.shape[0] * Yplt.shape[1]* Yplt.shape[2],)),\n",
    "        torch.reshape(Zplt, (Zplt.shape[0] * Zplt.shape[1]* Zplt.shape[2],)),\n",
    "    ),\n",
    "    dim=1,\n",
    ")\n",
    "for model in algo.list_of_models:\n",
    "    model.eval()\n",
    "    \n",
    "\n",
    "# Your 4dimension, only for example (use yours)\n",
    "predicted_width = algo.list_of_models[0](normalize(xplt.float(), bounds)).loc.detach().reshape(N,N,N)\n",
    "predicted_pow_cap = algo.list_of_models[1](normalize(xplt.float(), bounds)).loc.detach().reshape(N,N,N)\n",
    "predicted_wth = algo.list_of_models[2](normalize(xplt.float(), bounds)).loc.detach().reshape(N,N,N)\n",
    "est_width = predicted_width > 2.5\n",
    "est_pow_cap = predicted_pow_cap > 0.5\n",
    "est_wth = predicted_wth > 6\n",
    "printable = (est_width & est_pow_cap & est_wth)\n",
    "\n",
    "act_width = width > 2.5\n",
    "act_pow_cap = pow_cap > 0.5\n",
    "act_wth = wth > 6\n",
    "act_printable = (act_width & act_pow_cap & act_wth)\n",
    "# Creating figure\n",
    "fig = plt.figure()\n",
    "ax = plt.axes(projection=\"3d\")\n",
    "\n",
    "# Creating plot\n",
    "ax.scatter3D(Xplt[printable], Yplt[printable], Zplt[printable], alpha=0.5, marker='.')\n",
    "ax.scatter3D(X[:,0][act_printable.squeeze()], X[:,1][act_printable.squeeze()], X[:,2][act_printable.squeeze()], marker='x', color = 'g')\n",
    "ax.scatter3D(X[:,0][~act_printable.squeeze()], X[:,1][~act_printable.squeeze()], X[:,2][~act_printable.squeeze()], marker='x', color = 'r')\n",
    "\n",
    "ax.set_xlabel(\"velocity (mm/min)\")\n",
    "ax.set_ylabel(\"power (W)\")\n",
    "ax.set_zlabel(\"spot size (mm)\")\n",
    "plt.show()"
   ]
  },
  {
   "cell_type": "code",
   "execution_count": null,
   "id": "e0382d15",
   "metadata": {},
   "outputs": [],
   "source": [
    "predicted_width = algo.list_of_models[0](normalize(xplt.float(), bounds)).loc.detach()\n",
    "predicted_pow_cap = algo.list_of_models[1](normalize(xplt.float(), bounds)).loc.detach()\n",
    "predicted_wth = algo.list_of_models[2](normalize(xplt.float(), bounds)).loc.detach()\n",
    "\n",
    "uncertainty = 0.03\n",
    "desired_width1 = predicted_width > 2.75*(1-uncertainty)\n",
    "desired_width2 = predicted_width < 2.75*(1+uncertainty)\n",
    "\n",
    "desired_wth1 = predicted_wth > (2.75/0.2)*(1-uncertainty)\n",
    "desired_wth2 = predicted_wth < (2.75/0.2)*(1+uncertainty)\n",
    "\n",
    "printable = (desired_width1 & desired_width2 & desired_wth1 & desired_wth2)\n",
    "desired_test_point = xplt[printable]\n",
    "# xplt = torch.stack(\n",
    "#     (\n",
    "#         torch.reshape(Xplt, (Xplt.shape[0] * Xplt.shape[1]* Xplt.shape[2],)),\n",
    "#         torch.reshape(Yplt, (Yplt.shape[0] * Yplt.shape[1]* Yplt.shape[2],)),\n",
    "#         torch.reshape(Zplt, (Zplt.shape[0] * Zplt.shape[1]* Zplt.shape[2],)),\n",
    "#     ),\n",
    "#     dim=1,\n",
    "# )"
   ]
  },
  {
   "cell_type": "code",
   "execution_count": null,
   "id": "dcf7a3ef",
   "metadata": {},
   "outputs": [],
   "source": [
    "df = pd.DataFrame(desired_test_point.numpy())\n",
    "df.columns = ['V', 'P', 'spot size']\n",
    "df['predicted_width'] = predicted_width[printable]\n",
    "df['predicted_height'] = predicted_width[printable]/predicted_wth[printable]\n",
    "df = df.round({'V': -1, 'P': 0, 'predicted_width':2, 'spot size': 3, 'predicted_height':2})\n",
    "\n",
    "df"
   ]
  },
  {
   "cell_type": "markdown",
   "id": "ff5c917e",
   "metadata": {},
   "source": [
    "Accuracy Demo"
   ]
  },
  {
   "cell_type": "code",
   "execution_count": null,
   "id": "b182d1ae",
   "metadata": {},
   "outputs": [],
   "source": [
    "'''\n",
    "Code below is for demo of the method\n",
    "Actual function has been implemented\n",
    "in alse_workflow.py\n",
    "'''\n",
    "uncertainty = 0.1\n",
    "\n",
    "a1 = predicted_width > constraints[0][1]*(1-uncertainty)\n",
    "a2 = predicted_width > constraints[0][1]*(1+uncertainty)\n",
    "\n",
    "b1 = predicted_pow_cap > constraints[1][1]*(1-uncertainty)\n",
    "b2 = predicted_pow_cap > constraints[1][1]*(1+uncertainty)\n",
    "\n",
    "c1 = predicted_wth > constraints[2][1]*(1-uncertainty)\n",
    "c2 = predicted_wth > constraints[2][1]*(1+uncertainty)\n",
    "\n",
    "overlap1 = a1 & b1 & c1\n",
    "overlap2 = ~(a2 & b2 & c2)\n",
    "mask = (overlap1 & overlap2).unsqueeze(-1)\n",
    "\n",
    "thick_overlap = torch.masked_select(xplt, mask).reshape(mask.sum(), xplt.shape[1])"
   ]
  },
  {
   "cell_type": "code",
   "execution_count": null,
   "id": "48b455a8",
   "metadata": {},
   "outputs": [],
   "source": [
    "def get_test_points(candidates, num_points):\n",
    "    return candidates[torch.randint(candidates.shape[0], (num_points,))]\n",
    "\n",
    "test_points = get_test_points(thick_overlap, 10)\n",
    "test_points"
   ]
  },
  {
   "cell_type": "code",
   "execution_count": null,
   "id": "7a4008ee",
   "metadata": {},
   "outputs": [],
   "source": [
    "import plotly.graph_objects as go\n",
    "import plotly.express as px\n",
    "'''\n",
    "  *Proof that the above method works\n",
    "   Overlap is a surface with thickness\n",
    "'''\n",
    "fig = go.Figure(data=[go.Scatter3d(x=thick_overlap[:,0], y=thick_overlap[:,1], z=thick_overlap[:,2], mode='markers', marker=dict(size = 2)),\n",
    "                      go.Scatter3d(x=test_points[:,0], y=test_points[:,1], z=test_points[:,2],mode='markers', marker=dict(color='green', size = 5))])\n",
    "\n",
    "fig.update_layout(\n",
    "    autosize=False,\n",
    "    width=1000,\n",
    "    height=1000,\n",
    "    title = go.layout.Title(text='Overlap'),\n",
    "    scene=dict(xaxis_title='Velocity', \n",
    "                yaxis_title='Power',\n",
    "                zaxis_title='Spot Size',\n",
    "    xaxis = dict(nticks=5, range=[200,3000],),\n",
    "    yaxis = dict(nticks=5, range=[300,2700],),\n",
    "    zaxis = dict(nticks=5, range=[1,4],),)\n",
    ")\n",
    "fig.show()"
   ]
  },
  {
   "cell_type": "code",
   "execution_count": null,
   "id": "3bbf475e",
   "metadata": {},
   "outputs": [],
   "source": [
    "algo.get_test_points(num_points=10, uncertainty=0.1)"
   ]
  }
 ],
 "metadata": {
  "kernelspec": {
   "display_name": "Python 3.10.7 64-bit",
   "language": "python",
   "name": "python3"
  },
  "language_info": {
   "codemirror_mode": {
    "name": "ipython",
    "version": 3
   },
   "file_extension": ".py",
   "mimetype": "text/x-python",
   "name": "python",
   "nbconvert_exporter": "python",
   "pygments_lexer": "ipython3",
   "version": "3.10.7"
  },
  "vscode": {
   "interpreter": {
    "hash": "1fa163922eb0b3709bbb5d8082b2465c9de796dbaacca80cbaa600e7fff3e4fe"
   }
  }
 },
 "nbformat": 4,
 "nbformat_minor": 5
}

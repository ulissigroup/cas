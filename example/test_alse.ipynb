{
 "cells": [
  {
   "cell_type": "code",
   "execution_count": 23,
   "id": "2037ea1f",
   "metadata": {},
   "outputs": [
    {
     "data": {
      "text/plain": [
       "tensor([[2626.6777, 2084.8844,    3.7802]], dtype=torch.float64)"
      ]
     },
     "execution_count": 23,
     "metadata": {},
     "output_type": "execute_result"
    }
   ],
   "source": [
    "import matplotlib.pyplot as plt\n",
    "import torch\n",
    "from torch.quasirandom import SobolEngine\n",
    "\n",
    "import numpy as np\n",
    "from alse.utils import identify_samples_which_satisfy_constraints, normalize, unnormalize\n",
    "from mpl_toolkits import mplot3d\n",
    "# from matplotlib import cm\n",
    "from alse.utils import read_excel\n",
    "from alse.alse import alse\n",
    "import copy\n",
    "tkwargs = {\n",
    "    \"device\": torch.device(\"cpu\"),\n",
    "    \"dtype\": torch.float,\n",
    "}\n",
    "\n",
    "X, width, pow_cap, wth = read_excel(\"../test_data/8_12_data.xlsx\",[\"P (W)\", \"V (mm/min)\", \"spot size (mm)\"], [\"width (mm)\", \"powder_cap\", \"wth\"])\n",
    "bounds = torch.tensor([[900, 600, 1], [2700, 2200, 4]])\n",
    "constraints = [(\"gt\", 2.5), (\"gt\", 0.65), (\"gt\", 6)]\n",
    "\n",
    "algo = alse(X, bounds, [width, pow_cap, wth], constraints)\n",
    "\n",
    "algo.initialize_model([\"reg\", \"reg\", \"reg\"])\n",
    "\n",
    "algo.next_test_points(1)"
   ]
  },
  {
   "cell_type": "code",
   "execution_count": 24,
   "id": "d0ecc690",
   "metadata": {},
   "outputs": [],
   "source": [
    "%matplotlib widget"
   ]
  },
  {
   "cell_type": "markdown",
   "id": "fa1c0a73",
   "metadata": {},
   "source": [
    "Normalized grid"
   ]
  },
  {
   "cell_type": "code",
   "execution_count": 25,
   "id": "698acc15",
   "metadata": {},
   "outputs": [],
   "source": [
    "from alse.accuracy import gen_test_point_for_accuracy\n",
    "N = 100\n",
    "Xplt, Yplt, Zplt = torch.meshgrid(\n",
    "    torch.linspace(0, 1, N, **tkwargs), \n",
    "    torch.linspace(0, 1, N, **tkwargs),\n",
    "    torch.linspace(0, 1, N, **tkwargs),\n",
    "    indexing='xy',\n",
    ")\n",
    "xplt = torch.stack(\n",
    "(\n",
    "    torch.reshape(Xplt, (N**3,)),\n",
    "    torch.reshape(Yplt, (N**3,)),\n",
    "    torch.reshape(Zplt, (N**3,)),\n",
    "),\n",
    "dim=1,\n",
    ")"
   ]
  },
  {
   "cell_type": "code",
   "execution_count": 26,
   "id": "6205a7ef",
   "metadata": {},
   "outputs": [],
   "source": [
    "a = algo.list_of_models[0](xplt).loc.detach() > 2.5\n",
    "b = algo.list_of_models[1](xplt).loc.detach() > 0.65\n",
    "c = algo.list_of_models[2](xplt).loc.detach() > 6\n",
    "pos_overlap = (a & b & c).unsqueeze(-1)"
   ]
  },
  {
   "cell_type": "markdown",
   "id": "7a308c29",
   "metadata": {},
   "source": [
    "Actual grid of parameter space"
   ]
  },
  {
   "cell_type": "code",
   "execution_count": 27,
   "id": "47bb7848",
   "metadata": {},
   "outputs": [],
   "source": [
    "N = 100\n",
    "Xplt, Yplt, Zplt = torch.meshgrid(\n",
    "    torch.linspace(900, 2700, N, **tkwargs), \n",
    "    torch.linspace(600, 2200, N, **tkwargs),\n",
    "    torch.linspace(1, 4, N, **tkwargs),\n",
    "    indexing='xy',\n",
    ")\n",
    "xplt = torch.stack(\n",
    "(\n",
    "    torch.reshape(Xplt, (N**3,)),\n",
    "    torch.reshape(Yplt, (N**3,)),\n",
    "    torch.reshape(Zplt, (N**3,)),\n",
    "),\n",
    "dim=1,\n",
    ")"
   ]
  },
  {
   "cell_type": "code",
   "execution_count": 28,
   "id": "c9638666",
   "metadata": {},
   "outputs": [],
   "source": [
    "a, b = gen_test_point_for_accuracy(pos_overlap, xplt, 12)"
   ]
  },
  {
   "cell_type": "markdown",
   "id": "5658d228",
   "metadata": {},
   "source": [
    "In bound test points"
   ]
  },
  {
   "cell_type": "code",
   "execution_count": 29,
   "id": "19c05666",
   "metadata": {},
   "outputs": [
    {
     "data": {
      "text/plain": [
       "tensor([[2.2091e+03, 2.1838e+03, 3.1515e+00],\n",
       "        [9.7273e+02, 1.8444e+03, 3.6061e+00],\n",
       "        [1.7545e+03, 9.0707e+02, 3.9394e+00],\n",
       "        [2.0818e+03, 1.5535e+03, 1.0909e+00],\n",
       "        [2.1545e+03, 1.3434e+03, 3.0909e+00],\n",
       "        [1.6636e+03, 1.2788e+03, 3.4848e+00]])"
      ]
     },
     "execution_count": 29,
     "metadata": {},
     "output_type": "execute_result"
    }
   ],
   "source": [
    "a"
   ]
  },
  {
   "cell_type": "markdown",
   "id": "e74fb72c",
   "metadata": {},
   "source": [
    "Out of bound test points"
   ]
  },
  {
   "cell_type": "code",
   "execution_count": 30,
   "id": "5003ae7b",
   "metadata": {},
   "outputs": [
    {
     "data": {
      "text/plain": [
       "tensor([[1.5182e+03, 1.6343e+03, 1.3333e+00],\n",
       "        [1.9000e+03, 1.5374e+03, 1.4848e+00],\n",
       "        [1.7000e+03, 7.7778e+02, 1.4242e+00],\n",
       "        [1.0818e+03, 1.4889e+03, 2.0909e+00],\n",
       "        [9.1818e+02, 1.2465e+03, 1.6364e+00],\n",
       "        [1.8455e+03, 6.3232e+02, 1.2121e+00]])"
      ]
     },
     "execution_count": 30,
     "metadata": {},
     "output_type": "execute_result"
    }
   ],
   "source": [
    "b"
   ]
  },
  {
   "cell_type": "markdown",
   "id": "5dd8ae4e",
   "metadata": {},
   "source": [
    "Ignore everything below"
   ]
  },
  {
   "cell_type": "code",
   "execution_count": null,
   "id": "3f18aec7",
   "metadata": {},
   "outputs": [],
   "source": [
    "# acq_val = algo.get_acq_val_grid(25, 3).round(decimals=4).detach()"
   ]
  },
  {
   "cell_type": "markdown",
   "id": "a888b4aa",
   "metadata": {},
   "source": [
    "Posterior"
   ]
  },
  {
   "cell_type": "markdown",
   "id": "acd58262",
   "metadata": {},
   "source": [
    "Surface Plot"
   ]
  },
  {
   "cell_type": "code",
   "execution_count": null,
   "id": "747809f2",
   "metadata": {},
   "outputs": [],
   "source": [
    "# N1, N2 = 100, 100\n",
    "# Xplt, Yplt = torch.meshgrid(\n",
    "#     torch.linspace(0, 1, N1, **tkwargs), \n",
    "#     torch.linspace(0, 1, N2, **tkwargs),\n",
    "#     indexing='xy',\n",
    "# )\n",
    "# xplt = torch.stack(\n",
    "# (\n",
    "#     torch.reshape(Xplt, (Xplt.shape[0] * Xplt.shape[1],)),\n",
    "#     torch.reshape(Yplt, (Yplt.shape[0] * Yplt.shape[1],)),\n",
    "#     torch.ones(N1*N2)*0/100\n",
    "# ),\n",
    "# dim=1,\n",
    "# )\n",
    "# xp, yp = torch.meshgrid(\n",
    "#     torch.linspace(900, 2700, N1, **tkwargs), \n",
    "#     torch.linspace(600, 2200, N2, **tkwargs),\n",
    "#     indexing='xy',\n",
    "# )"
   ]
  },
  {
   "cell_type": "code",
   "execution_count": null,
   "id": "73e41ac7",
   "metadata": {},
   "outputs": [],
   "source": [
    "# for i in range(120):\n",
    "#     spot_size = round(i*3/120+1, 1)\n",
    "\n",
    "#     xplt = torch.stack(\n",
    "#     (\n",
    "#         torch.reshape(Xplt, (Xplt.shape[0] * Xplt.shape[1],)),\n",
    "#         torch.reshape(Yplt, (Yplt.shape[0] * Yplt.shape[1],)),\n",
    "#         torch.ones(N1*N2)*i/120\n",
    "#     ),\n",
    "#     dim=1,\n",
    "#     )\n",
    "    \n",
    "#     # predicted_width = algo.list_of_models[0](xplt).loc.detach().reshape(100,100)\n",
    "#     # predicted_pow_cap = algo.list_of_models[1](xplt).loc.detach().reshape(100,100)\n",
    "#     predicted_wth = algo.list_of_models[2](xplt).loc.detach().reshape(100,100)\n",
    "#     fig = plt.figure(figsize=(10, 10))\n",
    "#     ax = plt.axes(projection='3d')\n",
    "\n",
    "#     ax.set_xlabel(\"Power\")\n",
    "#     ax.set_ylabel(\"Velocity\")\n",
    "#     # ax.set_zlabel(\"Predicted Width\")\n",
    "#     ax.set_zlabel(\"Predicted wth\")\n",
    "#     img = ax.plot_surface(xp, yp, predicted_wth, cmap='coolwarm')\n",
    "#     ax.set_title(f'Spot size: {spot_size}mm')\n",
    "#     ax.set_xlim(900, 2700)\n",
    "#     ax.set_ylim(600, 2200)\n",
    "#     ax.set_zlim(4, 24)\n",
    "\n",
    "#     # cbar = fig.colorbar(img, fraction=0.025)\n",
    "#     # cbar.set_label('Width', rotation=270)\n",
    "#     # plt.show()\n",
    "#     plt.savefig(f'./img/{i}.png', dpi=300)\n",
    "#     plt.close()"
   ]
  },
  {
   "cell_type": "markdown",
   "id": "acb8e904",
   "metadata": {},
   "source": [
    "Scatter plot"
   ]
  },
  {
   "cell_type": "code",
   "execution_count": null,
   "id": "8b02ff0d",
   "metadata": {},
   "outputs": [],
   "source": [
    "# N = 5\n",
    "# Xplt, Yplt, Zplt= torch.meshgrid(\n",
    "#     torch.linspace(0, 1, N, **tkwargs), \n",
    "#     torch.linspace(0, 1, N, **tkwargs),\n",
    "#     torch.linspace(0, 1, N, **tkwargs),\n",
    "#     indexing='xy',\n",
    "# )\n",
    "# xplt = torch.stack(\n",
    "#     (\n",
    "#         torch.reshape(Xplt, (Xplt.shape[0] * Xplt.shape[1] * Xplt.shape[2],)),\n",
    "#         torch.reshape(Yplt, (Yplt.shape[0] * Yplt.shape[1] * Yplt.shape[2],)),\n",
    "#         torch.reshape(Zplt, (Zplt.shape[0] * Zplt.shape[1] * Zplt.shape[2],)),\n",
    "#     ),\n",
    "#     dim=1,\n",
    "# )"
   ]
  },
  {
   "cell_type": "code",
   "execution_count": null,
   "id": "9bf9af8e",
   "metadata": {},
   "outputs": [],
   "source": [
    "# predicted_width = algo.list_of_models[2](xplt).loc.detach().reshape(N,N,N)"
   ]
  },
  {
   "cell_type": "code",
   "execution_count": null,
   "id": "16108276",
   "metadata": {},
   "outputs": [],
   "source": [
    "# N = 5\n",
    "# Xplt, Yplt, Zplt= torch.meshgrid(\n",
    "#     torch.linspace(900, 2700, N, **tkwargs), \n",
    "#     torch.linspace(600, 2200, N, **tkwargs),\n",
    "#     torch.linspace(1, 4, N, **tkwargs),\n",
    "#     indexing='xy',\n",
    "# )"
   ]
  },
  {
   "cell_type": "code",
   "execution_count": null,
   "id": "c544c8ae",
   "metadata": {},
   "outputs": [],
   "source": [
    "# fig = plt.figure(figsize=(10, 10))\n",
    "# ax = plt.axes(projection='3d')\n",
    "\n",
    "# ax.set_xlabel(\"Power\")\n",
    "# ax.set_ylabel(\"Velocity\")\n",
    "# ax.set_zlabel(\"Spot Size\")\n",
    "# # img = ax.bar3d(X[:,0], X[:,1], 0, 20, 20, 1, shade=True)\n",
    "# # img = ax.contourf3D(Xplt, Yplt, predicted_width, 800, cmap='coolwarm')\n",
    "# # img = ax.scatter(Xplt, Yplt, Zplt, s=size_map)\n",
    "# img = ax.scatter(Xplt, Yplt, Zplt, c=predicted_width, s=80)\n",
    "# # ax.set_title(f'Spot size: {spot_size}mm')\n",
    "# ax.set_xlim(900, 2700)\n",
    "# ax.set_ylim(600, 2200)\n",
    "# ax.set_zlim(1, 4)\n",
    "\n",
    "# cbar = fig.colorbar(img, fraction=0.025)\n",
    "# cbar.set_label('wth', rotation=270)\n",
    "# # plt.show()"
   ]
  },
  {
   "cell_type": "code",
   "execution_count": null,
   "id": "494da168",
   "metadata": {},
   "outputs": [],
   "source": [
    "# size_map = (predicted_width-4.9)*40"
   ]
  },
  {
   "cell_type": "code",
   "execution_count": null,
   "id": "742cd33c",
   "metadata": {},
   "outputs": [],
   "source": [
    "# fig = plt.figure(figsize=(10, 10))\n",
    "# ax = plt.axes(projection='3d')\n",
    "\n",
    "# ax.set_xlabel(\"Power\")\n",
    "# ax.set_ylabel(\"Velocity\")\n",
    "# ax.set_zlabel(\"Spot Size\")\n",
    "# # img = ax.bar3d(X[:,0], X[:,1], 0, 20, 20, 1, shade=True)\n",
    "# # img = ax.contourf3D(Xplt, Yplt, predicted_width, 800, cmap='coolwarm')\n",
    "# img = ax.scatter(Xplt, Yplt, Zplt, s=size_map, c='k')\n",
    "# # img = ax.scatter(Xplt, Yplt, Zplt, c=predicted_width, s=80)\n",
    "# # ax.set_title(f'Spot size: {spot_size}mm')\n",
    "# ax.set_xlim(900, 2700)\n",
    "# ax.set_ylim(600, 2200)\n",
    "# ax.set_zlim(1, 4)\n",
    "\n",
    "# # cbar = fig.colorbar(img, fraction=0.025)\n",
    "# # cbar.set_label('Width', rotation=270)\n",
    "# # plt.show()"
   ]
  }
 ],
 "metadata": {
  "kernelspec": {
   "display_name": "Python 3.10.6 64-bit",
   "language": "python",
   "name": "python3"
  },
  "language_info": {
   "codemirror_mode": {
    "name": "ipython",
    "version": 3
   },
   "file_extension": ".py",
   "mimetype": "text/x-python",
   "name": "python",
   "nbconvert_exporter": "python",
   "pygments_lexer": "ipython3",
   "version": "3.10.6"
  },
  "vscode": {
   "interpreter": {
    "hash": "26de051ba29f2982a8de78e945f0abaf191376122a1563185a90213a26c5da77"
   }
  }
 },
 "nbformat": 4,
 "nbformat_minor": 5
}

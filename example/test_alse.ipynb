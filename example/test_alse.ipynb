{
 "cells": [
  {
   "cell_type": "code",
   "execution_count": null,
   "id": "2037ea1f",
   "metadata": {},
   "outputs": [],
   "source": [
    "import matplotlib.pyplot as plt\n",
    "import torch\n",
    "from alse.utils import identify_samples_which_satisfy_constraints, normalize, unnormalize\n",
    "from mpl_toolkits import mplot3d\n",
    "from alse.utils import read_excel\n",
    "from alse.alse import alse\n",
    "from alse.accuracy import gen_test_point_for_accuracy\n",
    "import plotly.graph_objects as go\n",
    "import plotly.express as px\n",
    "tkwargs = {\n",
    "    \"device\": torch.device(\"cpu\"),\n",
    "    \"dtype\": torch.float,\n",
    "}\n",
    "\n",
    "X, width, pow_cap, wth = read_excel(\"../test_data/8_12_data.xlsx\",[\"P (W)\", \"V (mm/min)\", \"spot size (mm)\"], [\"width (mm)\", \"powder_cap\", \"wth\"])\n",
    "bounds = torch.tensor([[900, 600, 1], [2700, 2200, 4]])\n",
    "constraints = [(\"gt\", 2.5), (\"gt\", 0.65), (\"gt\", 6)]\n",
    "\n",
    "algo = alse(X, bounds, [width, pow_cap, wth], constraints)\n",
    "\n",
    "algo.initialize_model([\"reg\", \"reg\", \"reg\"])\n",
    "\n",
    "algo.next_test_points(1)"
   ]
  },
  {
   "cell_type": "code",
   "execution_count": null,
   "id": "d0ecc690",
   "metadata": {},
   "outputs": [],
   "source": [
    "%matplotlib widget"
   ]
  },
  {
   "cell_type": "code",
   "execution_count": null,
   "id": "4cc5ab49",
   "metadata": {},
   "outputs": [],
   "source": [
    "N = 50"
   ]
  },
  {
   "cell_type": "markdown",
   "id": "fa1c0a73",
   "metadata": {},
   "source": [
    "Normalized grid"
   ]
  },
  {
   "cell_type": "code",
   "execution_count": null,
   "id": "698acc15",
   "metadata": {},
   "outputs": [],
   "source": [
    "\n",
    "Xplt, Yplt, Zplt = torch.meshgrid(\n",
    "    torch.linspace(0, 1, N, **tkwargs), \n",
    "    torch.linspace(0, 1, N, **tkwargs),\n",
    "    torch.linspace(0, 1, N, **tkwargs),\n",
    "    indexing='xy',\n",
    ")\n",
    "xplt = torch.stack(\n",
    "(\n",
    "    torch.reshape(Xplt, (N**3,)),\n",
    "    torch.reshape(Yplt, (N**3,)),\n",
    "    torch.reshape(Zplt, (N**3,)),\n",
    "),\n",
    "dim=1,\n",
    ")"
   ]
  },
  {
   "cell_type": "code",
   "execution_count": null,
   "id": "6205a7ef",
   "metadata": {},
   "outputs": [],
   "source": [
    "a = algo.list_of_models[0](xplt).loc.detach() > 2.5\n",
    "b = algo.list_of_models[1](xplt).loc.detach() > 0.65\n",
    "c = algo.list_of_models[2](xplt).loc.detach() > 6\n",
    "pos_overlap = (a & b & c).unsqueeze(-1)"
   ]
  },
  {
   "cell_type": "markdown",
   "id": "7a308c29",
   "metadata": {},
   "source": [
    "Actual grid of parameter space"
   ]
  },
  {
   "cell_type": "code",
   "execution_count": null,
   "id": "47bb7848",
   "metadata": {},
   "outputs": [],
   "source": [
    "\n",
    "Xplt, Yplt, Zplt = torch.meshgrid(\n",
    "    torch.linspace(900, 2700, N, **tkwargs), \n",
    "    torch.linspace(600, 2200, N, **tkwargs),\n",
    "    torch.linspace(1, 4, N, **tkwargs),\n",
    "    indexing='xy',\n",
    ")\n",
    "xplt = torch.stack(\n",
    "(\n",
    "    torch.reshape(Xplt, (N**3,)),\n",
    "    torch.reshape(Yplt, (N**3,)),\n",
    "    torch.reshape(Zplt, (N**3,)),\n",
    "),\n",
    "dim=1,\n",
    ")"
   ]
  },
  {
   "cell_type": "code",
   "execution_count": null,
   "id": "869fa146",
   "metadata": {},
   "outputs": [],
   "source": [
    "in_bound_tpoints, out_of_bound_tpoints, pos_surface = gen_test_point_for_accuracy(pos_overlap, \n",
    "                                                                                  candidates=xplt, \n",
    "                                                                                  num_points=10, \n",
    "                                                                                  N=N, \n",
    "                                                                                  threshold=0.1)"
   ]
  },
  {
   "cell_type": "code",
   "execution_count": null,
   "id": "84f5eaf8",
   "metadata": {},
   "outputs": [],
   "source": [
    "fig = go.Figure(data=[go.Scatter3d(z=pos_surface[:,2], x=pos_surface[:,0], y=pos_surface[:,1],mode='markers')])\n",
    "fig.update_traces(marker_size = 2)\n",
    "fig.update_layout(\n",
    "    autosize=False,\n",
    "    width=1000,\n",
    "    height=1000,\n",
    "    title = go.layout.Title(text='Powder Capture %'),\n",
    "    scene=dict(xaxis_title='Power', \n",
    "                yaxis_title='Velocity',\n",
    "                zaxis_title='Spot Size')\n",
    ")\n",
    "fig.show()"
   ]
  },
  {
   "cell_type": "code",
   "execution_count": null,
   "id": "19b9d704",
   "metadata": {},
   "outputs": [],
   "source": [
    "in_bound_tpoints"
   ]
  },
  {
   "cell_type": "code",
   "execution_count": null,
   "id": "40d976a7",
   "metadata": {},
   "outputs": [],
   "source": [
    "out_of_bound_tpoints"
   ]
  },
  {
   "cell_type": "code",
   "execution_count": null,
   "id": "165dc3ed",
   "metadata": {},
   "outputs": [],
   "source": [
    "'''\n",
    "Uncomment to verify the threshold is working\n",
    "Need to add new_x to the output of gen_test_point_for_accuracy\n",
    "'''\n",
    "# fig = go.Figure(data=[go.Scatter3d(z=new_x[:,2], x=new_x[:,0], y=new_x[:,1],mode='markers')])\n",
    "# fig.update_traces(marker_size = 1)\n",
    "# fig.update_layout(\n",
    "#     autosize=False,\n",
    "#     width=1000,\n",
    "#     height=1000,\n",
    "#     title = go.layout.Title(text='Powder Capture %'),\n",
    "#     scene=dict(xaxis_title='Power', \n",
    "#                 yaxis_title='Velocity',\n",
    "#                 zaxis_title='Spot Size')\n",
    "# )\n",
    "# fig.show()"
   ]
  },
  {
   "cell_type": "markdown",
   "id": "5dd8ae4e",
   "metadata": {},
   "source": [
    "Ignore everything below for now"
   ]
  },
  {
   "cell_type": "code",
   "execution_count": null,
   "id": "d7e648df",
   "metadata": {},
   "outputs": [],
   "source": [
    "'''\n",
    "Generate a 360 step camera coordinate list\n",
    "'''\n",
    "import math\n",
    "dist = 2\n",
    "step = 2*math.pi/360\n",
    "angle = 0\n",
    "x = []\n",
    "y = []\n",
    "while angle < 2*math.pi:\n",
    "    x.append(dist*math.cos(angle))\n",
    "    y.append(dist*math.sin(angle))\n",
    "    angle +=step"
   ]
  },
  {
   "cell_type": "code",
   "execution_count": null,
   "id": "93550350",
   "metadata": {},
   "outputs": [],
   "source": [
    "\n",
    "Xplt, Yplt, Zplt = torch.meshgrid(\n",
    "    torch.linspace(0, 1, N, **tkwargs), \n",
    "    torch.linspace(0, 1, N, **tkwargs),\n",
    "    torch.linspace(0, 1, N, **tkwargs),\n",
    "    indexing='xy',\n",
    ")\n",
    "xplt = torch.stack(\n",
    "(\n",
    "    torch.reshape(Xplt, (N**3,)),\n",
    "    torch.reshape(Yplt, (N**3,)),\n",
    "    torch.reshape(Zplt, (N**3,)),\n",
    "),\n",
    "dim=1,\n",
    ")\n",
    "Xplt, Yplt, Zplt = torch.meshgrid(\n",
    "    torch.linspace(900, 2700, N, **tkwargs), \n",
    "    torch.linspace(600, 2200, N, **tkwargs),\n",
    "    torch.linspace(1, 4, N, **tkwargs),\n",
    "    indexing='xy',\n",
    ")"
   ]
  },
  {
   "cell_type": "code",
   "execution_count": null,
   "id": "9a71551e",
   "metadata": {},
   "outputs": [],
   "source": [
    "values = algo.list_of_models[2](xplt).loc.detach()\n",
    "values.max()"
   ]
  },
  {
   "cell_type": "code",
   "execution_count": null,
   "id": "64e89796",
   "metadata": {},
   "outputs": [],
   "source": [
    "'''\n",
    "This is for generating a 360 view\n",
    "Uncomment wirte_image and change range to 361 to\n",
    "generate frames, otherwise skip\n",
    "'''\n",
    "\n",
    "for i in range(0):\n",
    "    values = algo.list_of_models[2](xplt).loc.detach()\n",
    "    fig = go.Figure(data=go.Isosurface(\n",
    "        x=Xplt.flatten(),\n",
    "        y=Yplt.flatten(),\n",
    "        z=Zplt.flatten(),\n",
    "        value=values,\n",
    "        isomin=4,\n",
    "        isomax=22,\n",
    "        surface_count=7, # number of isosurfaces, 2 by default: only min and max\n",
    "        colorbar_nticks=7, # colorbar ticks correspond to isosurface values\n",
    "        caps=dict(x_show=False, y_show=False)\n",
    "        ))\n",
    "\n",
    "    camera = dict(\n",
    "        eye=dict(x=x[i], y=y[i], z=0.25)\n",
    "    )\n",
    "\n",
    "    fig.update_layout(scene_camera=camera,\n",
    "        autosize=False,\n",
    "        width=1200,\n",
    "        height=800,\n",
    "        title = go.layout.Title(text='Width-to-height ratio'),\n",
    "        scene=dict(xaxis_title='Power', \n",
    "                   yaxis_title='Velocity',\n",
    "                   zaxis_title='Spot Size')\n",
    "        )\n",
    "    # fig.show()\n",
    "    fig.write_image(f'./images/{i}.png', engine='orca')"
   ]
  },
  {
   "cell_type": "code",
   "execution_count": null,
   "id": "dbb29c9f",
   "metadata": {},
   "outputs": [],
   "source": [
    "in_bound_tpoints"
   ]
  },
  {
   "cell_type": "code",
   "execution_count": null,
   "id": "2aa8e6c1",
   "metadata": {},
   "outputs": [],
   "source": [
    "out_of_bound_tpoints"
   ]
  },
  {
   "cell_type": "code",
   "execution_count": null,
   "id": "780a1507",
   "metadata": {},
   "outputs": [],
   "source": [
    "a = in_bound_tpoints\n",
    "b = out_of_bound_tpoints"
   ]
  },
  {
   "cell_type": "code",
   "execution_count": null,
   "id": "4b5ef8d3",
   "metadata": {},
   "outputs": [],
   "source": [
    "'''\n",
    "This is for generating a 360 view\n",
    "Uncomment wirte_image and change range to 361 to\n",
    "generate frames, otherwise skip\n",
    "'''\n",
    "\n",
    "for i in range(1):\n",
    "    values = pos_overlap.float() # convert to float otherwise cannot show\n",
    "    fig = go.Figure(data=[go.Scatter3d(x=a[:,0], y=a[:,1], z=a[:,2],mode='markers', marker=dict(color='green')),\n",
    "                          go.Scatter3d(x=b[:,0], y=b[:,1], z=b[:,2],mode='markers', marker=dict(color='red')),\n",
    "        go.Isosurface(\n",
    "        x=Xplt.flatten(),\n",
    "        y=Yplt.flatten(),\n",
    "        z=Zplt.flatten(),\n",
    "        value=values,\n",
    "        isomin=0,\n",
    "        isomax=1,\n",
    "        surface_count=4, # number of isosurfaces, 2 by default: only min and max\n",
    "        colorbar_nticks=4, # colorbar ticks correspond to isosurface values\n",
    "        caps=dict(x_show=False, y_show=False)\n",
    "        )])\n",
    "\n",
    "    # camera = dict(\n",
    "    #     eye=dict(x=x[i], y=y[i], z=0.25)\n",
    "    # )\n",
    "\n",
    "    fig.update_layout(\n",
    "        autosize=False,\n",
    "        width=1200,\n",
    "        height=800,\n",
    "        title = go.layout.Title(text='Powder Capture %'),\n",
    "        scene=dict(xaxis_title='Power', \n",
    "                   yaxis_title='Velocity',\n",
    "                   zaxis_title='Spot Size')\n",
    "        )\n",
    "    fig.show()\n",
    "    # fig.write_image(f'./images/{i}.png', engine='orca')"
   ]
  },
  {
   "cell_type": "code",
   "execution_count": null,
   "id": "922b3bd3",
   "metadata": {},
   "outputs": [],
   "source": [
    "N = 50\n",
    "Xplt, Yplt, Zplt = torch.meshgrid(\n",
    "    torch.linspace(0, 1, N, **tkwargs), \n",
    "    torch.linspace(0, 1, N, **tkwargs),\n",
    "    torch.linspace(0, 1, N, **tkwargs),\n",
    "    indexing='xy',\n",
    ")\n",
    "xplt = torch.stack(\n",
    "(\n",
    "    torch.reshape(Xplt, (N**3,)),\n",
    "    torch.reshape(Yplt, (N**3,)),\n",
    "    torch.reshape(Zplt, (N**3,)),\n",
    "),\n",
    "dim=1,\n",
    ")\n",
    "Xplt, Yplt, Zplt = torch.meshgrid(\n",
    "    torch.linspace(900, 2700, N, **tkwargs), \n",
    "    torch.linspace(600, 2200, N, **tkwargs),\n",
    "    torch.linspace(1, 4, N, **tkwargs),\n",
    "    indexing='xy',\n",
    ")"
   ]
  },
  {
   "cell_type": "code",
   "execution_count": null,
   "id": "74ccffa4",
   "metadata": {},
   "outputs": [],
   "source": [
    "'''\n",
    "Plot the posterior overlaps and generated test points\n",
    "'''\n",
    "\n",
    "values = algo.list_of_models[1](xplt).loc.detach()\n",
    "values2 = pos_overlap.float()\n",
    "df = a\n",
    "something = []\n",
    "fig = go.Figure(data=[go.Scatter3d(x=a[:,0], y=a[:,1], z=a[:,2],mode='markers', marker=dict(color='green')),\n",
    "                      go.Scatter3d(x=b[:,0], y=b[:,1], z=b[:,2],mode='markers', marker=dict(color='red')),\n",
    "                      go.Isosurface(\n",
    "                      x=Xplt.flatten(),\n",
    "                      y=Yplt.flatten(),\n",
    "                      z=Zplt.flatten(),\n",
    "                      value=values2,\n",
    "                      isomin=0,\n",
    "                      isomax=1,\n",
    "                      surface_count=4, # number of isosurfaces, 2 by default: only min and max\n",
    "                      colorbar_nticks=4, # colorbar ticks correspond to isosurface values\n",
    "                      caps=dict(x_show=False, y_show=False)\n",
    "                      )])\n",
    "\n",
    "camera = dict(\n",
    "    eye=dict(x=2, y=2, z=0.25)\n",
    ")\n",
    "\n",
    "fig.update_layout(scene_camera=camera,\n",
    "    autosize=False,\n",
    "    width=1400,\n",
    "    height=1100,\n",
    "    title = go.layout.Title(text='Powder Capture %'),\n",
    "    scene=dict(xaxis_title='Power', \n",
    "                yaxis_title='Velocity',\n",
    "                zaxis_title='Spot Size')\n",
    "    )\n",
    "fig.show()\n",
    "# fig.write_image(f'./images/{i}.png', engine='orca')"
   ]
  },
  {
   "cell_type": "code",
   "execution_count": null,
   "id": "3f18aec7",
   "metadata": {},
   "outputs": [],
   "source": [
    "# acq_val = algo.get_acq_val_grid(25, 3).round(decimals=4).detach()"
   ]
  },
  {
   "cell_type": "markdown",
   "id": "a888b4aa",
   "metadata": {},
   "source": [
    "Posterior"
   ]
  },
  {
   "cell_type": "markdown",
   "id": "acd58262",
   "metadata": {},
   "source": [
    "Surface Plot"
   ]
  },
  {
   "cell_type": "code",
   "execution_count": null,
   "id": "747809f2",
   "metadata": {},
   "outputs": [],
   "source": [
    "# N1, N2 = 100, 100\n",
    "# Xplt, Yplt = torch.meshgrid(\n",
    "#     torch.linspace(0, 1, N1, **tkwargs), \n",
    "#     torch.linspace(0, 1, N2, **tkwargs),\n",
    "#     indexing='xy',\n",
    "# )\n",
    "# xplt = torch.stack(\n",
    "# (\n",
    "#     torch.reshape(Xplt, (Xplt.shape[0] * Xplt.shape[1],)),\n",
    "#     torch.reshape(Yplt, (Yplt.shape[0] * Yplt.shape[1],)),\n",
    "#     torch.ones(N1*N2)*0/100\n",
    "# ),\n",
    "# dim=1,\n",
    "# )\n",
    "# xp, yp = torch.meshgrid(\n",
    "#     torch.linspace(900, 2700, N1, **tkwargs), \n",
    "#     torch.linspace(600, 2200, N2, **tkwargs),\n",
    "#     indexing='xy',\n",
    "# )"
   ]
  },
  {
   "cell_type": "code",
   "execution_count": null,
   "id": "73e41ac7",
   "metadata": {},
   "outputs": [],
   "source": [
    "# for i in range(120):\n",
    "#     spot_size = round(i*3/120+1, 1)\n",
    "\n",
    "#     xplt = torch.stack(\n",
    "#     (\n",
    "#         torch.reshape(Xplt, (Xplt.shape[0] * Xplt.shape[1],)),\n",
    "#         torch.reshape(Yplt, (Yplt.shape[0] * Yplt.shape[1],)),\n",
    "#         torch.ones(N1*N2)*i/120\n",
    "#     ),\n",
    "#     dim=1,\n",
    "#     )\n",
    "    \n",
    "#     # predicted_width = algo.list_of_models[0](xplt).loc.detach().reshape(100,100)\n",
    "#     # predicted_pow_cap = algo.list_of_models[1](xplt).loc.detach().reshape(100,100)\n",
    "#     predicted_wth = algo.list_of_models[2](xplt).loc.detach().reshape(100,100)\n",
    "#     fig = plt.figure(figsize=(10, 10))\n",
    "#     ax = plt.axes(projection='3d')\n",
    "\n",
    "#     ax.set_xlabel(\"Power\")\n",
    "#     ax.set_ylabel(\"Velocity\")\n",
    "#     # ax.set_zlabel(\"Predicted Width\")\n",
    "#     ax.set_zlabel(\"Predicted wth\")\n",
    "#     img = ax.plot_surface(xp, yp, predicted_wth, cmap='coolwarm')\n",
    "#     ax.set_title(f'Spot size: {spot_size}mm')\n",
    "#     ax.set_xlim(900, 2700)\n",
    "#     ax.set_ylim(600, 2200)\n",
    "#     ax.set_zlim(4, 24)\n",
    "\n",
    "#     # cbar = fig.colorbar(img, fraction=0.025)\n",
    "#     # cbar.set_label('Width', rotation=270)\n",
    "#     # plt.show()\n",
    "#     plt.savefig(f'./img/{i}.png', dpi=300)\n",
    "#     plt.close()"
   ]
  }
 ],
 "metadata": {
  "kernelspec": {
   "display_name": "Python 3.10.6 64-bit",
   "language": "python",
   "name": "python3"
  },
  "language_info": {
   "codemirror_mode": {
    "name": "ipython",
    "version": 3
   },
   "file_extension": ".py",
   "mimetype": "text/x-python",
   "name": "python",
   "nbconvert_exporter": "python",
   "pygments_lexer": "ipython3",
   "version": "3.10.6"
  },
  "vscode": {
   "interpreter": {
    "hash": "1fa163922eb0b3709bbb5d8082b2465c9de796dbaacca80cbaa600e7fff3e4fe"
   }
  }
 },
 "nbformat": 4,
 "nbformat_minor": 5
}

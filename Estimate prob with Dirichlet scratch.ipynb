{
 "cells": [
  {
   "cell_type": "code",
   "execution_count": 825,
   "metadata": {},
   "outputs": [
    {
     "name": "stdout",
     "output_type": "stream",
     "text": [
      "The autoreload extension is already loaded. To reload it, use:\n",
      "  %reload_ext autoreload\n"
     ]
    }
   ],
   "source": [
    "import math\n",
    "import torch\n",
    "import numpy as np\n",
    "import gpytorch\n",
    "from matplotlib import pyplot as plt\n",
    "\n",
    "%matplotlib inline\n",
    "%load_ext autoreload\n",
    "%autoreload 2"
   ]
  },
  {
   "cell_type": "code",
   "execution_count": 826,
   "metadata": {},
   "outputs": [],
   "source": [
    "tkwargs = {\n",
    "    # \"device\": torch.device(\"cuda\" if torch.cuda.is_available() else \"cpu\"),\n",
    "    \"device\": torch.device(\"cpu\"),\n",
    "    \"dtype\": torch.double,\n",
    "}"
   ]
  },
  {
   "cell_type": "code",
   "execution_count": 827,
   "metadata": {},
   "outputs": [],
   "source": [
    "# def getRand(r1, r2, num):\n",
    "#     return (r1 - r2) * torch.rand(num, 1) + r2"
   ]
  },
  {
   "cell_type": "code",
   "execution_count": 828,
   "metadata": {},
   "outputs": [],
   "source": [
    "# def gen_data(num_data):\n",
    "\n",
    "#     x = getRand(-3, 3, num_data)\n",
    "#     y = getRand(-3, 3, num_data)\n",
    "#     data_fn = lambda x, y: (x**2+y-11)**2+(x+y**2-7)**2\n",
    "#     latent_fn = data_fn(x, y)\n",
    "#     z = latent_fn.long().squeeze()\n",
    "#     # print(z)\n",
    "#     for i in range(len(z)):\n",
    "#         if z[i] > 160:\n",
    "#             z[i] = 1\n",
    "#         else:\n",
    "#             z[i] = 0\n",
    "#     return torch.cat((x,y),dim=1), z, data_fn\n",
    "\n",
    "# train_x, train_y, genfn = gen_data(100)\n",
    "# plt.scatter(train_x[:,0].numpy(), train_x[:,1].numpy(), c = train_y)"
   ]
  },
  {
   "cell_type": "code",
   "execution_count": 829,
   "metadata": {},
   "outputs": [],
   "source": [
    "def get_first_N_points(num):\n",
    "    with open(\"./trainx.txt\",\"r\") as x:\n",
    "        data = eval(x.read())\n",
    "    train_x = torch.tensor(data)[0:num,:]\n",
    "    with open(\"./trainy.txt\",\"r\") as y:\n",
    "        data = eval(y.read())\n",
    "    train_y = torch.tensor(data)[0:num]\n",
    "    return train_x, train_y\n",
    "\n",
    "# genfn = lambda x, y: (x**2+y-11)**2+(x+y**2-7)**2\n",
    "'''Change the num below to change the ↓ number of points available to the model'''\n",
    "train_x, train_y = get_first_N_points(100)\n",
    "\n",
    "#This is what the model actually sees\n",
    "def genfn(x,y):\n",
    "    result = (x**2+y-11)**2+(x+y**2-7)**2\n",
    "    for i in range(len(result)):\n",
    "        for j in range(len(result[0])):\n",
    "            if result[i][j] > 160:\n",
    "                result[i][j] = 1\n",
    "            else:\n",
    "                result[i][j] = 0\n",
    "    return result"
   ]
  },
  {
   "cell_type": "code",
   "execution_count": 830,
   "metadata": {},
   "outputs": [
    {
     "data": {
      "text/plain": [
       "<matplotlib.contour.QuadContourSet at 0x19057c64a90>"
      ]
     },
     "execution_count": 830,
     "metadata": {},
     "output_type": "execute_result"
    },
    {
     "data": {
      "image/png": "[encoded data removed]",
      "text/plain": [
       "<Figure size 432x288 with 1 Axes>"
      ]
     },
     "metadata": {
      "needs_background": "light"
     },
     "output_type": "display_data"
    }
   ],
   "source": [
    "test_d1 = np.linspace(-3, 3, 20)\n",
    "test_d2 = np.linspace(-3, 3, 20)\n",
    "\n",
    "test_x_mat, test_y_mat = np.meshgrid(test_d1, test_d2)\n",
    "test_x_mat, test_y_mat = torch.Tensor(test_x_mat), torch.Tensor(test_y_mat)\n",
    "\n",
    "test_x = torch.cat((test_x_mat.view(-1,1), test_y_mat.view(-1,1)),dim=1)\n",
    "test_labels = torch.round(genfn(test_x_mat, test_y_mat))\n",
    "test_y = test_labels.view(-1)\n",
    "\n",
    "plt.contourf(test_x_mat.numpy(), test_y_mat.numpy(), test_labels.numpy())"
   ]
  },
  {
   "cell_type": "code",
   "execution_count": 831,
   "metadata": {},
   "outputs": [],
   "source": [
    "from gpytorch.models import ExactGP\n",
    "from gpytorch.likelihoods import DirichletClassificationLikelihood\n",
    "from gpytorch.means import ConstantMean\n",
    "from gpytorch.kernels import ScaleKernel, RBFKernel\n",
    "\n",
    "# We will use the simplest form of GP model, exact inference\n",
    "class DirichletGPModel(ExactGP):\n",
    "    def __init__(self, train_x, train_y, likelihood, num_classes):\n",
    "        super(DirichletGPModel, self).__init__(train_x, train_y, likelihood)\n",
    "        self.mean_module = ConstantMean(batch_shape=torch.Size((num_classes,)))\n",
    "        self.covar_module = ScaleKernel(\n",
    "            RBFKernel(batch_shape=torch.Size((num_classes,))),\n",
    "            batch_shape=torch.Size((num_classes,)),\n",
    "        )\n",
    "\n",
    "    def forward(self, x):\n",
    "        mean_x = self.mean_module(x)\n",
    "        covar_x = self.covar_module(x)\n",
    "        return gpytorch.distributions.MultivariateNormal(mean_x, covar_x)\n",
    "\n",
    "# initialize likelihood and model\n",
    "# we let the DirichletClassificationLikelihood compute the targets for us\n",
    "\n",
    "likelihood = DirichletClassificationLikelihood(train_y, learn_additional_noise=True)\n",
    "model = DirichletGPModel(train_x, likelihood.transformed_targets, likelihood, num_classes=likelihood.num_classes)"
   ]
  },
  {
   "cell_type": "code",
   "execution_count": 832,
   "metadata": {},
   "outputs": [
    {
     "name": "stdout",
     "output_type": "stream",
     "text": [
      "Iter 5/100 - Loss: 4.909   lengthscale: 0.909   noise: 0.711\n",
      "Iter 10/100 - Loss: 4.439   lengthscale: 1.168   noise: 0.764\n",
      "Iter 15/100 - Loss: 4.245   lengthscale: 1.322   noise: 0.821\n",
      "Iter 20/100 - Loss: 4.152   lengthscale: 1.365   noise: 0.869\n",
      "Iter 25/100 - Loss: 4.099   lengthscale: 1.352   noise: 0.905\n",
      "Iter 30/100 - Loss: 4.064   lengthscale: 1.343   noise: 0.927\n",
      "Iter 35/100 - Loss: 4.032   lengthscale: 1.354   noise: 0.927\n",
      "Iter 40/100 - Loss: 4.006   lengthscale: 1.352   noise: 0.901\n",
      "Iter 45/100 - Loss: 3.981   lengthscale: 1.312   noise: 0.846\n",
      "Iter 50/100 - Loss: 3.959   lengthscale: 1.248   noise: 0.767\n",
      "Iter 55/100 - Loss: 3.939   lengthscale: 1.192   noise: 0.674\n",
      "Iter 60/100 - Loss: 3.922   lengthscale: 1.156   noise: 0.577\n",
      "Iter 65/100 - Loss: 3.909   lengthscale: 1.130   noise: 0.491\n",
      "Iter 70/100 - Loss: 3.899   lengthscale: 1.103   noise: 0.423\n",
      "Iter 75/100 - Loss: 3.892   lengthscale: 1.080   noise: 0.376\n",
      "Iter 80/100 - Loss: 3.885   lengthscale: 1.069   noise: 0.348\n",
      "Iter 85/100 - Loss: 3.880   lengthscale: 1.068   noise: 0.335\n",
      "Iter 90/100 - Loss: 3.875   lengthscale: 1.069   noise: 0.334\n",
      "Iter 95/100 - Loss: 3.871   lengthscale: 1.068   noise: 0.340\n",
      "Iter 100/100 - Loss: 3.867   lengthscale: 1.068   noise: 0.349\n"
     ]
    }
   ],
   "source": [
    "# this is for running the notebook in our testing framework\n",
    "import os\n",
    "smoke_test = ('CI' in os.environ)\n",
    "training_iter = 2 if smoke_test else 100\n",
    "\n",
    "\n",
    "# Find optimal model hyperparameters\n",
    "model.train()\n",
    "likelihood.train()\n",
    "\n",
    "# Use the adam optimizer\n",
    "optimizer = torch.optim.Adam(model.parameters(), lr=0.1)  # Includes GaussianLikelihood parameters\n",
    "\n",
    "# \"Loss\" for GPs - the marginal log likelihood\n",
    "mll = gpytorch.mlls.ExactMarginalLogLikelihood(likelihood, model)\n",
    "\n",
    "for i in range(training_iter):\n",
    "    # Zero gradients from previous iteration\n",
    "    optimizer.zero_grad()\n",
    "    # Output from model\n",
    "    output = model(train_x)\n",
    "    # Calc loss and backprop gradients\n",
    "    loss = -mll(output, likelihood.transformed_targets).sum()\n",
    "    loss.backward()\n",
    "    if (i+1) % 5 == 0:\n",
    "        print('Iter %d/%d - Loss: %.3f   lengthscale: %.3f   noise: %.3f' % (\n",
    "            i + 1, training_iter, loss.item(),\n",
    "            model.covar_module.base_kernel.lengthscale.mean().item(),\n",
    "            model.likelihood.second_noise_covar.noise.mean().item()\n",
    "        ))\n",
    "    optimizer.step()"
   ]
  },
  {
   "cell_type": "code",
   "execution_count": 833,
   "metadata": {},
   "outputs": [],
   "source": [
    "def smooth_mask(x, a, eps=2e-3):\n",
    "    \"\"\"Returns 0ish for x < a and 1ish for x > a\"\"\"\n",
    "    return torch.nn.Sigmoid()((x - a) / eps)"
   ]
  },
  {
   "cell_type": "code",
   "execution_count": 834,
   "metadata": {},
   "outputs": [],
   "source": [
    "def _estimate_probabilities_of_satisfaction_at_points(points, num_samples):\n",
    "    probabilities = torch.zeros((points.shape[0:2]))\n",
    "    print(f\"init prob shape: {probabilities.shape}\")\n",
    "    for i in range(len(points)):\n",
    "        with gpytorch.settings.fast_pred_var(), torch.no_grad():\n",
    "            test_dist = model(points[i]) # Calculate posterior\n",
    "            pred_means = test_dist.loc\n",
    "        pred_samples = test_dist.sample(torch.Size((num_samples,))).exp()\n",
    "        # print(f\"pred_samples shape: {pred_samples.shape}\")\n",
    "        # print(f\"pred_samples sum shape: {pred_samples.sum(-2, keepdim=True).shape}\")\n",
    "        # probabilities = (pred_samples / pred_samples.sum(-2, keepdim=True)).mean(0)\n",
    "        prob_of_one_point = (pred_samples / pred_samples.sum(-2, keepdim=True))[:,1,:].mean(0)\n",
    "        # torch.cat((probabilities, prob_of_one_point))\n",
    "        probabilities[i] = prob_of_one_point\n",
    "        print(f\"prob_of_one_point shape: {prob_of_one_point.shape}\")\n",
    "        print(f\"prob shape: {probabilities.shape}\")\n",
    "    \"\"\"Estimate the probability of satisfying the given constraints.\"\"\"\n",
    "    # posterior = self.model.posterior(X=points)\n",
    "    # mus, sigma2s = posterior.mean, posterior.variance\n",
    "    # dist = torch.distributions.normal.Normal(mus, sigma2s.sqrt())\n",
    "    # norm_cdf = dist.cdf(self._thresholds)\n",
    "    # probs = torch.ones(points.shape[:-1]).to(points)\n",
    "    # for i, (direction, _) in enumerate(self.constraints):\n",
    "    #     probs = probs * (\n",
    "    #         norm_cdf[..., i] if direction == \"lt\" else 1 - norm_cdf[..., i]\n",
    "    #     )\n",
    "    \n",
    "    return probabilities"
   ]
  },
  {
   "cell_type": "code",
   "execution_count": 835,
   "metadata": {},
   "outputs": [
    {
     "name": "stdout",
     "output_type": "stream",
     "text": [
      "sample point shape: torch.Size([4, 1, 2])\n",
      "init ball shape: torch.Size([24, 2])\n",
      "ball of points shape: torch.Size([4, 24, 2])\n"
     ]
    }
   ],
   "source": [
    "from botorch.utils.sampling import sample_hypersphere\n",
    "                            # in bound    out        out       out\n",
    "sample_point = torch.tensor([[[0, -3]],[[-3, -3]],[[3, 3]],[[1, 3]]])\n",
    "print(f\"sample point shape: {sample_point.shape}\")\n",
    "def generate_ball_of_points(num_samples, radius, device=None, dtype=torch.double):\n",
    "        tkwargs = {\"device\": device, \"dtype\": dtype}\n",
    "        z = sample_hypersphere(d=sample_point.shape[-1], n=num_samples, qmc=True, **tkwargs) # Not using self.dim\n",
    "        r = torch.rand(num_samples, 1, **tkwargs) ** (1 / sample_point.dim())\n",
    "        return radius * r * z\n",
    "\n",
    "'''\n",
    "To be resolved:\n",
    "why is .dim not working?\n",
    "'''\n",
    "\n",
    "#Generate 24 samples with radius of 0.5\n",
    "ball_intermediate = generate_ball_of_points(24, 0.5, device=None, dtype=torch.double)\n",
    "print(f\"init ball shape: {ball_intermediate.shape}\")\n",
    "# print(init_ball + sample_point)\n",
    "ball_of_points = (sample_point + ball_intermediate).float() # Cast to dtype fp32\n",
    "\n",
    "# print(ball)\n",
    "print(f\"ball of points shape: {ball_of_points.shape}\")\n",
    "\n",
    "\n",
    "# test_dist = model(ball_of_points)\n",
    "# print(test_dist.sample())"
   ]
  },
  {
   "cell_type": "code",
   "execution_count": 836,
   "metadata": {},
   "outputs": [
    {
     "name": "stdout",
     "output_type": "stream",
     "text": [
      "torch.Size([4, 24])\n",
      "tensor([[0.3964, 0.3533, 0.3559, 0.3671, 0.3704, 0.3466, 0.3932, 0.3522, 0.3809,\n",
      "         0.3486, 0.3589, 0.3556, 0.3972, 0.3347, 0.3697, 0.3711, 0.3964, 0.3435,\n",
      "         0.3692, 0.3613, 0.3893, 0.3353, 0.3671, 0.3453],\n",
      "        [0.2739, 0.2406, 0.2348, 0.2595, 0.2551, 0.2296, 0.2680, 0.2412, 0.2667,\n",
      "         0.2380, 0.2366, 0.2495, 0.2760, 0.2229, 0.2486, 0.2584, 0.2796, 0.2267,\n",
      "         0.2501, 0.2505, 0.2732, 0.2231, 0.2493, 0.2393],\n",
      "        [0.7925, 0.7687, 0.7638, 0.7823, 0.7795, 0.7599, 0.7883, 0.7691, 0.7877,\n",
      "         0.7666, 0.7652, 0.7750, 0.7939, 0.7544, 0.7746, 0.7818, 0.7963, 0.7575,\n",
      "         0.7758, 0.7761, 0.7921, 0.7546, 0.7752, 0.7674],\n",
      "        [0.7149, 0.6896, 0.6764, 0.7117, 0.7022, 0.6741, 0.7074, 0.6914, 0.7141,\n",
      "         0.6883, 0.6775, 0.7030, 0.7177, 0.6708, 0.6914, 0.7072, 0.7238, 0.6710,\n",
      "         0.6945, 0.7009, 0.7187, 0.6706, 0.6946, 0.6930]])\n"
     ]
    }
   ],
   "source": [
    "domain_mask = smooth_mask(\n",
    "            ball_of_points, torch.tensor([-3, -3]), torch.tensor([3, 3])\n",
    "        ).prod(dim=-1)\n",
    "print(domain_mask.shape)\n",
    "print(domain_mask)"
   ]
  },
  {
   "cell_type": "code",
   "execution_count": 837,
   "metadata": {},
   "outputs": [],
   "source": [
    "# num_points_in_integral = domain_mask.sum(dim=-1)\n",
    "# print(num_points_in_integral)"
   ]
  },
  {
   "cell_type": "code",
   "execution_count": 838,
   "metadata": {},
   "outputs": [
    {
     "data": {
      "text/plain": [
       "DirichletClassificationLikelihood(\n",
       "  (noise_covar): FixedGaussianNoise()\n",
       "  (second_noise_covar): HomoskedasticNoise(\n",
       "    (raw_noise_constraint): GreaterThan(1.000E-04)\n",
       "  )\n",
       ")"
      ]
     },
     "execution_count": 838,
     "metadata": {},
     "output_type": "execute_result"
    }
   ],
   "source": [
    "model.eval()\n",
    "likelihood.eval()\n",
    "\n",
    "# test_x = test_x[0:5].unsqueeze(0)\n",
    "# print(test_x.shape)\n",
    "# print(test_x.dtype)\n",
    "\n",
    "# with gpytorch.settings.fast_pred_var(), torch.no_grad():\n",
    "#     test_dist = model(ball_of_points)\n",
    "#     pred_means = test_dist.loc\n",
    "\n",
    "# print(test_dist)\n",
    "# print(pred_means.shape)\n",
    "\n",
    "# print(test_x)"
   ]
  },
  {
   "cell_type": "code",
   "execution_count": 839,
   "metadata": {},
   "outputs": [],
   "source": [
    "# print(test_dist.sample(torch.Size((50,))))"
   ]
  },
  {
   "cell_type": "code",
   "execution_count": 840,
   "metadata": {},
   "outputs": [],
   "source": [
    "# fig, ax = plt.subplots(1, 2, figsize = (15, 5))\n",
    "\n",
    "# for i in range(2):\n",
    "#     im = ax[i].contourf(\n",
    "#         test_x_mat.numpy(), test_y_mat.numpy(), pred_means[i].numpy().reshape((20,20))\n",
    "#     )\n",
    "#     fig.colorbar(im, ax=ax[i])\n",
    "#     ax[i].set_title(\"Logits: Class \" + str(i), fontsize = 20)"
   ]
  },
  {
   "cell_type": "code",
   "execution_count": 841,
   "metadata": {},
   "outputs": [
    {
     "name": "stdout",
     "output_type": "stream",
     "text": [
      "init prob shape: torch.Size([4, 24])\n",
      "prob_of_one_point shape: torch.Size([24])\n",
      "prob shape: torch.Size([4, 24])\n",
      "prob_of_one_point shape: torch.Size([24])\n",
      "prob shape: torch.Size([4, 24])\n",
      "prob_of_one_point shape: torch.Size([24])\n",
      "prob shape: torch.Size([4, 24])\n",
      "prob_of_one_point shape: torch.Size([24])\n",
      "prob shape: torch.Size([4, 24])\n"
     ]
    }
   ],
   "source": [
    "# pred_samples = test_dist.sample(torch.Size((36,))).exp()\n",
    "# probabilities = (pred_samples / pred_samples.sum(-2, keepdim=True)).mean(0)\n",
    "# print(ball_of_points.shape)\n",
    "\n",
    "prob = _estimate_probabilities_of_satisfaction_at_points(ball_of_points, num_samples=50)\n",
    "                                                                    # This is the num of samples we use to approximate the posterior\n",
    "                                                                    # Not the same as the num of sample points\n",
    "# print(f\"prob shape: {prob.shape}\")\n"
   ]
  },
  {
   "cell_type": "code",
   "execution_count": 842,
   "metadata": {},
   "outputs": [
    {
     "name": "stdout",
     "output_type": "stream",
     "text": [
      "tensor([[0.9259, 0.9029, 0.9365, 0.7834, 0.9119, 0.9206, 0.9545, 0.8831, 0.8591,\n",
      "         0.8815, 0.9399, 0.7934, 0.9051, 0.8755, 0.9523, 0.8724, 0.8185, 0.9117,\n",
      "         0.9442, 0.8666, 0.8524, 0.8796, 0.9382, 0.8085],\n",
      "        [0.0095, 0.0226, 0.0335, 0.0168, 0.0158, 0.0337, 0.0128, 0.0221, 0.0121,\n",
      "         0.0241, 0.0333, 0.0204, 0.0087, 0.0364, 0.0221, 0.0147, 0.0084, 0.0362,\n",
      "         0.0196, 0.0178, 0.0100, 0.0364, 0.0194, 0.0246],\n",
      "        [0.0411, 0.0133, 0.0108, 0.0313, 0.0237, 0.0086, 0.0323, 0.0140, 0.0366,\n",
      "         0.0121, 0.0116, 0.0219, 0.0449, 0.0063, 0.0173, 0.0278, 0.0523, 0.0078,\n",
      "         0.0187, 0.0211, 0.0439, 0.0064, 0.0183, 0.0141],\n",
      "        [0.0124, 0.0030, 0.0052, 0.0030, 0.0041, 0.0035, 0.0147, 0.0028, 0.0047,\n",
      "         0.0027, 0.0061, 0.0026, 0.0113, 0.0027, 0.0062, 0.0036, 0.0080, 0.0034,\n",
      "         0.0051, 0.0030, 0.0064, 0.0027, 0.0045, 0.0024]])\n"
     ]
    }
   ],
   "source": [
    "print(prob)"
   ]
  },
  {
   "cell_type": "code",
   "execution_count": 843,
   "metadata": {},
   "outputs": [],
   "source": [
    "# fig, ax = plt.subplots(1, 2, figsize = (15, 5))\n",
    "\n",
    "# levels = np.linspace(0, 1.05, 20)\n",
    "# for i in range(2):\n",
    "#     im = ax[i].contourf(\n",
    "#         test_x_mat.numpy(), test_y_mat.numpy(), probabilities[i].numpy().reshape((20,20)), levels=levels\n",
    "#     )\n",
    "#     fig.colorbar(im, ax=ax[i])\n",
    "#     ax[i].set_title(\"Probabilities: Class \" + str(i), fontsize = 20)\n",
    "\n",
    "# print(pred_samples[0][0])\n",
    "# print(pred_samples[3][0])\n",
    "# print(pred_samples[:,0,1])\n",
    "# print(pred_samples[:,0,1].sum()/20)\n",
    "# print(pred_samples.shape)\n",
    "# print(pred_samples.sum(-2).shape)\n",
    "# print(pred_samples.sum(-2, keepdim=True).shape)\n",
    "# print(probabilities[0])\n",
    "# print(probabilities.shape)\n",
    "# print(probabilities)"
   ]
  },
  {
   "cell_type": "code",
   "execution_count": 844,
   "metadata": {},
   "outputs": [
    {
     "ename": "NameError",
     "evalue": "name 'pred_means' is not defined",
     "output_type": "error",
     "traceback": [
      "\u001b[1;31m---------------------------------------------------------------------------\u001b[0m",
      "\u001b[1;31mNameError\u001b[0m                                 Traceback (most recent call last)",
      "\u001b[1;32me:\\Download\\Torch\\classification with Dirichlet.ipynb Cell 20'\u001b[0m in \u001b[0;36m<cell line: 6>\u001b[1;34m()\u001b[0m\n\u001b[0;32m      <a href='vscode-notebook-cell:/e%3A/Download/Torch/classification%20with%20Dirichlet.ipynb#ch0000018?line=2'>3</a>\u001b[0m ax[\u001b[39m0\u001b[39m]\u001b[39m.\u001b[39mcontourf(test_x_mat\u001b[39m.\u001b[39mnumpy(), test_y_mat\u001b[39m.\u001b[39mnumpy(), test_labels\u001b[39m.\u001b[39mnumpy())\n\u001b[0;32m      <a href='vscode-notebook-cell:/e%3A/Download/Torch/classification%20with%20Dirichlet.ipynb#ch0000018?line=3'>4</a>\u001b[0m ax[\u001b[39m0\u001b[39m]\u001b[39m.\u001b[39mset_title(\u001b[39m'\u001b[39m\u001b[39mTrue Response\u001b[39m\u001b[39m'\u001b[39m, fontsize\u001b[39m=\u001b[39m\u001b[39m20\u001b[39m)\n\u001b[1;32m----> <a href='vscode-notebook-cell:/e%3A/Download/Torch/classification%20with%20Dirichlet.ipynb#ch0000018?line=5'>6</a>\u001b[0m ax[\u001b[39m1\u001b[39m]\u001b[39m.\u001b[39mcontourf(test_x_mat\u001b[39m.\u001b[39mnumpy(), test_y_mat\u001b[39m.\u001b[39mnumpy(), pred_means\u001b[39m.\u001b[39mmax(\u001b[39m0\u001b[39m)[\u001b[39m1\u001b[39m]\u001b[39m.\u001b[39mreshape((\u001b[39m20\u001b[39m,\u001b[39m20\u001b[39m)))\n\u001b[0;32m      <a href='vscode-notebook-cell:/e%3A/Download/Torch/classification%20with%20Dirichlet.ipynb#ch0000018?line=6'>7</a>\u001b[0m ax[\u001b[39m1\u001b[39m]\u001b[39m.\u001b[39mset_title(\u001b[39m'\u001b[39m\u001b[39mEstimated Response\u001b[39m\u001b[39m'\u001b[39m, fontsize\u001b[39m=\u001b[39m\u001b[39m20\u001b[39m)\n",
      "\u001b[1;31mNameError\u001b[0m: name 'pred_means' is not defined"
     ]
    },
    {
     "data": {
      "image/png": "[encoded data removed]",
      "text/plain": [
       "<Figure size 720x360 with 2 Axes>"
      ]
     },
     "metadata": {
      "needs_background": "light"
     },
     "output_type": "display_data"
    }
   ],
   "source": [
    "fig, ax = plt.subplots(1,2, figsize=(10, 5))\n",
    "\n",
    "ax[0].contourf(test_x_mat.numpy(), test_y_mat.numpy(), test_labels.numpy())\n",
    "ax[0].set_title('True Response', fontsize=20)\n",
    "\n",
    "ax[1].contourf(test_x_mat.numpy(), test_y_mat.numpy(), pred_means.max(0)[1].reshape((20,20)))\n",
    "ax[1].set_title('Estimated Response', fontsize=20)"
   ]
  }
 ],
 "metadata": {
  "interpreter": {
   "hash": "1fa163922eb0b3709bbb5d8082b2465c9de796dbaacca80cbaa600e7fff3e4fe"
  },
  "kernelspec": {
   "display_name": "Python 3.10.4 64-bit",
   "language": "python",
   "name": "python3"
  },
  "language_info": {
   "codemirror_mode": {
    "name": "ipython",
    "version": 3
   },
   "file_extension": ".py",
   "mimetype": "text/x-python",
   "name": "python",
   "nbconvert_exporter": "python",
   "pygments_lexer": "ipython3",
   "version": "3.10.4"
  },
  "orig_nbformat": 4
 },
 "nbformat": 4,
 "nbformat_minor": 2
}

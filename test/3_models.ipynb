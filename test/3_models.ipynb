{
 "cells": [
  {
   "cell_type": "code",
   "execution_count": null,
   "metadata": {},
   "outputs": [],
   "source": [
    "import matplotlib.pyplot as plt\n",
    "import torch\n",
    "import gpytorch\n",
    "from botorch.acquisition.monte_carlo import MCAcquisitionFunction\n",
    "from botorch.acquisition.objective import IdentityMCObjective\n",
    "from botorch.fit import fit_gpytorch_model\n",
    "from botorch.models import ModelListGP, SingleTaskGP\n",
    "from botorch.models.transforms.outcome import Standardize\n",
    "from botorch.optim import optimize_acqf\n",
    "from botorch.utils.sampling import sample_hypersphere\n",
    "from botorch.utils.transforms import t_batch_mode_transform\n",
    "from gpytorch.constraints import Interval\n",
    "from gpytorch.likelihoods import GaussianLikelihood\n",
    "from gpytorch.mlls import ExactMarginalLogLikelihood\n",
    "from torch.quasirandom import SobolEngine\n",
    "from matplotlib import pyplot as plt\n",
    "from mpl_toolkits import mplot3d\n",
    "import numpy as np\n",
    "import matplotlib.pyplot as plt\n",
    "from matplotlib import cm\n",
    "from alse.eci import ExpectedCoverageImprovement\n",
    "from gpytorch.likelihoods import DirichletClassificationLikelihood\n",
    "from alse.gp_model import DirichletGPModel"
   ]
  },
  {
   "cell_type": "code",
   "execution_count": null,
   "metadata": {},
   "outputs": [],
   "source": [
    "torch.cuda.is_available()"
   ]
  },
  {
   "cell_type": "markdown",
   "metadata": {},
   "source": [
    "If no GPU change \"cuda\" to \"cpu\""
   ]
  },
  {
   "cell_type": "code",
   "execution_count": null,
   "metadata": {},
   "outputs": [],
   "source": [
    "tkwargs = {\n",
    "    # \"device\": torch.device(\"cuda\" if torch.cuda.is_available() else \"cpu\"),\n",
    "    \"device\": torch.device(\"cpu\"),\n",
    "    \"dtype\": torch.double,\n",
    "}"
   ]
  },
  {
   "cell_type": "code",
   "execution_count": null,
   "metadata": {},
   "outputs": [],
   "source": [
    "def get_and_fit_gp(X, Y):\n",
    "    \"\"\"Simple method for creating a GP with one output dimension.\n",
    "\n",
    "    X is assumed to be in [0, 1]^d.\n",
    "    \"\"\"\n",
    "    assert Y.ndim == 2 and Y.shape[-1] == 1\n",
    "    likelihood = GaussianLikelihood(noise_constraint=Interval(1e-6, 1e-3))  # Noise-free\n",
    "    # octf = Standardize(m=Y.shape[-1])\n",
    "    # gp = SingleTaskGP(X, Y, likelihood=likelihood, outcome_transform=octf)\n",
    "    gp = SingleTaskGP(X, Y, likelihood=likelihood)\n",
    "    mll = ExactMarginalLogLikelihood(gp.likelihood, gp)\n",
    "    fit_gpytorch_model(mll)\n",
    "    return gp"
   ]
  },
  {
   "cell_type": "code",
   "execution_count": null,
   "metadata": {},
   "outputs": [],
   "source": [
    "def get_and_fit_gp_class(X, Y):\n",
    "    # Find optimal model hyperparameters\n",
    "    likelihood = DirichletClassificationLikelihood(Y[:,0].long(), learn_additional_noise=True)\n",
    "    model = DirichletGPModel(X, likelihood.transformed_targets, likelihood, num_classes=likelihood.num_classes)\n",
    "    model.train()\n",
    "    likelihood.train()\n",
    "\n",
    "    # Use the adam optimizer\n",
    "    optimizer = torch.optim.Adam(model.parameters(), lr=0.1)  # Includes GaussianLikelihood parameters\n",
    "\n",
    "    # \"Loss\" for GPs - the marginal log likelihood\n",
    "    mll = gpytorch.mlls.ExactMarginalLogLikelihood(likelihood, model)\n",
    "\n",
    "    for i in range(50):\n",
    "        # Zero gradients from previous iteration\n",
    "        optimizer.zero_grad()\n",
    "        # Output from model\n",
    "        output = model(X)\n",
    "        # Calc loss and backprop gradients\n",
    "        loss = -mll(output, likelihood.transformed_targets).sum()\n",
    "        loss.backward()\n",
    "        optimizer.step()\n",
    "    return model"
   ]
  },
  {
   "cell_type": "code",
   "execution_count": null,
   "metadata": {},
   "outputs": [],
   "source": [
    "def yf(x):\n",
    "    v = (((x[:,0]**2+x[:,1]-11)**2+(x[:,0]+x[:,1]**2-7)**2)>160).float()\n",
    "    return v.unsqueeze(-1)\n",
    "\n",
    "def hills(x):\n",
    "    v = 0.5*torch.cos(x[:,0]*2-torch.pi)+torch.sin(x[:,1]+torch.pi/2)\n",
    "    \n",
    "    return v.unsqueeze(-1)\n",
    "def circle(x):\n",
    "    v = -(x[:,0] ** 2 + x[:,1] ** 2) + 25\n",
    "    return v.unsqueeze(-1)"
   ]
  },
  {
   "cell_type": "code",
   "execution_count": null,
   "metadata": {},
   "outputs": [],
   "source": [
    "bounds = torch.tensor([[-3, -3], [3, 3]], **tkwargs)\n",
    "lb, ub = bounds\n",
    "dim = len(lb)\n",
    "punchout_radius = 0.6"
   ]
  },
  {
   "cell_type": "code",
   "execution_count": null,
   "metadata": {},
   "outputs": [],
   "source": [
    "num_init_points = 5\n",
    "num_total_points = 15\n",
    "X = lb + (ub - lb) * SobolEngine(dim, scramble=True).draw(num_init_points).to(**tkwargs)\n",
    "Yhills = hills(X)\n",
    "Ycircle = circle(X)\n",
    "Yyf = yf(X)\n",
    "# plt.scatter(Xhills.cpu().numpy()[:, 0], Xhills.cpu().numpy()[:, 1], c=Yhills.cpu()[:,0])\n",
    "# plt.scatter(Xcircle.cpu().numpy()[:, 0], Xcircle.cpu().numpy()[:, 1], c=Ycircle.cpu()[:,0])"
   ]
  },
  {
   "cell_type": "code",
   "execution_count": null,
   "metadata": {},
   "outputs": [],
   "source": [
    "gp_model_hills = get_and_fit_gp(X, Yhills)\n",
    "gp_model_circle = get_and_fit_gp(X, Ycircle)\n",
    "gp_model_class = get_and_fit_gp_class(X.float(), Yyf)\n",
    "model_list_gp = ModelListGP(gp_model_hills, gp_model_circle, gp_model_class)"
   ]
  },
  {
   "cell_type": "code",
   "execution_count": null,
   "metadata": {},
   "outputs": [],
   "source": [
    "constraints = [(\"gt\", 0.3), (\"gt\", 20), (\"gt\", 0.1)]\n",
    "# normalization\n",
    "# mean = X.mean(dim=-2, keepdim=True)\n",
    "# std = X.std(dim=-2, keepdim=True) + 1e-6 # prevent dividing by 0\n",
    "# X = (X - mean) / std\n",
    "i = 1\n",
    "while len(X) < num_total_points:\n",
    "    # We don't have to normalize X since the domain is [0, 1]^2. Make sure to\n",
    "    # appropriately adjust the punchout radius if the domain is normalized.\n",
    "    gp_model_hills = get_and_fit_gp(X, Yhills)\n",
    "    gp_model_circle = get_and_fit_gp(X, Ycircle)\n",
    "    gp_model_class = get_and_fit_gp_class(X.float(), Yyf)\n",
    "    model_list_gp = ModelListGP(gp_model_hills, gp_model_circle, gp_model_class)\n",
    "\n",
    "    eci = ExpectedCoverageImprovement(\n",
    "        model=model_list_gp,\n",
    "        constraints=constraints,\n",
    "        punchout_radius=punchout_radius,\n",
    "        bounds=bounds,\n",
    "        num_samples=512,\n",
    "    )\n",
    "    gp_model_hills.eval()\n",
    "    gp_model_circle.eval()\n",
    "    gp_model_class.eval()\n",
    "\n",
    "    x_next, _ = optimize_acqf(\n",
    "        acq_function=eci,\n",
    "        bounds=bounds,\n",
    "        q=1,\n",
    "        num_restarts=10,\n",
    "        raw_samples=512,\n",
    "    )\n",
    "\n",
    "    print(f\"New X No. {i}\")\n",
    "    i += 1\n",
    "    X = torch.cat((X, x_next))\n",
    "    Yhills = torch.cat((Yhills, hills(x_next)))\n",
    "    Ycircle = torch.cat((Ycircle, circle(x_next)))\n",
    "    Yyf = torch.cat((Yyf, yf(x_next)))"
   ]
  },
  {
   "cell_type": "code",
   "execution_count": null,
   "metadata": {},
   "outputs": [],
   "source": [
    "def identify_samples_which_satisfy_constraints(X, constraints):\n",
    "    \"\"\"\n",
    "    Takes in values (a1, ..., ak, o) and returns (a1, ..., ak, o)\n",
    "    True/False values, where o is the number of outputs.\n",
    "    \"\"\"\n",
    "    successful = torch.ones(X.shape).to(X)\n",
    "\n",
    "    these_X = X[..., ]\n",
    "    direction, value = constraints\n",
    "    successful[..., ] = (\n",
    "        these_X < value if direction == \"lt\" else these_X > value\n",
    "    )\n",
    "    return successful"
   ]
  },
  {
   "cell_type": "code",
   "execution_count": null,
   "metadata": {},
   "outputs": [],
   "source": [
    "N1, N2 = 200, 200\n",
    "Xplt, Yplt = torch.meshgrid(\n",
    "    torch.linspace(-3, 3, N1, **tkwargs), torch.linspace(-3, 3, N2, **tkwargs)\n",
    ")\n",
    "xplt = torch.stack(\n",
    "    (\n",
    "        torch.reshape(Xplt, (Xplt.shape[0] * Xplt.shape[1],)),\n",
    "        torch.reshape(Yplt, (Yplt.shape[0] * Yplt.shape[1],)),\n",
    "    ),\n",
    "    dim=1,\n",
    ")\n",
    "yplt_hills = hills(xplt)\n",
    "Zplt_hills = torch.reshape(yplt_hills[:, 0], (N1, N2)) \n",
    "\n",
    "feasible_inds_hills = (\n",
    "    identify_samples_which_satisfy_constraints(Yhills, constraints[0])\n",
    "    .prod(dim=-1)\n",
    "    .to(torch.bool)\n",
    ")"
   ]
  },
  {
   "cell_type": "code",
   "execution_count": null,
   "metadata": {},
   "outputs": [],
   "source": [
    "yplt_circle = circle(xplt)\n",
    "Zplt_circle = torch.reshape(yplt_circle[:, 0], (N1, N2)) \n",
    "\n",
    "feasible_inds_circle = (\n",
    "    identify_samples_which_satisfy_constraints(Ycircle, constraints[1])\n",
    "    .prod(dim=-1)\n",
    "    .to(torch.bool)\n",
    ")\n"
   ]
  },
  {
   "cell_type": "code",
   "execution_count": null,
   "metadata": {},
   "outputs": [],
   "source": [
    "yplt_yf = yf(xplt)\n",
    "Zplt_yf = torch.reshape(yplt_yf[:, 0], (N1, N2)) \n",
    "\n",
    "feasible_inds_yf = (\n",
    "    identify_samples_which_satisfy_constraints(Yyf, constraints[2])\n",
    "    .prod(dim=-1)\n",
    "    .to(torch.bool)\n",
    ")"
   ]
  },
  {
   "cell_type": "code",
   "execution_count": null,
   "metadata": {},
   "outputs": [],
   "source": [
    "fig, ax = plt.subplots(1,3, figsize=(30, 7))\n",
    "plot1 = ax[0].contourf(Xplt.cpu(), Yplt.cpu(), Zplt_hills.cpu(), levels=np.linspace(-2, 2, 15), cmap=\"Blues\", alpha=0.6)\n",
    "ax[0].plot(X[feasible_inds_hills, 0].cpu(), X[feasible_inds_hills, 1].cpu(), \"sg\", label=\"Feasible\")\n",
    "ax[0].plot(\n",
    "    X[~feasible_inds_hills, 0].cpu(), X[~feasible_inds_hills, 1].cpu(), \"sr\", label=\"Infeasible\"\n",
    ")\n",
    "ax[0].scatter(X.cpu()[:5, 0], X.cpu()[:5, 1], marker = 'o', s=100, color = 'k')\n",
    "ind = 1\n",
    "for i in X[5:]:\n",
    "    ax[0].text(i[0],i[1],ind, size = 15)\n",
    "    ind += 1\n",
    "ax[0].legend(loc=[0.7, 0.05])\n",
    "ax[0].set_title('Hills function', fontsize=20)\n",
    "\n",
    "ax[0].contour(Xplt.cpu(), Yplt.cpu(), Zplt_hills.cpu(), [constraints[0][1]], colors=\"k\")\n",
    "fig.colorbar(plot1, ax=ax[0])\n",
    "\n",
    "plot2 = ax[1].contourf(Xplt.cpu(), Yplt.cpu(), Zplt_circle.cpu(), levels=np.linspace(0, 30, 15), cmap=\"Blues\", alpha=0.6)\n",
    "ax[1].plot(X[feasible_inds_circle, 0].cpu(), X[feasible_inds_circle, 1].cpu(), \"sg\", label=\"Feasible\")\n",
    "ax[1].plot(\n",
    "    X[~feasible_inds_circle, 0].cpu(), X[~feasible_inds_circle, 1].cpu(), \"sr\", label=\"Infeasible\"\n",
    ")\n",
    "ax[1].scatter(X.cpu()[:5, 0], X.cpu()[:5, 1], marker = 'o', s=100, color = 'k')\n",
    "ax[1].contour(Xplt.cpu(), Yplt.cpu(), Zplt_circle.cpu(), [constraints[1][1]], colors=\"k\")\n",
    "ind = 1\n",
    "for i in X[5:]:\n",
    "    ax[1].text(i[0],i[1],ind, size = 15)\n",
    "    ind += 1\n",
    "ax[1].legend(loc=[0.7, 0.05])\n",
    "ax[1].set_title('Circle function', fontsize=20)\n",
    "fig.colorbar(plot2, ax=ax[1], location='right')\n",
    "\n",
    "\n",
    "\n",
    "\n",
    "plot2 = ax[2].contourf(Xplt.cpu(), Yplt.cpu(), Zplt_yf.cpu(), cmap=\"Blues\", alpha=0.6)\n",
    "ax[2].contour(Xplt.cpu(), Yplt.cpu(), Zplt_yf.cpu(), colors=\"k\", linewidths=0.3)\n",
    "ax[2].scatter(X.cpu()[:5, 0], X.cpu()[:5, 1], marker = 'o', s=100, color = 'k')\n",
    "\n",
    "ax[2].plot(X[feasible_inds_yf, 0].cpu(), X[feasible_inds_yf, 1].cpu(), \"sg\", label=\"Feasible\")\n",
    "ax[2].plot(\n",
    "    X[~feasible_inds_yf, 0].cpu(), X[~feasible_inds_yf, 1].cpu(), \"sr\", label=\"Infeasible\"\n",
    ")\n",
    "ind = 1\n",
    "for i in X[5:]:\n",
    "    ax[2].text(i[0],i[1],ind, size = 15)\n",
    "    ind += 1\n",
    "ax[2].set_title('Classification function', fontsize=20)\n",
    "fig.colorbar(plot2, ax=ax[2], location='right')\n"
   ]
  },
  {
   "cell_type": "markdown",
   "metadata": {},
   "source": [
    "Calculate Posterior and plot"
   ]
  },
  {
   "cell_type": "code",
   "execution_count": null,
   "metadata": {},
   "outputs": [],
   "source": [
    "fig, ax = plt.subplots(1,3, figsize=(30, 7))\n",
    "pos_yplt_hills = gp_model_hills(xplt).loc\n",
    "pos_yplt_circle = gp_model_circle(xplt).loc\n",
    "\n",
    "pos_Zplt_hills = torch.reshape(pos_yplt_hills, (N1, N2))\n",
    "pos_Zplt_circle = torch.reshape(pos_yplt_circle, (N1, N2))\n",
    "\n",
    "pos_yplt_yf = gp_model_class(xplt.float())\n",
    "pred_means = pos_yplt_yf.loc\n",
    "pred_samples = pos_yplt_yf.sample(torch.Size((256,))).exp()\n",
    "probabilities = (pred_samples / pred_samples.sum(-2, keepdim=True)).mean(0)\n",
    "probabilities[0] = probabilities[0]*(probabilities[0].max()-probabilities[0].min())\n",
    "probabilities[1] = probabilities[1]/probabilities[1].max()\n",
    "pos_Zplt_yf = probabilities.max(0)[1].reshape((N1,N2))\n",
    "\n",
    "h1 = ax[0].contourf(Xplt.cpu().detach(), Yplt.cpu().detach(), pos_Zplt_hills.cpu().detach(), levels=np.linspace(-2, 2, 15), cmap=\"Blues\", alpha=0.6)\n",
    "ax[0].contour(Xplt.cpu().detach(), Yplt.cpu().detach(), pos_Zplt_hills.cpu().detach(), [0.3], colors=\"k\")\n",
    "fig.colorbar(h1, ax=ax[0])\n",
    "\n",
    "h2 = ax[1].contourf(Xplt.cpu().detach(), Yplt.cpu().detach(), pos_Zplt_circle.cpu().detach(), levels=np.linspace(0, 30, 15), cmap=\"Blues\", alpha=0.6)\n",
    "ax[1].contour(Xplt.cpu().detach(), Yplt.cpu().detach(), pos_Zplt_circle.cpu().detach(), [20], colors=\"k\")\n",
    "fig.colorbar(h2, ax=ax[1])\n",
    "\n",
    "h3 = ax[2].contourf(Xplt.cpu().detach(), Yplt.cpu().detach(), pos_Zplt_yf.cpu().detach(), cmap=\"Blues\", alpha=0.6)\n",
    "ax[2].contour(Xplt.cpu().detach(), Yplt.cpu().detach(), pos_Zplt_yf.cpu().detach(), colors=\"k\", linewidths=0.3)\n",
    "fig.colorbar(h3, ax=ax[2])"
   ]
  },
  {
   "cell_type": "code",
   "execution_count": null,
   "metadata": {},
   "outputs": [],
   "source": [
    "probabilities[1]"
   ]
  },
  {
   "cell_type": "code",
   "execution_count": null,
   "metadata": {},
   "outputs": [],
   "source": [
    "probabilities[0]"
   ]
  },
  {
   "cell_type": "code",
   "execution_count": null,
   "metadata": {},
   "outputs": [],
   "source": [
    "fig, ax = plt.subplots(1, 2, figsize = (20, 7))\n",
    "\n",
    "levels = np.linspace(0, 1.05, 20)\n",
    "for i in range(2):\n",
    "    im = ax[i].contourf(\n",
    "        Xplt.cpu().detach(), Yplt.cpu().detach(), probabilities[i].numpy().reshape((N1,N2)), levels=levels,\n",
    "    cmap=\"Blues\", alpha=0.6)\n",
    "    fig.colorbar(im, ax=ax[i])\n",
    "    ax[i].plot(X[:,0].numpy(), X[:,1].numpy(), \"ko\")\n",
    "    ax[i].set_title(\"Probabilities: Class \" + str(i), fontsize = 20)"
   ]
  },
  {
   "cell_type": "code",
   "execution_count": null,
   "metadata": {},
   "outputs": [],
   "source": [
    "fig, ax = plt.subplots(1,2, figsize=(19, 7))\n",
    "\n",
    "ax[0].contourf(Xplt.cpu().detach(), Yplt.cpu().detach(), Zplt_yf.cpu().detach(), levels=np.linspace(0.1,1,3), cmap=\"Blues\", alpha=0.6)\n",
    "ax[0].set_title('True Response', fontsize=20)\n",
    "ax[0].plot(X[:,0].numpy(), X[:,1].numpy(), \"ko\")\n",
    "\n",
    "fig.colorbar(im, ax=ax[0])\n",
    "                                                       ######### Right here ########\n",
    "ax[1].contourf(Xplt.cpu().detach(), Yplt.cpu().detach(), pos_Zplt_yf,cmap=\"Blues\", alpha=0.6)\n",
    "ax[1].set_title('Estimated Response', fontsize=20)\n",
    "fig.colorbar(im, ax=ax[1])\n",
    "ax[0].plot(X[:,0].numpy(), X[:,1].numpy(), \"ko\")"
   ]
  },
  {
   "cell_type": "code",
   "execution_count": null,
   "metadata": {},
   "outputs": [],
   "source": [
    "true_overlap = (Zplt_hills > 0.3) & (Zplt_circle > 20) & (Zplt_yf > 0)\n",
    "pos_overlap = (pos_Zplt_hills > 0.3) & (pos_Zplt_circle > 20) & (pos_Zplt_yf > 0)\n",
    "true_overlap_points = feasible_inds_circle & feasible_inds_hills & feasible_inds_yf\n",
    "\n",
    "fig, ax = plt.subplots(1,2, figsize=(17, 7))\n",
    "ax[0].contourf(Xplt.cpu().detach(), Yplt.cpu().detach(), true_overlap.cpu().detach(), levels=np.linspace(0.1,1,3), cmap=\"Blues\", alpha=0.6)\n",
    "ax[0].contour(Xplt.cpu().detach(), Yplt.cpu().detach(), (Zplt_hills>0.3).cpu().detach(), colors=\"k\", linewidths=0.3)\n",
    "ax[0].contour(Xplt.cpu().detach(), Yplt.cpu().detach(), (Zplt_circle>20).cpu().detach(), colors=\"k\", linewidths=0.3)\n",
    "ax[0].contour(Xplt.cpu().detach(), Yplt.cpu().detach(), Zplt_yf.cpu().detach(), colors=\"k\", linewidths=0.3)\n",
    "\n",
    "ax[0].scatter(X.cpu()[:5, 0], X.cpu()[:5, 1], marker = 'o', s=100, color = 'k')\n",
    "ax[0].set_title(\"True boundary\", fontsize=20)\n",
    "ax[0].plot(X[true_overlap_points, 0].cpu(), X[true_overlap_points, 1].cpu(), \"sg\", label=\"Feasible\")\n",
    "ax[0].plot(\n",
    "    X[~true_overlap_points, 0].cpu(), X[~true_overlap_points, 1].cpu(), \"sr\", label=\"Infeasible\"\n",
    ")\n",
    "ind=1\n",
    "for i in X[5:]:\n",
    "    ax[0].text(i[0],i[1],ind, size = 15)\n",
    "    ind += 1\n",
    "\n",
    "ax[1].contourf(Xplt.cpu().detach(), Yplt.cpu().detach(), pos_overlap.cpu().detach(), levels=np.linspace(0.1,1,3), cmap=\"Blues\", alpha=0.6)\n",
    "ax[1].contour(Xplt.cpu().detach(), Yplt.cpu().detach(), (pos_Zplt_hills>0.3).cpu().detach(), colors=\"k\", linewidths=0.3)\n",
    "ax[1].contour(Xplt.cpu().detach(), Yplt.cpu().detach(), (pos_Zplt_circle>20).cpu().detach(), colors=\"k\", linewidths=0.3)\n",
    "ax[1].contour(Xplt.cpu().detach(), Yplt.cpu().detach(), pos_Zplt_yf.cpu().detach(), colors=\"k\", linewidths=0.3)\n",
    "ax[1].plot(X[true_overlap_points, 0].cpu(), X[true_overlap_points, 1].cpu(), \"sg\", label=\"Feasible\")\n",
    "ax[1].plot(\n",
    "    X[~true_overlap_points, 0].cpu(), X[~true_overlap_points, 1].cpu(), \"sr\", label=\"Infeasible\"\n",
    ")\n",
    "ax[1].set_title(\"Estimated boundary\", fontsize=20)"
   ]
  },
  {
   "cell_type": "code",
   "execution_count": null,
   "metadata": {},
   "outputs": [],
   "source": [
    "reward = pos_overlap & true_overlap\n",
    "penalty = pos_overlap & ~true_overlap\n",
    "\n",
    "accuracy = float((reward.sum() - penalty.sum())/true_overlap.sum())\n",
    "accuracy = round(accuracy, 4)\n",
    "print(f\"Accuracy of this run: {accuracy}\")"
   ]
  },
  {
   "cell_type": "code",
   "execution_count": null,
   "metadata": {},
   "outputs": [],
   "source": [
    "reward.sum()"
   ]
  },
  {
   "cell_type": "code",
   "execution_count": null,
   "metadata": {},
   "outputs": [],
   "source": [
    "penalty.sum()"
   ]
  },
  {
   "cell_type": "code",
   "execution_count": null,
   "metadata": {},
   "outputs": [],
   "source": [
    "# if torch.cuda.is_available():\n",
    "#     import gc\n",
    "#     import torch\n",
    "#     gc.collect()\n",
    "#     torch.cuda.empty_cache()"
   ]
  }
 ],
 "metadata": {
  "kernelspec": {
   "display_name": "Python 3 (ipykernel)",
   "language": "python",
   "name": "python3"
  },
  "language_info": {
   "codemirror_mode": {
    "name": "ipython",
    "version": 3
   },
   "file_extension": ".py",
   "mimetype": "text/x-python",
   "name": "python",
   "nbconvert_exporter": "python",
   "pygments_lexer": "ipython3",
   "version": "3.9.13"
  },
  "vscode": {
   "interpreter": {
    "hash": "26de051ba29f2982a8de78e945f0abaf191376122a1563185a90213a26c5da77"
   }
  }
 },
 "nbformat": 4,
 "nbformat_minor": 2
}

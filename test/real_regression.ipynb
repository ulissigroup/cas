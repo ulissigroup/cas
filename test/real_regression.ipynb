{
 "cells": [
  {
   "cell_type": "code",
   "execution_count": 209,
   "metadata": {},
   "outputs": [],
   "source": [
    "import torch\n",
    "import gpytorch\n",
    "import random\n",
    "from gpytorch.likelihoods import GaussianLikelihood, DirichletClassificationLikelihood\n",
    "from gpytorch.mlls import ExactMarginalLogLikelihood\n",
    "from botorch.models import SingleTaskGP\n",
    "from botorch.fit import fit_gpytorch_model\n",
    "from gpytorch.constraints import Interval\n",
    "import matplotlib.pyplot as plt\n",
    "import numpy as np\n",
    "\n",
    "\n",
    "import matplotlib.pyplot as plt\n",
    "from botorch.acquisition.monte_carlo import MCAcquisitionFunction\n",
    "from botorch.acquisition.objective import IdentityMCObjective\n",
    "from botorch.fit import fit_gpytorch_model\n",
    "from botorch.models import ModelListGP, SingleTaskGP\n",
    "from botorch.models.transforms.outcome import Standardize\n",
    "from botorch.optim import optimize_acqf\n",
    "from botorch.utils.sampling import sample_hypersphere\n",
    "from botorch.utils.transforms import t_batch_mode_transform\n",
    "from gpytorch.constraints import Interval\n",
    "from gpytorch.likelihoods import GaussianLikelihood\n",
    "from torch.quasirandom import SobolEngine\n",
    "from matplotlib import pyplot as plt\n",
    "from mpl_toolkits import mplot3d\n",
    "from matplotlib import cm\n",
    "from alse.eci import ExpectedCoverageImprovement"
   ]
  },
  {
   "cell_type": "code",
   "execution_count": 210,
   "metadata": {},
   "outputs": [],
   "source": [
    "tkwargs = {\n",
    "    \"device\": torch.device(\"cpu\"),\n",
    "    \"dtype\": torch.float,\n",
    "}"
   ]
  },
  {
   "cell_type": "code",
   "execution_count": 211,
   "metadata": {},
   "outputs": [],
   "source": [
    "import pandas\n",
    "real_data = pandas.read_excel('data1.xlsx')\n",
    "\n",
    "power = torch.tensor(real_data.loc[:,\"P (W)\"], dtype=torch.float)\n",
    "velocity = torch.tensor(real_data.loc[:,\"V (mm/min)\"], dtype=torch.float)\n",
    "width = torch.tensor(real_data.loc[:,\"widths avg (mm)\"], dtype=torch.float).unsqueeze(-1)\n",
    "pow_cap = torch.tensor(real_data.loc[:,\"powder capt %\"]/100, dtype=torch.float).unsqueeze(-1)\n",
    "\n",
    "X = torch.stack((power, velocity), -1)"
   ]
  },
  {
   "cell_type": "code",
   "execution_count": 212,
   "metadata": {},
   "outputs": [],
   "source": [
    "X=(X-200)/2800"
   ]
  },
  {
   "cell_type": "code",
   "execution_count": 213,
   "metadata": {},
   "outputs": [],
   "source": [
    "def get_and_fit_gp(X, Y):\n",
    "    assert Y.ndim == 2 and Y.shape[-1] == 1\n",
    "    likelihood = GaussianLikelihood(noise_constraint=Interval(1e-9, 1e-6))  # Noise-free\n",
    "    gp = SingleTaskGP(X, Y, likelihood=likelihood)\n",
    "    mll = ExactMarginalLogLikelihood(gp.likelihood, gp)\n",
    "    fit_gpytorch_model(mll)\n",
    "    return gp"
   ]
  },
  {
   "cell_type": "code",
   "execution_count": 215,
   "metadata": {},
   "outputs": [],
   "source": [
    "#               width > 2.5  powder capture > 50%\n",
    "# constraints = [(\"gt\", 2.5), (\"gt\", 0.5)]\n",
    "\n",
    "# bounds = torch.tensor([[200, 200], [3000, 3000]], **tkwargs)\n",
    "# lb, ub = bounds\n"
   ]
  },
  {
   "cell_type": "code",
   "execution_count": 216,
   "metadata": {},
   "outputs": [],
   "source": [
    "gp_model_width = get_and_fit_gp(X, width)\n",
    "# gp_model_pow_cap = get_and_fit_gp(X, pow_cap)"
   ]
  },
  {
   "cell_type": "code",
   "execution_count": 217,
   "metadata": {},
   "outputs": [],
   "source": [
    "N1, N2 = 100, 100\n",
    "Xplt, Yplt = torch.meshgrid(\n",
    "    torch.linspace(200, 3000, N1, **tkwargs), torch.linspace(200, 3000, N2, **tkwargs),\n",
    "    indexing='xy',\n",
    ")\n",
    "xplt = torch.stack(\n",
    "    (\n",
    "        torch.reshape(Xplt, (Xplt.shape[0] * Xplt.shape[1],)),\n",
    "        torch.reshape(Yplt, (Yplt.shape[0] * Yplt.shape[1],)),\n",
    "    ),\n",
    "    dim=1,\n",
    ")"
   ]
  },
  {
   "cell_type": "code",
   "execution_count": 218,
   "metadata": {},
   "outputs": [],
   "source": [
    "predicted_width = gp_model_width(xplt/3000).loc.detach().reshape(N1,N2)\n",
    "# predicted_pow_cap = gp_model_pow_cap(xplt).loc.detach()"
   ]
  },
  {
   "cell_type": "code",
   "execution_count": 219,
   "metadata": {},
   "outputs": [
    {
     "data": {
      "text/plain": [
       "tensor([2.1562])"
      ]
     },
     "execution_count": 219,
     "metadata": {},
     "output_type": "execute_result"
    }
   ],
   "source": [
    "test_point = torch.tensor([[1500,  2600]])\n",
    "gp_model_width(test_point.float()).loc.detach()"
   ]
  },
  {
   "cell_type": "code",
   "execution_count": 220,
   "metadata": {},
   "outputs": [
    {
     "data": {
      "text/plain": [
       "tensor([[0.3578, 0.2805]], grad_fn=<SoftplusBackward0>)"
      ]
     },
     "execution_count": 220,
     "metadata": {},
     "output_type": "execute_result"
    }
   ],
   "source": [
    "gp_model_width.covar_module.base_kernel.lengthscale"
   ]
  },
  {
   "cell_type": "code",
   "execution_count": 221,
   "metadata": {},
   "outputs": [],
   "source": [
    "X=X*2800+200"
   ]
  },
  {
   "cell_type": "code",
   "execution_count": 222,
   "metadata": {},
   "outputs": [
    {
     "data": {
      "text/plain": [
       "[<matplotlib.lines.Line2D at 0x1a4883ed0c0>]"
      ]
     },
     "execution_count": 222,
     "metadata": {},
     "output_type": "execute_result"
    },
    {
     "data": {
      "image/png": "[encoded data removed]",
      "text/plain": [
       "<Figure size 576x576 with 1 Axes>"
      ]
     },
     "metadata": {
      "needs_background": "light"
     },
     "output_type": "display_data"
    }
   ],
   "source": [
    "plt.subplots(figsize=(8, 8))\n",
    "plt.contourf(Xplt, Yplt, predicted_width, cmap=\"Blues\", alpha=0.6)\n",
    "plt.contour(Xplt, Yplt, predicted_width, [2.5], colors=\"k\")\n",
    "plt.xlabel(\"Power\")\n",
    "plt.ylabel(\"Velocity\")\n",
    "plt.plot(X[:,0], X[:,1], \"ko\")\n"
   ]
  }
 ],
 "metadata": {
  "kernelspec": {
   "display_name": "Python 3.10.5 64-bit",
   "language": "python",
   "name": "python3"
  },
  "language_info": {
   "codemirror_mode": {
    "name": "ipython",
    "version": 3
   },
   "file_extension": ".py",
   "mimetype": "text/x-python",
   "name": "python",
   "nbconvert_exporter": "python",
   "pygments_lexer": "ipython3",
   "version": "3.10.5"
  },
  "orig_nbformat": 4,
  "vscode": {
   "interpreter": {
    "hash": "26de051ba29f2982a8de78e945f0abaf191376122a1563185a90213a26c5da77"
   }
  }
 },
 "nbformat": 4,
 "nbformat_minor": 2
}

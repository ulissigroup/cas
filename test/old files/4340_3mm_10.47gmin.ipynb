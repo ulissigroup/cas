{
 "cells": [
  {
   "cell_type": "code",
   "execution_count": 19,
   "metadata": {},
   "outputs": [],
   "source": [
    "import torch\n",
    "import gpytorch\n",
    "import random\n",
    "from gpytorch.likelihoods import GaussianLikelihood, DirichletClassificationLikelihood\n",
    "from gpytorch.mlls import ExactMarginalLogLikelihood\n",
    "from botorch.models import SingleTaskGP\n",
    "from botorch.fit import fit_gpytorch_model\n",
    "from gpytorch.constraints import Interval\n",
    "import matplotlib.pyplot as plt\n",
    "import numpy as np\n",
    "\n",
    "\n",
    "import matplotlib.pyplot as plt\n",
    "from botorch.acquisition.monte_carlo import MCAcquisitionFunction\n",
    "from botorch.acquisition.objective import IdentityMCObjective\n",
    "from botorch.fit import fit_gpytorch_model\n",
    "from botorch.models import ModelListGP, SingleTaskGP\n",
    "from botorch.models.transforms.outcome import Standardize\n",
    "from botorch.optim import optimize_acqf\n",
    "from botorch.utils.sampling import sample_hypersphere\n",
    "from botorch.utils.transforms import t_batch_mode_transform\n",
    "from gpytorch.constraints import Interval\n",
    "from gpytorch.likelihoods import GaussianLikelihood\n",
    "from torch.quasirandom import SobolEngine\n",
    "from matplotlib import pyplot as plt\n",
    "from mpl_toolkits import mplot3d\n",
    "from matplotlib import cm\n",
    "from alse.eci import ExpectedCoverageImprovement\n",
    "from alse.gp_model import DirichletGPModel"
   ]
  },
  {
   "cell_type": "code",
   "execution_count": 50,
   "metadata": {},
   "outputs": [],
   "source": [
    "tkwargs = {\n",
    "    \"device\": torch.device(\"cpu\"),\n",
    "    \"dtype\": torch.float,\n",
    "}\n",
    "\n",
    "            #   width > 2.5   powder capture > 50%           place holder\n",
    "constraints = [(\"gt\", 2.5),      (\"gt\", 0.5),    (\"gt\", 6),     (\"gt\", 0.1)]"
   ]
  },
  {
   "cell_type": "code",
   "execution_count": 39,
   "metadata": {},
   "outputs": [
    {
     "data": {
      "text/plain": [
       "0.9042508602142334"
      ]
     },
     "execution_count": 39,
     "metadata": {},
     "output_type": "execute_result"
    }
   ],
   "source": [
    "torch.rand(1).item()"
   ]
  },
  {
   "cell_type": "code",
   "execution_count": 40,
   "metadata": {},
   "outputs": [],
   "source": [
    "import pandas\n",
    "real_data = pandas.read_excel('~/alse/test_data/4340_3mm_10.47gmin.xlsx')\n",
    "\n",
    "power = torch.tensor(real_data.loc[:,\"P (W)\"])\n",
    "velocity = torch.tensor(real_data.loc[:,\"V (mm/min)\"])\n",
    "width = torch.tensor(real_data.loc[:,\"widths avg (mm)\"]).unsqueeze(-1)\n",
    "pow_cap = torch.tensor(real_data.loc[:,\"powder capt %\"]/100).unsqueeze(-1)\n",
    "height = torch.tensor(real_data.loc[:,\"heights avg (mm)\"])\n",
    "width_to_height = width/height.unsqueeze(-1)\n",
    "width_to_height = torch.nan_to_num(width_to_height, nan = 0.1+torch.rand(1).item())\n",
    "# torch.nan_to_num(width_to_height)\n",
    "adhere = (torch.ones(height.shape).bool() & height.bool()).long()\n",
    "# adhere = torch.stack((adhere, adhere), -1)\n",
    "X = torch.stack((velocity, power), -1)"
   ]
  },
  {
   "cell_type": "markdown",
   "metadata": {},
   "source": [
    "[Temporary] Manual scaling"
   ]
  },
  {
   "cell_type": "code",
   "execution_count": 41,
   "metadata": {},
   "outputs": [],
   "source": [
    "X=X/3000"
   ]
  },
  {
   "cell_type": "code",
   "execution_count": 42,
   "metadata": {},
   "outputs": [],
   "source": [
    "def get_and_fit_gp(X, Y):\n",
    "    assert Y.ndim == 2 and Y.shape[-1] == 1\n",
    "    likelihood = GaussianLikelihood(noise_constraint=Interval(1e-9, 1e-6))  # Noise-free\n",
    "    gp = SingleTaskGP(X, Y, likelihood=likelihood)\n",
    "    mll = ExactMarginalLogLikelihood(gp.likelihood, gp)\n",
    "    fit_gpytorch_model(mll)\n",
    "    return gp\n",
    "\n",
    "def identify_samples_which_satisfy_constraints(X, constraints):\n",
    "    \"\"\"\n",
    "    Takes in values (a1, ..., ak, o) and returns (a1, ..., ak, o)\n",
    "    True/False values, where o is the number of outputs.\n",
    "    \"\"\"\n",
    "    successful = torch.ones(X.shape).to(X)\n",
    "\n",
    "    these_X = X[..., ]\n",
    "    direction, value = constraints\n",
    "    successful[..., ] = (\n",
    "        these_X < value if direction == \"lt\" else these_X > value\n",
    "    )\n",
    "    return successful"
   ]
  },
  {
   "cell_type": "code",
   "execution_count": 43,
   "metadata": {},
   "outputs": [],
   "source": [
    "gp_model_width = get_and_fit_gp(X, width)\n",
    "gp_model_pow_cap = get_and_fit_gp(X, pow_cap)\n",
    "gp_model_wth = get_and_fit_gp(X, width_to_height)\n",
    "\n",
    "\n",
    "adhere_likelihood = DirichletClassificationLikelihood(adhere, learn_additional_noise=True)\n",
    "gp_model_adhere = DirichletGPModel(X, adhere_likelihood.transformed_targets, adhere_likelihood, num_classes=adhere_likelihood.num_classes)"
   ]
  },
  {
   "cell_type": "code",
   "execution_count": 58,
   "metadata": {},
   "outputs": [
    {
     "ename": "RuntimeError",
     "evalue": "You must train on the training inputs!",
     "output_type": "error",
     "traceback": [
      "\u001b[0;31m---------------------------------------------------------------------------\u001b[0m",
      "\u001b[0;31mRuntimeError\u001b[0m                              Traceback (most recent call last)",
      "Input \u001b[0;32mIn [58]\u001b[0m, in \u001b[0;36m<cell line: 10>\u001b[0;34m()\u001b[0m\n\u001b[1;32m     12\u001b[0m optimizer\u001b[38;5;241m.\u001b[39mzero_grad()\n\u001b[1;32m     13\u001b[0m \u001b[38;5;66;03m# Output from model\u001b[39;00m\n\u001b[0;32m---> 14\u001b[0m output \u001b[38;5;241m=\u001b[39m \u001b[43mgp_model_adhere\u001b[49m\u001b[43m(\u001b[49m\u001b[43mX\u001b[49m\u001b[43m)\u001b[49m\n\u001b[1;32m     15\u001b[0m \u001b[38;5;66;03m# Calc loss and backprop gradients\u001b[39;00m\n\u001b[1;32m     16\u001b[0m loss \u001b[38;5;241m=\u001b[39m \u001b[38;5;241m-\u001b[39mmll(output, adhere_likelihood\u001b[38;5;241m.\u001b[39mtransformed_targets)\u001b[38;5;241m.\u001b[39msum()\n",
      "File \u001b[0;32m/opt/conda/lib/python3.9/site-packages/gpytorch/models/exact_gp.py:256\u001b[0m, in \u001b[0;36mExactGP.__call__\u001b[0;34m(self, *args, **kwargs)\u001b[0m\n\u001b[1;32m    254\u001b[0m \u001b[38;5;28;01mif\u001b[39;00m settings\u001b[38;5;241m.\u001b[39mdebug\u001b[38;5;241m.\u001b[39mon():\n\u001b[1;32m    255\u001b[0m     \u001b[38;5;28;01mif\u001b[39;00m \u001b[38;5;129;01mnot\u001b[39;00m \u001b[38;5;28mall\u001b[39m(torch\u001b[38;5;241m.\u001b[39mequal(train_input, \u001b[38;5;28minput\u001b[39m) \u001b[38;5;28;01mfor\u001b[39;00m train_input, \u001b[38;5;28minput\u001b[39m \u001b[38;5;129;01min\u001b[39;00m \u001b[38;5;28mzip\u001b[39m(train_inputs, inputs)):\n\u001b[0;32m--> 256\u001b[0m         \u001b[38;5;28;01mraise\u001b[39;00m \u001b[38;5;167;01mRuntimeError\u001b[39;00m(\u001b[38;5;124m\"\u001b[39m\u001b[38;5;124mYou must train on the training inputs!\u001b[39m\u001b[38;5;124m\"\u001b[39m)\n\u001b[1;32m    257\u001b[0m res \u001b[38;5;241m=\u001b[39m \u001b[38;5;28msuper\u001b[39m()\u001b[38;5;241m.\u001b[39m\u001b[38;5;21m__call__\u001b[39m(\u001b[38;5;241m*\u001b[39minputs, \u001b[38;5;241m*\u001b[39m\u001b[38;5;241m*\u001b[39mkwargs)\n\u001b[1;32m    258\u001b[0m \u001b[38;5;28;01mreturn\u001b[39;00m res\n",
      "\u001b[0;31mRuntimeError\u001b[0m: You must train on the training inputs!"
     ]
    }
   ],
   "source": [
    "gp_model_adhere.train()\n",
    "adhere_likelihood.train()\n",
    "\n",
    "# Use the adam optimizer\n",
    "optimizer = torch.optim.Adam(gp_model_adhere.parameters(), lr=0.01)  # Includes GaussianLikelihood parameters\n",
    "\n",
    "# \"Loss\" for GPs - the marginal log likelihood\n",
    "mll = gpytorch.mlls.ExactMarginalLogLikelihood(adhere_likelihood, gp_model_adhere)\n",
    "\n",
    "for i in range(100):\n",
    "    # Zero gradients from previous iteration\n",
    "    optimizer.zero_grad()\n",
    "    # Output from model\n",
    "    output = gp_model_adhere(X)\n",
    "    # Calc loss and backprop gradients\n",
    "    loss = -mll(output, adhere_likelihood.transformed_targets).sum()\n",
    "    loss.backward()\n",
    "    optimizer.step()"
   ]
  },
  {
   "cell_type": "code",
   "execution_count": 45,
   "metadata": {},
   "outputs": [],
   "source": [
    "N1, N2 = 150, 150\n",
    "Xplt, Yplt = torch.meshgrid(\n",
    "    torch.linspace(0, 3000, N1, **tkwargs), torch.linspace(0, 3000, N2, **tkwargs),\n",
    "    indexing='xy',\n",
    ")\n",
    "xplt = torch.stack(\n",
    "    (\n",
    "        torch.reshape(Xplt, (Xplt.shape[0] * Xplt.shape[1],)),\n",
    "        torch.reshape(Yplt, (Yplt.shape[0] * Yplt.shape[1],)),\n",
    "    ),\n",
    "    dim=1,\n",
    ")"
   ]
  },
  {
   "cell_type": "code",
   "execution_count": 46,
   "metadata": {},
   "outputs": [],
   "source": [
    "predicted_width = gp_model_width(xplt/3000).loc.detach().reshape(N1,N2)\n",
    "predicted_pow_cap = gp_model_pow_cap(xplt/3000).loc.detach().reshape(N1,N2)\n",
    "predicted_wth = gp_model_wth(xplt/3000).loc.detach().reshape(N1,N2)"
   ]
  },
  {
   "cell_type": "code",
   "execution_count": 47,
   "metadata": {},
   "outputs": [
    {
     "data": {
      "text/plain": [
       "tensor([2.0399])"
      ]
     },
     "execution_count": 47,
     "metadata": {},
     "output_type": "execute_result"
    }
   ],
   "source": [
    "test_point = torch.tensor([[1500,  2600]])\n",
    "gp_model_width(test_point.float()).loc.detach()"
   ]
  },
  {
   "cell_type": "code",
   "execution_count": 48,
   "metadata": {},
   "outputs": [
    {
     "data": {
      "text/plain": [
       "tensor([[0.4669, 0.4757]], grad_fn=<SoftplusBackward0>)"
      ]
     },
     "execution_count": 48,
     "metadata": {},
     "output_type": "execute_result"
    }
   ],
   "source": [
    "gp_model_width.covar_module.base_kernel.lengthscale"
   ]
  },
  {
   "cell_type": "code",
   "execution_count": 49,
   "metadata": {},
   "outputs": [
    {
     "name": "stderr",
     "output_type": "stream",
     "text": [
      "/opt/conda/lib/python3.9/site-packages/gpytorch/lazy/lazy_tensor.py:1688: UserWarning: torch.triangular_solve is deprecated in favor of torch.linalg.solve_triangularand will be removed in a future PyTorch release.\n",
      "torch.linalg.solve_triangular has its arguments reversed and does not return a copy of one of the inputs.\n",
      "X = torch.triangular_solve(B, A).solution\n",
      "should be replaced with\n",
      "X = torch.linalg.solve_triangular(A, B). (Triggered internally at  ../aten/src/ATen/native/BatchLinearAlgebra.cpp:2189.)\n",
      "  Linv = torch.triangular_solve(Eye, L, upper=False).solution\n"
     ]
    }
   ],
   "source": [
    "gp_model_adhere.eval()\n",
    "with gpytorch.settings.fast_pred_var(), torch.no_grad():\n",
    "    test_dist = gp_model_adhere(xplt/3000)\n",
    "    pred_means = test_dist.loc\n",
    "\n",
    "\n",
    "pred_samples = test_dist.sample(torch.Size((256,))).exp()\n",
    "probabilities = (pred_samples / pred_samples.sum(-2, keepdim=True)).mean(0)\n",
    "# probabilities[0] = probabilities[0]*(probabilities[0].max()-probabilities[0].min())\n",
    "# probabilities[1] = probabilities[1]/probabilities[1].max()\n",
    "# probabilities[0] = probabilities[0]/probabilities[0].max()\n",
    "# probabilities[1] = probabilities[1]*(probabilities[1].max()-probabilities[1].min())\n",
    "\n",
    "predicted_adhere_myway = probabilities.max(0)[1].reshape(N1,N2)\n",
    "predicted_adhere = pred_means.max(0)[1].reshape(N1,N2)\n"
   ]
  },
  {
   "cell_type": "code",
   "execution_count": 51,
   "metadata": {},
   "outputs": [],
   "source": [
    "X=X*3000"
   ]
  },
  {
   "cell_type": "code",
   "execution_count": 52,
   "metadata": {},
   "outputs": [],
   "source": [
    "feasible_inds_width = (\n",
    "    identify_samples_which_satisfy_constraints(width, constraints[0])\n",
    "    .prod(dim=-1)\n",
    "    .to(torch.bool)\n",
    ")\n",
    "\n",
    "feasible_inds_pow_cap = (\n",
    "    identify_samples_which_satisfy_constraints(pow_cap, constraints[1])\n",
    "    .prod(dim=-1)\n",
    "    .to(torch.bool)\n",
    ")\n",
    "feasible_inds_wth = (\n",
    "    identify_samples_which_satisfy_constraints(width_to_height.unsqueeze(-1), constraints[2])\n",
    "    .prod(dim=-1)\n",
    "    .to(torch.bool)\n",
    ")\n",
    "feasible_inds_adhere = (\n",
    "    identify_samples_which_satisfy_constraints(adhere.unsqueeze(-1), constraints[3])\n",
    "    .prod(dim=-1)\n",
    "    .to(torch.bool)\n",
    ")"
   ]
  },
  {
   "cell_type": "code",
   "execution_count": 57,
   "metadata": {},
   "outputs": [
    {
     "data": {
      "text/plain": [
       "[<matplotlib.lines.Line2D at 0x7f37c0049c10>]"
      ]
     },
     "execution_count": 57,
     "metadata": {},
     "output_type": "execute_result"
    },
    {
     "data": {
      "image/png": "[encoded data removed]",
      "text/plain": [
       "<Figure size 576x576 with 1 Axes>"
      ]
     },
     "metadata": {
      "needs_background": "light"
     },
     "output_type": "display_data"
    }
   ],
   "source": [
    "probabilities[0] = probabilities[0]/probabilities[0].max()\n",
    "probabilities[1] = probabilities[1]*(probabilities[1].max()-probabilities[1].min())\n",
    "\n",
    "predicted_adhere_myway = probabilities.max(0)[1].reshape(N1,N2)\n",
    "\n",
    "plt.subplots(figsize=(8, 8))\n",
    "plt.contourf(Xplt.cpu(), Yplt.cpu(), predicted_adhere_myway.cpu(), cmap=\"Blues\", alpha=0.6)\n",
    "plt.contour(Xplt.cpu(), Yplt.cpu(), predicted_adhere_myway.cpu(), colors=\"k\", linewidths=0.3)\n",
    "plt.xlabel(\"Power\")\n",
    "plt.ylabel(\"Velocity\")\n",
    "# plt.plot(X[:,0].numpy(), X[:,1].numpy(), \"ko\")\n",
    "plt.plot(X[feasible_inds_adhere, 0].cpu(), X[feasible_inds_adhere, 1].cpu(), \"og\")\n",
    "plt.plot(X[~feasible_inds_adhere, 0].cpu(), X[~feasible_inds_adhere, 1].cpu(), \"or\")"
   ]
  },
  {
   "cell_type": "markdown",
   "metadata": {},
   "source": [
    "ECI Section"
   ]
  },
  {
   "cell_type": "code",
   "execution_count": 23,
   "metadata": {},
   "outputs": [],
   "source": [
    "\n",
    "punchout_radius = 0.001\n",
    "bounds = torch.tensor([[200, 200], [3000, 3000]], **tkwargs)\n",
    "lb, ub = bounds\n"
   ]
  },
  {
   "cell_type": "code",
   "execution_count": 24,
   "metadata": {},
   "outputs": [
    {
     "name": "stderr",
     "output_type": "stream",
     "text": [
      "c:\\Program Files\\Python310\\lib\\site-packages\\gpytorch\\utils\\cholesky.py:40: NumericalWarning: A not p.d., added jitter of 1.0e-06 to the diagonal\n",
      "  warnings.warn(\n",
      "c:\\Program Files\\Python310\\lib\\site-packages\\gpytorch\\utils\\cholesky.py:40: NumericalWarning: A not p.d., added jitter of 1.0e-05 to the diagonal\n",
      "  warnings.warn(\n",
      "c:\\Program Files\\Python310\\lib\\site-packages\\gpytorch\\utils\\cholesky.py:40: NumericalWarning: A not p.d., added jitter of 1.0e-04 to the diagonal\n",
      "  warnings.warn(\n"
     ]
    },
    {
     "name": "stdout",
     "output_type": "stream",
     "text": [
      "New X: Power: 1449.96W, Velocity: 2760.97mm/min\n"
     ]
    }
   ],
   "source": [
    "\n",
    "# # We don't have to normalize X since the domain is [0, 1]^2. Make sure to\n",
    "# # appropriately adjust the punchout radius if the domain is normalized.\n",
    "\n",
    "# model_list_gp = ModelListGP(gp_model_width, gp_model_pow_cap, gp_model_adhere)\n",
    "\n",
    "# eci = ExpectedCoverageImprovement(\n",
    "#     model=model_list_gp,\n",
    "#     constraints=constraints,\n",
    "#     punchout_radius=punchout_radius,\n",
    "#     bounds=bounds,\n",
    "#     num_samples=512\n",
    "# )\n",
    "\n",
    "# x_next, _ = optimize_acqf(\n",
    "#     acq_function=eci,\n",
    "#     bounds=bounds,\n",
    "#     q=1,\n",
    "#     num_restarts=10,\n",
    "#     raw_samples=512\n",
    "# )\n",
    "# new_power = round(x_next[0][0].item(), 2)\n",
    "# new_velocity = round(x_next[0][1].item(), 2)\n",
    "# print(f\"New X: Power: {new_power}W, Velocity: {new_velocity}mm/min\")"
   ]
  },
  {
   "cell_type": "code",
   "execution_count": 25,
   "metadata": {},
   "outputs": [
    {
     "data": {
      "text/plain": [
       "[<matplotlib.lines.Line2D at 0x22a80364580>]"
      ]
     },
     "execution_count": 25,
     "metadata": {},
     "output_type": "execute_result"
    },
    {
     "data": {
      "image/png": "[encoded data removed]",
      "text/plain": [
       "<Figure size 576x576 with 1 Axes>"
      ]
     },
     "metadata": {
      "needs_background": "light"
     },
     "output_type": "display_data"
    }
   ],
   "source": [
    "# plt.subplots(figsize=(8, 8))\n",
    "# plt.plot(X[:,0], X[:,1], \"ko\")\n",
    "# plt.plot(x_next[0][0], x_next[0][1], \"ro\")\n"
   ]
  },
  {
   "cell_type": "code",
   "execution_count": 54,
   "metadata": {},
   "outputs": [],
   "source": [
    "est_width = predicted_width > 2.5\n",
    "est_pow_cap = predicted_pow_cap > 0.5\n",
    "est_wth = predicted_wth > 6\n",
    "est_adhere = predicted_adhere\n",
    "\n",
    "reference = (est_width & est_pow_cap & est_wth & est_adhere)"
   ]
  },
  {
   "cell_type": "code",
   "execution_count": 56,
   "metadata": {},
   "outputs": [
    {
     "data": {
      "text/plain": [
       "<matplotlib.contour.QuadContourSet at 0x7f37c01755e0>"
      ]
     },
     "execution_count": 56,
     "metadata": {},
     "output_type": "execute_result"
    },
    {
     "data": {
      "image/png": "[encoded data removed]",
      "text/plain": [
       "<Figure size 576x576 with 1 Axes>"
      ]
     },
     "metadata": {
      "needs_background": "light"
     },
     "output_type": "display_data"
    }
   ],
   "source": [
    "plt.subplots(figsize=(8, 8))\n",
    "plt.contour(Xplt.cpu(), Yplt.cpu(), est_width.cpu(), colors=\"k\", linewidths=0.3)\n",
    "plt.contour(Xplt.cpu(), Yplt.cpu(), est_pow_cap.cpu(), colors=\"k\", linewidths=0.3)\n",
    "plt.contour(Xplt.cpu(), Yplt.cpu(), est_wth.cpu(), colors=\"k\", linewidths=0.3)\n",
    "\n",
    "plt.contour(Xplt.cpu(), Yplt.cpu(), est_adhere.cpu(), colors=\"k\", linewidths=0.3)\n",
    "plt.contourf(Xplt.cpu(), Yplt.cpu(), reference.cpu(), cmap=\"Blues\", alpha=0.6)\n",
    "plt.xlabel('Velocity (mm/min)')\n",
    "plt.ylabel('Power (W)')"
   ]
  },
  {
   "cell_type": "code",
   "execution_count": null,
   "metadata": {},
   "outputs": [],
   "source": []
  }
 ],
 "metadata": {
  "kernelspec": {
   "display_name": "Python 3 (ipykernel)",
   "language": "python",
   "name": "python3"
  },
  "language_info": {
   "codemirror_mode": {
    "name": "ipython",
    "version": 3
   },
   "file_extension": ".py",
   "mimetype": "text/x-python",
   "name": "python",
   "nbconvert_exporter": "python",
   "pygments_lexer": "ipython3",
   "version": "3.9.13"
  },
  "vscode": {
   "interpreter": {
    "hash": "26de051ba29f2982a8de78e945f0abaf191376122a1563185a90213a26c5da77"
   }
  }
 },
 "nbformat": 4,
 "nbformat_minor": 2
}

{
 "cells": [
  {
   "cell_type": "code",
   "execution_count": 1,
   "metadata": {},
   "outputs": [],
   "source": [
    "import matplotlib.pyplot as plt\n",
    "import torch\n",
    "from botorch.models import ModelListGP\n",
    "from botorch.optim import optimize_acqf\n",
    "from torch.quasirandom import SobolEngine\n",
    "from matplotlib import pyplot as plt\n",
    "import numpy as np\n",
    "from alse.eci import ExpectedCoverageImprovement\n",
    "from alse.accuracy import get_accuracy\n",
    "from alse.utils import identify_samples_which_satisfy_constraints\n",
    "from alse.fit_model import fit_gp_class, fit_gp_reg\n",
    "from alse.test_function.fxns import yf, hills, circle\n",
    "from alse.fit_all_demo_only import fit_all_models\n",
    "from alse.plot_demo import plot_3_graphs, side_by_side, make_meshgrid\n",
    "# from mpl_toolkits import mplot3d\n",
    "# from matplotlib import cm"
   ]
  },
  {
   "cell_type": "code",
   "execution_count": 2,
   "metadata": {},
   "outputs": [
    {
     "data": {
      "text/plain": [
       "True"
      ]
     },
     "execution_count": 2,
     "metadata": {},
     "output_type": "execute_result"
    }
   ],
   "source": [
    "torch.cuda.is_available()"
   ]
  },
  {
   "cell_type": "markdown",
   "metadata": {},
   "source": [
    "If no GPU change \"cuda\" to \"cpu\""
   ]
  },
  {
   "cell_type": "code",
   "execution_count": 3,
   "metadata": {},
   "outputs": [],
   "source": [
    "tkwargs = {\n",
    "    # \"device\": torch.device(\"cuda\" if torch.cuda.is_available() else \"cpu\"),\n",
    "    \"device\": torch.device(\"cpu\"),\n",
    "    \"dtype\": torch.double,\n",
    "}"
   ]
  },
  {
   "cell_type": "code",
   "execution_count": 4,
   "metadata": {},
   "outputs": [],
   "source": [
    "bounds = torch.tensor([[-3, -3], [3, 3]], **tkwargs)\n",
    "lb, ub = bounds\n",
    "dim = len(lb)\n",
    "punchout_radius = 0.6"
   ]
  },
  {
   "cell_type": "code",
   "execution_count": 5,
   "metadata": {},
   "outputs": [
    {
     "name": "stdout",
     "output_type": "stream",
     "text": [
      "tensor([[ 1.7783, -1.8737],\n",
      "        [-0.9185,  1.7610],\n",
      "        [-2.6130, -0.5423],\n",
      "        [ 0.0838,  0.4675],\n",
      "        [ 1.4268, -0.9868]], dtype=torch.float64)\n"
     ]
    },
    {
     "data": {
      "image/png": "[encoded data removed]",
      "text/plain": [
       "<Figure size 432x288 with 1 Axes>"
      ]
     },
     "metadata": {
      "needs_background": "light"
     },
     "output_type": "display_data"
    }
   ],
   "source": [
    "num_init_points = 5\n",
    "\n",
    "X = lb + (ub - lb) * SobolEngine(dim, scramble=True).draw(num_init_points).to(**tkwargs)\n",
    "Yhills = hills(X)\n",
    "Ycircle = circle(X)\n",
    "Yyf = yf(X)\n",
    "plt.scatter(X.cpu().numpy()[:, 0], X.cpu().numpy()[:, 1], c=Yhills.cpu()[:,0])\n",
    "plt.scatter(X.cpu().numpy()[:, 0], X.cpu().numpy()[:, 1], c=Ycircle.cpu()[:,0])\n",
    "print(X)"
   ]
  },
  {
   "cell_type": "code",
   "execution_count": 6,
   "metadata": {},
   "outputs": [
    {
     "name": "stderr",
     "output_type": "stream",
     "text": [
      "c:\\Program Files\\Python310\\lib\\site-packages\\gpytorch\\lazy\\triangular_lazy_tensor.py:136: UserWarning: torch.triangular_solve is deprecated in favor of torch.linalg.solve_triangularand will be removed in a future PyTorch release.\n",
      "torch.linalg.solve_triangular has its arguments reversed and does not return a copy of one of the inputs.\n",
      "X = torch.triangular_solve(B, A).solution\n",
      "should be replaced with\n",
      "X = torch.linalg.solve_triangular(A, B). (Triggered internally at  ..\\aten\\src\\ATen\\native\\BatchLinearAlgebra.cpp:2189.)\n",
      "  res = torch.triangular_solve(right_tensor, self.evaluate(), upper=self.upper).solution\n"
     ]
    }
   ],
   "source": [
    "gp_model_hills = fit_gp_reg(X, Yhills)\n",
    "gp_model_circle = fit_gp_reg(X, Ycircle)\n",
    "gp_model_class = fit_gp_class(X, Yyf, iter=300, lr=0.05)\n",
    "model_list_gp = ModelListGP(gp_model_hills, gp_model_circle, gp_model_class)"
   ]
  },
  {
   "cell_type": "code",
   "execution_count": 7,
   "metadata": {},
   "outputs": [],
   "source": [
    "def eval_mode():\n",
    "    gp_model_hills.eval()\n",
    "    gp_model_circle.eval()\n",
    "    gp_model_class.eval()\n",
    "    pass"
   ]
  },
  {
   "cell_type": "code",
   "execution_count": 8,
   "metadata": {},
   "outputs": [
    {
     "name": "stderr",
     "output_type": "stream",
     "text": [
      "c:\\Program Files\\Python310\\lib\\site-packages\\gpytorch\\utils\\cholesky.py:40: NumericalWarning: A not p.d., added jitter of 1.0e-06 to the diagonal\n",
      "  warnings.warn(\n"
     ]
    }
   ],
   "source": [
    "constraints = [(\"gt\", 0.3), (\"gt\", 20), (\"gt\", 0.1)]\n",
    "# normalization\n",
    "# mean = X.mean(dim=-2, keepdim=True)\n",
    "# std = X.std(dim=-2, keepdim=True) + 1e-6 # prevent dividing by 0\n",
    "# X = (X - mean) / std\n",
    "\n",
    "# We don't have to normalize X since the domain is [0, 1]^2. Make sure to\n",
    "# appropriately adjust the punchout radius if the domain is normalized.\n",
    "def one_iter_eci(X, Yhills, Ycircle, Yyf):\n",
    "    gp_model_hills = fit_gp_reg(X, Yhills)\n",
    "    gp_model_circle = fit_gp_reg(X, Ycircle)\n",
    "    gp_model_class = fit_gp_class(X, Yyf, iter=300, lr=0.05)\n",
    "    model_list_gp = ModelListGP(gp_model_hills, gp_model_circle, gp_model_class)\n",
    "\n",
    "    eci = ExpectedCoverageImprovement(\n",
    "        model=model_list_gp,\n",
    "        constraints=constraints,\n",
    "        punchout_radius=punchout_radius,\n",
    "        bounds=bounds,\n",
    "        num_samples=512,\n",
    "    )\n",
    "    gp_model_hills.eval()\n",
    "    gp_model_circle.eval()\n",
    "    gp_model_class.eval()\n",
    "\n",
    "    x_next, _ = optimize_acqf(\n",
    "        acq_function=eci,\n",
    "        bounds=bounds,\n",
    "        q=1,\n",
    "        num_restarts=10,\n",
    "        raw_samples=512,\n",
    "    )\n",
    "\n",
    "    return torch.cat((X, x_next))\n",
    "# Yhills = torch.cat((Yhills, hills(x_next)))\n",
    "# Ycircle = torch.cat((Ycircle, circle(x_next)))\n",
    "# Yyf = torch.cat((Yyf, yf(x_next)))\n",
    "X = one_iter_eci(X, Yhills, Ycircle, Yyf)"
   ]
  },
  {
   "cell_type": "markdown",
   "metadata": {},
   "source": [
    "This part is the two output part"
   ]
  },
  {
   "cell_type": "code",
   "execution_count": 9,
   "metadata": {},
   "outputs": [],
   "source": [
    "eval_mode()"
   ]
  },
  {
   "cell_type": "code",
   "execution_count": 10,
   "metadata": {},
   "outputs": [],
   "source": [
    "                                                #Last elem is x_next\n",
    "Yhills_temp = torch.cat((Yhills, gp_model_hills(X[-1].unsqueeze(0)).loc.unsqueeze(-1)))\n",
    "Ycircle_temp = torch.cat((Ycircle, gp_model_circle(X[-1].unsqueeze(0)).loc.unsqueeze(-1)))\n",
    "Yyf_temp = torch.cat((Yyf, gp_model_class(X[-1].unsqueeze(0).float()).loc[0].unsqueeze(-1))) # Class 0"
   ]
  },
  {
   "cell_type": "code",
   "execution_count": 11,
   "metadata": {},
   "outputs": [
    {
     "name": "stderr",
     "output_type": "stream",
     "text": [
      "c:\\Program Files\\Python310\\lib\\site-packages\\gpytorch\\utils\\cholesky.py:40: NumericalWarning: A not p.d., added jitter of 1.0e-06 to the diagonal\n",
      "  warnings.warn(\n"
     ]
    }
   ],
   "source": [
    "# Fit models using the new X and predicted Y\n",
    "\n",
    "                                # Need to detach for some reason\n",
    "X = one_iter_eci(X, Yhills_temp.detach(), Ycircle_temp.detach(), Yyf_temp)"
   ]
  },
  {
   "cell_type": "code",
   "execution_count": 12,
   "metadata": {},
   "outputs": [
    {
     "name": "stdout",
     "output_type": "stream",
     "text": [
      "Two new points are:\n"
     ]
    },
    {
     "data": {
      "text/plain": [
       "tensor([[1.2894, 0.2329],\n",
       "        [2.8691, 2.8736]], dtype=torch.float64)"
      ]
     },
     "execution_count": 12,
     "metadata": {},
     "output_type": "execute_result"
    }
   ],
   "source": [
    "print(\"Two new points are:\")\n",
    "X[-2:]"
   ]
  }
 ],
 "metadata": {
  "kernelspec": {
   "display_name": "Python 3 (ipykernel)",
   "language": "python",
   "name": "python3"
  },
  "language_info": {
   "codemirror_mode": {
    "name": "ipython",
    "version": 3
   },
   "file_extension": ".py",
   "mimetype": "text/x-python",
   "name": "python",
   "nbconvert_exporter": "python",
   "pygments_lexer": "ipython3",
   "version": "3.10.5"
  },
  "vscode": {
   "interpreter": {
    "hash": "26de051ba29f2982a8de78e945f0abaf191376122a1563185a90213a26c5da77"
   }
  }
 },
 "nbformat": 4,
 "nbformat_minor": 2
}

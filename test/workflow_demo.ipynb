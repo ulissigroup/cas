{
 "cells": [
  {
   "cell_type": "code",
   "execution_count": 14,
   "metadata": {},
   "outputs": [],
   "source": [
    "import matplotlib.pyplot as plt\n",
    "import torch\n",
    "from torch.quasirandom import SobolEngine\n",
    "from matplotlib import pyplot as plt\n",
    "import numpy as np\n",
    "from alse.accuracy import get_accuracy\n",
    "from alse.utils import identify_samples_which_satisfy_constraints, store_param, transform, un_transform\n",
    "# from mpl_toolkits import mplot3d\n",
    "# from matplotlib import cm\n",
    "from alse.print_workflow.read_excel import read_excel\n",
    "from alse.print_workflow.init_model import initialize_models\n",
    "from alse.one_iter_eci import one_iter_eci"
   ]
  },
  {
   "cell_type": "code",
   "execution_count": 15,
   "metadata": {},
   "outputs": [],
   "source": [
    "tkwargs = {\n",
    "    \"device\": torch.device(\"cpu\"),\n",
    "    \"dtype\": torch.float,\n",
    "}"
   ]
  },
  {
   "cell_type": "markdown",
   "metadata": {},
   "source": [
    "Read data"
   ]
  },
  {
   "cell_type": "code",
   "execution_count": 16,
   "metadata": {},
   "outputs": [
    {
     "name": "stdout",
     "output_type": "stream",
     "text": [
      "Name for the excel sheets are hardcoded in this version\n",
      "Spot size and feed rate are hardcoded in this version\n"
     ]
    }
   ],
   "source": [
    "X, width, pow_cap, adhere = read_excel()"
   ]
  },
  {
   "cell_type": "code",
   "execution_count": 17,
   "metadata": {},
   "outputs": [],
   "source": [
    "# Store for un_transform later\n",
    "xrange_list, xmin_list = store_param(X, 4)"
   ]
  },
  {
   "cell_type": "code",
   "execution_count": 18,
   "metadata": {},
   "outputs": [],
   "source": [
    "X = transform(X, 4)\n",
    "\n",
    "# You can verify the Normalization is correct by undoing the above step and comparing to original data\n",
    "# X = un_transform(X, xrange_list, xmin_list, 4) "
   ]
  },
  {
   "cell_type": "code",
   "execution_count": 19,
   "metadata": {},
   "outputs": [],
   "source": [
    "list_of_models = initialize_models(X, width, pow_cap, adhere) # You can put in arbitrary amount of output parameters"
   ]
  },
  {
   "cell_type": "code",
   "execution_count": 20,
   "metadata": {},
   "outputs": [],
   "source": [
    "punchout_radius = 0.1\n",
    "bounds = torch.tensor([[0, 0, 0, 0], [1, 1, 1, 1]], **tkwargs) # Because we normalized\n",
    "lb, ub = bounds\n"
   ]
  },
  {
   "cell_type": "code",
   "execution_count": 21,
   "metadata": {},
   "outputs": [],
   "source": [
    "constraints = [(\"gt\", 0.3), (\"gt\", 20), (\"gt\", 0.1)]\n",
    "# normalization\n",
    "# mean = X.mean(dim=-2, keepdim=True)\n",
    "# std = X.std(dim=-2, keepdim=True) + 1e-6 # prevent dividing by 0\n",
    "# X = (X - mean) / std"
   ]
  },
  {
   "cell_type": "code",
   "execution_count": 22,
   "metadata": {},
   "outputs": [],
   "source": [
    "# How many new points do we want\n",
    "num_pred = 3\n",
    "Ytemp = [width, pow_cap, adhere]"
   ]
  },
  {
   "cell_type": "markdown",
   "metadata": {},
   "source": [
    "Code below will be moved to generate_test_points in the next revision"
   ]
  },
  {
   "cell_type": "code",
   "execution_count": null,
   "metadata": {},
   "outputs": [],
   "source": [
    "for i in range(num_pred):\n",
    "\n",
    "    X, list_of_models = one_iter_eci(X, constraints, punchout_radius, bounds, Ytemp[0].detach(), Ytemp[1].detach(), Ytemp[2].detach())\n",
    "\n",
    "    # This part is hardcoded\n",
    "    Ytemp[0] = torch.cat((Ytemp[0], list_of_models[0](X[-1].unsqueeze(0)).loc.unsqueeze(-1)))\n",
    "    Ytemp[1] = torch.cat((Ytemp[1], list_of_models[1](X[-1].unsqueeze(0)).loc.unsqueeze(-1)))\n",
    "\n",
    "    # This is a mess, I'll clean it up later\n",
    "    _compare = (list_of_models[2](X[-1].unsqueeze(0).float()).loc[0] > list_of_models[2](X[-1].unsqueeze(0).float()).loc[1]).long().unsqueeze(0)\n",
    "    Ytemp[2] = torch.cat((Ytemp[2], _compare))"
   ]
  },
  {
   "cell_type": "code",
   "execution_count": 24,
   "metadata": {},
   "outputs": [],
   "source": [
    "X = un_transform(X, xrange_list, xmin_list, 4)"
   ]
  },
  {
   "cell_type": "code",
   "execution_count": 25,
   "metadata": {},
   "outputs": [],
   "source": [
    "new_N_points = X[-num_pred:]"
   ]
  },
  {
   "cell_type": "code",
   "execution_count": 26,
   "metadata": {},
   "outputs": [
    {
     "name": "stdout",
     "output_type": "stream",
     "text": [
      "New X_1: Power: 2556.23W, Velocity: 1234.74mm/min, Spot size: 2.75mm, Feedrate: 8.33g/min\n",
      "New X_2: Power: 1023.88W, Velocity: 878.08mm/min, Spot size: 2.9mm, Feedrate: 9.35g/min\n",
      "New X_3: Power: 1578.78W, Velocity: 2833.87mm/min, Spot size: 2.79mm, Feedrate: 6.2g/min\n"
     ]
    }
   ],
   "source": [
    "for i in range(new_N_points.shape[0], 0, -1):\n",
    "    new_power = round(X[-i][0].item(), 2)\n",
    "    new_velocity = round(X[-i][1].item(), 2)\n",
    "    new_spotsize = round(X[-i][2].item(), 2)\n",
    "    new_feedrate = round(X[-i][3].item(), 2)\n",
    "    print(f\"New X_{new_N_points.shape[0]+1-i}: Power: {new_power}W, Velocity: {new_velocity}mm/min, Spot size: {new_spotsize}mm, Feedrate: {new_feedrate}g/min\")"
   ]
  }
 ],
 "metadata": {
  "kernelspec": {
   "display_name": "Python 3.10.5 64-bit",
   "language": "python",
   "name": "python3"
  },
  "language_info": {
   "codemirror_mode": {
    "name": "ipython",
    "version": 3
   },
   "file_extension": ".py",
   "mimetype": "text/x-python",
   "name": "python",
   "nbconvert_exporter": "python",
   "pygments_lexer": "ipython3",
   "version": "3.10.5"
  },
  "orig_nbformat": 4,
  "vscode": {
   "interpreter": {
    "hash": "26de051ba29f2982a8de78e945f0abaf191376122a1563185a90213a26c5da77"
   }
  }
 },
 "nbformat": 4,
 "nbformat_minor": 2
}

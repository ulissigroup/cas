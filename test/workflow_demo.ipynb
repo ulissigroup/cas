{
 "cells": [
  {
   "cell_type": "code",
   "execution_count": 1,
   "metadata": {},
   "outputs": [
    {
     "name": "stderr",
     "output_type": "stream",
     "text": [
      "C:\\Users\\Leo\\AppData\\Roaming\\Python\\Python39\\site-packages\\tqdm\\auto.py:22: TqdmWarning: IProgress not found. Please update jupyter and ipywidgets. See https://ipywidgets.readthedocs.io/en/stable/user_install.html\n",
      "  from .autonotebook import tqdm as notebook_tqdm\n"
     ]
    }
   ],
   "source": [
    "import matplotlib.pyplot as plt\n",
    "import torch\n",
    "from torch.quasirandom import SobolEngine\n",
    "from matplotlib import pyplot as plt\n",
    "import numpy as np\n",
    "from alse.accuracy import get_accuracy\n",
    "from alse.utils import identify_samples_which_satisfy_constraints, store_param, transform, un_transform\n",
    "# from mpl_toolkits import mplot3d\n",
    "# from matplotlib import cm\n",
    "from alse.print_workflow.read_excel import read_excel\n",
    "from alse.print_workflow.init_model import initialize_models\n",
    "from alse.one_iter_eci import one_iter_eci\n",
    "from alse.print_workflow.generate_test_points import generate_test_points"
   ]
  },
  {
   "cell_type": "code",
   "execution_count": 2,
   "metadata": {},
   "outputs": [],
   "source": [
    "tkwargs = {\n",
    "    \"device\": torch.device(\"cpu\"),\n",
    "    \"dtype\": torch.float,\n",
    "}"
   ]
  },
  {
   "cell_type": "markdown",
   "metadata": {},
   "source": [
    "Read data"
   ]
  },
  {
   "cell_type": "code",
   "execution_count": 3,
   "metadata": {},
   "outputs": [
    {
     "name": "stdout",
     "output_type": "stream",
     "text": [
      "Name for the excel sheets are hardcoded in this version\n",
      "Spot size and feed rate are hardcoded in this version\n"
     ]
    }
   ],
   "source": [
    "X, width, pow_cap, adhere = read_excel()"
   ]
  },
  {
   "cell_type": "code",
   "execution_count": 4,
   "metadata": {},
   "outputs": [],
   "source": [
    "# Store for un_transform later\n",
    "xrange_list, xmin_list = store_param(X, 4)"
   ]
  },
  {
   "cell_type": "code",
   "execution_count": 5,
   "metadata": {},
   "outputs": [],
   "source": [
    "X = transform(X, 4)\n",
    "\n",
    "# You can verify the Normalization is correct by undoing the above step and comparing to original data\n",
    "# X = un_transform(X, xrange_list, xmin_list, 4) "
   ]
  },
  {
   "cell_type": "code",
   "execution_count": 6,
   "metadata": {},
   "outputs": [
    {
     "name": "stderr",
     "output_type": "stream",
     "text": [
      "C:\\Users\\Leo\\AppData\\Roaming\\Python\\Python39\\site-packages\\gpytorch\\lazy\\triangular_lazy_tensor.py:136: UserWarning: torch.triangular_solve is deprecated in favor of torch.linalg.solve_triangularand will be removed in a future PyTorch release.\n",
      "torch.linalg.solve_triangular has its arguments reversed and does not return a copy of one of the inputs.\n",
      "X = torch.triangular_solve(B, A).solution\n",
      "should be replaced with\n",
      "X = torch.linalg.solve_triangular(A, B). (Triggered internally at  C:\\actions-runner\\_work\\pytorch\\pytorch\\builder\\windows\\pytorch\\aten\\src\\ATen\\native\\BatchLinearAlgebra.cpp:2189.)\n",
      "  res = torch.triangular_solve(right_tensor, self.evaluate(), upper=self.upper).solution\n"
     ]
    }
   ],
   "source": [
    "list_of_models = initialize_models(X, width, pow_cap, adhere) # You can put in arbitrary amount of output parameters"
   ]
  },
  {
   "cell_type": "code",
   "execution_count": 7,
   "metadata": {},
   "outputs": [],
   "source": [
    "punchout_radius = 0.1\n",
    "bounds = torch.tensor([[0, 0, 0, 0], [1, 1, 1, 1]], **tkwargs) # Because we normalized\n",
    "lb, ub = bounds\n"
   ]
  },
  {
   "cell_type": "code",
   "execution_count": 8,
   "metadata": {},
   "outputs": [],
   "source": [
    "constraints = [(\"gt\", 0.3), (\"gt\", 20), (\"gt\", 0.1)]\n",
    "# normalization\n",
    "# mean = X.mean(dim=-2, keepdim=True)\n",
    "# std = X.std(dim=-2, keepdim=True) + 1e-6 # prevent dividing by 0\n",
    "# X = (X - mean) / std"
   ]
  },
  {
   "cell_type": "code",
   "execution_count": 9,
   "metadata": {},
   "outputs": [],
   "source": [
    "# How many new points do we want\n",
    "num_pred = 3\n",
    "Ytemp = [width, pow_cap, adhere] #Store temps for test point generation"
   ]
  },
  {
   "cell_type": "code",
   "execution_count": 11,
   "metadata": {},
   "outputs": [
    {
     "name": "stderr",
     "output_type": "stream",
     "text": [
      "C:\\Users\\Leo\\AppData\\Roaming\\Python\\Python39\\site-packages\\gpytorch\\utils\\cholesky.py:40: NumericalWarning: A not p.d., added jitter of 1.0e-06 to the diagonal\n",
      "  warnings.warn(\n",
      "C:\\Users\\Leo\\AppData\\Roaming\\Python\\Python39\\site-packages\\gpytorch\\utils\\cholesky.py:40: NumericalWarning: A not p.d., added jitter of 1.0e-05 to the diagonal\n",
      "  warnings.warn(\n",
      "C:\\Users\\Leo\\AppData\\Roaming\\Python\\Python39\\site-packages\\gpytorch\\utils\\cholesky.py:40: NumericalWarning: A not p.d., added jitter of 1.0e-04 to the diagonal\n",
      "  warnings.warn(\n",
      "C:\\Users\\Leo\\AppData\\Roaming\\Python\\Python39\\site-packages\\gpytorch\\utils\\cholesky.py:40: NumericalWarning: A not p.d., added jitter of 1.0e-06 to the diagonal\n",
      "  warnings.warn(\n",
      "C:\\Users\\Leo\\AppData\\Roaming\\Python\\Python39\\site-packages\\gpytorch\\utils\\cholesky.py:40: NumericalWarning: A not p.d., added jitter of 1.0e-05 to the diagonal\n",
      "  warnings.warn(\n",
      "C:\\Users\\Leo\\AppData\\Roaming\\Python\\Python39\\site-packages\\gpytorch\\utils\\cholesky.py:40: NumericalWarning: A not p.d., added jitter of 1.0e-04 to the diagonal\n",
      "  warnings.warn(\n",
      "C:\\Users\\Leo\\AppData\\Roaming\\Python\\Python39\\site-packages\\gpytorch\\utils\\cholesky.py:40: NumericalWarning: A not p.d., added jitter of 1.0e-06 to the diagonal\n",
      "  warnings.warn(\n",
      "C:\\Users\\Leo\\AppData\\Roaming\\Python\\Python39\\site-packages\\gpytorch\\utils\\cholesky.py:40: NumericalWarning: A not p.d., added jitter of 1.0e-05 to the diagonal\n",
      "  warnings.warn(\n",
      "C:\\Users\\Leo\\AppData\\Roaming\\Python\\Python39\\site-packages\\gpytorch\\utils\\cholesky.py:40: NumericalWarning: A not p.d., added jitter of 1.0e-04 to the diagonal\n",
      "  warnings.warn(\n"
     ]
    }
   ],
   "source": [
    "X = generate_test_points(X, num_pred, Ytemp, constraints, punchout_radius, bounds)\n",
    "X = un_transform(X, xrange_list, xmin_list, 4)"
   ]
  },
  {
   "cell_type": "code",
   "execution_count": 12,
   "metadata": {},
   "outputs": [
    {
     "name": "stdout",
     "output_type": "stream",
     "text": [
      "New X_1: Power: 777.08W, Velocity: 1969.55mm/min, Spot size: 2.64mm, Feedrate: 8.52g/min\n",
      "New X_2: Power: 1500.13W, Velocity: 1998.32mm/min, Spot size: 2.63mm, Feedrate: 9.49g/min\n",
      "New X_3: Power: 414.4W, Velocity: 2038.48mm/min, Spot size: 2.84mm, Feedrate: 10.02g/min\n"
     ]
    }
   ],
   "source": [
    "new_N_points = X[-num_pred:]\n",
    "for i in range(new_N_points.shape[0], 0, -1):\n",
    "    new_power = round(X[-i][0].item(), 2)\n",
    "    new_velocity = round(X[-i][1].item(), 2)\n",
    "    new_spotsize = round(X[-i][2].item(), 2)\n",
    "    new_feedrate = round(X[-i][3].item(), 2)\n",
    "    print(f\"New X_{new_N_points.shape[0]+1-i}: Power: {new_power}W, Velocity: {new_velocity}mm/min, Spot size: {new_spotsize}mm, Feedrate: {new_feedrate}g/min\")"
   ]
  }
 ],
 "metadata": {
  "kernelspec": {
   "display_name": "Python 3.9.13 64-bit",
   "language": "python",
   "name": "python3"
  },
  "language_info": {
   "codemirror_mode": {
    "name": "ipython",
    "version": 3
   },
   "file_extension": ".py",
   "mimetype": "text/x-python",
   "name": "python",
   "nbconvert_exporter": "python",
   "pygments_lexer": "ipython3",
   "version": "3.9.13"
  },
  "orig_nbformat": 4,
  "vscode": {
   "interpreter": {
    "hash": "11938c6bc6919ae2720b4d5011047913343b08a43b18698fd82dedb0d4417594"
   }
  }
 },
 "nbformat": 4,
 "nbformat_minor": 2
}

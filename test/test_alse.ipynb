{
 "cells": [
  {
   "cell_type": "code",
   "execution_count": 2,
   "id": "2037ea1f",
   "metadata": {},
   "outputs": [
    {
     "ename": "ModuleNotFoundError",
     "evalue": "No module named 'alse.print_workflow.read_excel_fixed_feed'",
     "output_type": "error",
     "traceback": [
      "\u001b[0;31m---------------------------------------------------------------------------\u001b[0m",
      "\u001b[0;31mModuleNotFoundError\u001b[0m                       Traceback (most recent call last)",
      "\u001b[1;32m/home/jovyan/alse/test/test_alse.ipynb Cell 1\u001b[0m in \u001b[0;36m<cell line: 10>\u001b[0;34m()\u001b[0m\n\u001b[1;32m      <a href='vscode-notebook-cell://k8s-container%2Bcontext%3Dulissigroup-desktops-fqdn%2Bpodname%3Darl-test-0%2Bnamespace%3Dloryw%2Bname%3Darl-test%2Bimage%3Dulissigroup%252fkubeflow%253aarl/home/jovyan/alse/test/test_alse.ipynb#ch0000000vscode-remote?line=7'>8</a>\u001b[0m \u001b[39mfrom\u001b[39;00m \u001b[39mmpl_toolkits\u001b[39;00m \u001b[39mimport\u001b[39;00m mplot3d\n\u001b[1;32m      <a href='vscode-notebook-cell://k8s-container%2Bcontext%3Dulissigroup-desktops-fqdn%2Bpodname%3Darl-test-0%2Bnamespace%3Dloryw%2Bname%3Darl-test%2Bimage%3Dulissigroup%252fkubeflow%253aarl/home/jovyan/alse/test/test_alse.ipynb#ch0000000vscode-remote?line=8'>9</a>\u001b[0m \u001b[39m# from matplotlib import cm\u001b[39;00m\n\u001b[0;32m---> <a href='vscode-notebook-cell://k8s-container%2Bcontext%3Dulissigroup-desktops-fqdn%2Bpodname%3Darl-test-0%2Bnamespace%3Dloryw%2Bname%3Darl-test%2Bimage%3Dulissigroup%252fkubeflow%253aarl/home/jovyan/alse/test/test_alse.ipynb#ch0000000vscode-remote?line=9'>10</a>\u001b[0m \u001b[39mfrom\u001b[39;00m \u001b[39malse\u001b[39;00m\u001b[39m.\u001b[39;00m\u001b[39mprint_workflow\u001b[39;00m\u001b[39m.\u001b[39;00m\u001b[39mread_excel_fixed_feed\u001b[39;00m \u001b[39mimport\u001b[39;00m read_excel\n\u001b[1;32m     <a href='vscode-notebook-cell://k8s-container%2Bcontext%3Dulissigroup-desktops-fqdn%2Bpodname%3Darl-test-0%2Bnamespace%3Dloryw%2Bname%3Darl-test%2Bimage%3Dulissigroup%252fkubeflow%253aarl/home/jovyan/alse/test/test_alse.ipynb#ch0000000vscode-remote?line=10'>11</a>\u001b[0m \u001b[39mfrom\u001b[39;00m \u001b[39malse\u001b[39;00m\u001b[39m.\u001b[39;00m\u001b[39malse\u001b[39;00m \u001b[39mimport\u001b[39;00m alse\n\u001b[1;32m     <a href='vscode-notebook-cell://k8s-container%2Bcontext%3Dulissigroup-desktops-fqdn%2Bpodname%3Darl-test-0%2Bnamespace%3Dloryw%2Bname%3Darl-test%2Bimage%3Dulissigroup%252fkubeflow%253aarl/home/jovyan/alse/test/test_alse.ipynb#ch0000000vscode-remote?line=11'>12</a>\u001b[0m \u001b[39mimport\u001b[39;00m \u001b[39mcopy\u001b[39;00m\n",
      "\u001b[0;31mModuleNotFoundError\u001b[0m: No module named 'alse.print_workflow.read_excel_fixed_feed'"
     ]
    }
   ],
   "source": [
    "import matplotlib.pyplot as plt\n",
    "import torch\n",
    "from torch.quasirandom import SobolEngine\n",
    "\n",
    "import numpy as np\n",
    "from alse.accuracy import get_accuracy\n",
    "from alse.utils import identify_samples_which_satisfy_constraints, normalize, unnormalize\n",
    "from mpl_toolkits import mplot3d\n",
    "# from matplotlib import cm\n",
    "from alse.utils import read_excel\n",
    "from alse.alse import alse\n",
    "import copy\n",
    "tkwargs = {\n",
    "    \"device\": torch.device(\"cpu\"),\n",
    "    \"dtype\": torch.float,\n",
    "}\n",
    "\n",
    "X, width, pow_cap, wth = read_excel()\n",
    "bounds = torch.tensor([[900, 600], [2700, 1800]])\n",
    "constraints = [(\"gt\", 2.5), (\"gt\", 0.65), (\"gt\", 6)]\n",
    "\n",
    "algo = alse(X, bounds, [width, pow_cap, wth], constraints)\n",
    "\n",
    "algo.initialize_model([\"reg\", \"reg\", \"reg\"])\n",
    "\n",
    "algo.next_test_points(5)"
   ]
  },
  {
   "cell_type": "code",
   "execution_count": null,
   "id": "3bcebb55",
   "metadata": {},
   "outputs": [],
   "source": []
  }
 ],
 "metadata": {
  "kernelspec": {
   "display_name": "Python 3.9.13 ('base')",
   "language": "python",
   "name": "python3"
  },
  "language_info": {
   "codemirror_mode": {
    "name": "ipython",
    "version": 3
   },
   "file_extension": ".py",
   "mimetype": "text/x-python",
   "name": "python",
   "nbconvert_exporter": "python",
   "pygments_lexer": "ipython3",
   "version": "3.9.13"
  },
  "vscode": {
   "interpreter": {
    "hash": "d4d1e4263499bec80672ea0156c357c1ee493ec2b1c70f0acce89fc37c4a6abe"
   }
  }
 },
 "nbformat": 4,
 "nbformat_minor": 5
}

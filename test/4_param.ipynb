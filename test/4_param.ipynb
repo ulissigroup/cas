{
 "cells": [
  {
   "cell_type": "code",
   "execution_count": 1,
   "metadata": {},
   "outputs": [],
   "source": [
    "import matplotlib.pyplot as plt\n",
    "import torch\n",
    "from botorch.models import ModelListGP\n",
    "from botorch.optim import optimize_acqf\n",
    "from torch.quasirandom import SobolEngine\n",
    "from matplotlib import pyplot as plt\n",
    "import numpy as np\n",
    "from alse.eci import ExpectedCoverageImprovement\n",
    "from alse.accuracy import get_accuracy\n",
    "from alse.utils import identify_samples_which_satisfy_constraints, store_param, transform, un_transform\n",
    "from alse.fit_model import fit_gp_class, fit_gp_reg\n",
    "from alse.test_function.fxns import yf, hills, circle\n",
    "from alse.fit_all_demo_only import fit_all_models\n",
    "# from mpl_toolkits import mplot3d\n",
    "# from matplotlib import cm"
   ]
  },
  {
   "cell_type": "code",
   "execution_count": 2,
   "metadata": {},
   "outputs": [],
   "source": [
    "tkwargs = {\n",
    "    \"device\": torch.device(\"cpu\"),\n",
    "    \"dtype\": torch.float,\n",
    "}\n",
    "            #   width > 2.5   powder capture > 50%     place holder\n",
    "constraints = [(\"gt\", 2.5),      (\"gt\", 0.5),         (\"gt\", 0.1)]"
   ]
  },
  {
   "cell_type": "markdown",
   "metadata": {},
   "source": [
    "Read and consolidate data"
   ]
  },
  {
   "cell_type": "code",
   "execution_count": 3,
   "metadata": {},
   "outputs": [],
   "source": [
    "import pandas\n",
    "data1 = pandas.read_excel('4340_2.5mm_5.24gmin.xlsx').loc\n",
    "data2 = pandas.read_excel('4340_3mm_5.24gmin.xlsx').loc\n",
    "data3 = pandas.read_excel('4340_3mm_10.47gmin.xlsx').loc\n",
    "consolidated_data = [data1, data2, data3]"
   ]
  },
  {
   "cell_type": "code",
   "execution_count": 4,
   "metadata": {},
   "outputs": [],
   "source": [
    "ones = torch.ones(40)"
   ]
  },
  {
   "cell_type": "code",
   "execution_count": 5,
   "metadata": {},
   "outputs": [],
   "source": [
    "def read_data(raw_data, param):\n",
    "    d = torch.tensor([])\n",
    "    for i in range(len(raw_data)):\n",
    "        d = torch.cat((d, torch.tensor(raw_data[i][:,f\"{param}\"])))\n",
    "    return d"
   ]
  },
  {
   "cell_type": "code",
   "execution_count": 6,
   "metadata": {},
   "outputs": [],
   "source": [
    "power = read_data(consolidated_data, \"P (W)\")\n",
    "velocity = (read_data(consolidated_data, \"V (mm/min)\"))\n",
    "\n",
    "#This needs to change if using different dataset\n",
    "spot_size = torch.cat((ones*2.5, ones*3, ones*3))\n",
    "feed_rate = torch.cat((ones*5.24, ones*5.24, ones*10.47))\n",
    "\n",
    "X = torch.stack((power, velocity, spot_size, feed_rate), -1)"
   ]
  },
  {
   "cell_type": "code",
   "execution_count": 7,
   "metadata": {},
   "outputs": [
    {
     "data": {
      "text/plain": [
       "torch.Size([120, 4])"
      ]
     },
     "execution_count": 7,
     "metadata": {},
     "output_type": "execute_result"
    }
   ],
   "source": [
    "X.shape"
   ]
  },
  {
   "cell_type": "code",
   "execution_count": 8,
   "metadata": {},
   "outputs": [],
   "source": [
    "width = read_data(consolidated_data, \"widths avg (mm)\").unsqueeze(-1)\n",
    "pow_cap = (read_data(consolidated_data, \"powder capt %\")/100).unsqueeze(-1)\n",
    "_height = read_data(consolidated_data, \"heights avg (mm)\").bool().long().unsqueeze(-1)\n",
    "adhere = torch.cat(([_height]*4),-1)"
   ]
  },
  {
   "cell_type": "code",
   "execution_count": 9,
   "metadata": {},
   "outputs": [],
   "source": [
    "# Store for un_transform later\n",
    "xrange_list, xmin_list = store_param(X, 4)"
   ]
  },
  {
   "cell_type": "code",
   "execution_count": 10,
   "metadata": {},
   "outputs": [
    {
     "data": {
      "text/plain": [
       "tensor([2.4000e+03, 2.8000e+03, 5.0000e-01, 5.2300e+00])"
      ]
     },
     "execution_count": 10,
     "metadata": {},
     "output_type": "execute_result"
    }
   ],
   "source": [
    "xrange_list"
   ]
  },
  {
   "cell_type": "code",
   "execution_count": 11,
   "metadata": {},
   "outputs": [],
   "source": [
    "X = transform(X, 4)"
   ]
  },
  {
   "cell_type": "code",
   "execution_count": 12,
   "metadata": {},
   "outputs": [],
   "source": [
    "X = un_transform(X, xrange_list, xmin_list, 4)"
   ]
  },
  {
   "cell_type": "code",
   "execution_count": 13,
   "metadata": {},
   "outputs": [
    {
     "name": "stderr",
     "output_type": "stream",
     "text": [
      "C:\\Users\\Leo\\AppData\\Roaming\\Python\\Python310\\site-packages\\botorch\\fit.py:148: NumericalWarning: A not p.d., added jitter of 1.0e-06 to the diagonal\n",
      "  warnings.warn(w.message, w.category)\n",
      "c:\\Program Files\\Python310\\lib\\site-packages\\gpytorch\\lazy\\triangular_lazy_tensor.py:136: UserWarning: torch.triangular_solve is deprecated in favor of torch.linalg.solve_triangularand will be removed in a future PyTorch release.\n",
      "torch.linalg.solve_triangular has its arguments reversed and does not return a copy of one of the inputs.\n",
      "X = torch.triangular_solve(B, A).solution\n",
      "should be replaced with\n",
      "X = torch.linalg.solve_triangular(A, B). (Triggered internally at  ..\\aten\\src\\ATen\\native\\BatchLinearAlgebra.cpp:2189.)\n",
      "  res = torch.triangular_solve(right_tensor, self.evaluate(), upper=self.upper).solution\n"
     ]
    }
   ],
   "source": [
    "gp_model_width = fit_gp_reg(X, width)\n",
    "gp_model_pow_cap = fit_gp_reg(X, pow_cap)\n",
    "gp_model_adhere = fit_gp_class(X, adhere, lr=0.05, iter=300)\n"
   ]
  },
  {
   "cell_type": "code",
   "execution_count": 14,
   "metadata": {},
   "outputs": [],
   "source": [
    "# N1, N2 = 150, 150\n",
    "# Xplt, Yplt, xplt = make_meshgrid(N1, N2, [0, 1], [0, 1], tkwargs)"
   ]
  },
  {
   "cell_type": "code",
   "execution_count": 15,
   "metadata": {},
   "outputs": [
    {
     "data": {
      "text/plain": [
       "tensor([[0.6928, 0.6930, 0.6972, 0.6930]], grad_fn=<SoftplusBackward0>)"
      ]
     },
     "execution_count": 15,
     "metadata": {},
     "output_type": "execute_result"
    }
   ],
   "source": [
    "gp_model_width.covar_module.base_kernel.lengthscale"
   ]
  },
  {
   "cell_type": "code",
   "execution_count": 16,
   "metadata": {},
   "outputs": [],
   "source": [
    "punchout_radius = 0.1\n",
    "bounds = torch.tensor([[200, 300, 0.5, 1], [3000, 3000, 5, 12]], **tkwargs)\n",
    "lb, ub = bounds\n"
   ]
  },
  {
   "cell_type": "code",
   "execution_count": 17,
   "metadata": {},
   "outputs": [
    {
     "name": "stderr",
     "output_type": "stream",
     "text": [
      "c:\\Program Files\\Python310\\lib\\site-packages\\gpytorch\\utils\\cholesky.py:40: NumericalWarning: A not p.d., added jitter of 1.0e-06 to the diagonal\n",
      "  warnings.warn(\n",
      "c:\\Program Files\\Python310\\lib\\site-packages\\gpytorch\\utils\\cholesky.py:40: NumericalWarning: A not p.d., added jitter of 1.0e-05 to the diagonal\n",
      "  warnings.warn(\n",
      "c:\\Program Files\\Python310\\lib\\site-packages\\gpytorch\\utils\\cholesky.py:40: NumericalWarning: A not p.d., added jitter of 1.0e-04 to the diagonal\n",
      "  warnings.warn(\n"
     ]
    },
    {
     "name": "stdout",
     "output_type": "stream",
     "text": [
      "New X: Power: 2113.01W, Velocity: 2198.54mm/min, Spot size: 2.01mm, Feedrate: 8.94g/min\n"
     ]
    }
   ],
   "source": [
    "\n",
    "# We don't have to normalize X since the domain is [0, 1]^2. Make sure to\n",
    "# appropriately adjust the punchout radius if the domain is normalized.\n",
    "\n",
    "model_list_gp = ModelListGP(gp_model_width, gp_model_pow_cap, gp_model_adhere)\n",
    "\n",
    "eci = ExpectedCoverageImprovement(\n",
    "    model=model_list_gp,\n",
    "    constraints=constraints,\n",
    "    punchout_radius=punchout_radius,\n",
    "    bounds=bounds,\n",
    "    num_samples=512\n",
    ")\n",
    "\n",
    "# gp_model_width.eval()\n",
    "# gp_model_pow_cap.eval()\n",
    "# gp_model_adhere.eval()\n",
    "for model in model_list_gp.models:\n",
    "    model.eval()\n",
    "\n",
    "x_next, _ = optimize_acqf(\n",
    "    acq_function=eci,\n",
    "    bounds=bounds,\n",
    "    q=1,\n",
    "    num_restarts=10,\n",
    "    raw_samples=512\n",
    ")\n",
    "new_power = round(x_next[0][0].item(), 2)\n",
    "new_velocity = round(x_next[0][1].item(), 2)\n",
    "new_spotsize = round(x_next[0][2].item(), 2)\n",
    "new_feedrate = round(x_next[0][3].item(), 2)\n",
    "print(f\"New X: Power: {new_power}W, Velocity: {new_velocity}mm/min, Spot size: {new_spotsize}mm, Feedrate: {new_feedrate}g/min\")"
   ]
  }
 ],
 "metadata": {
  "kernelspec": {
   "display_name": "Python 3.10.5 64-bit",
   "language": "python",
   "name": "python3"
  },
  "language_info": {
   "codemirror_mode": {
    "name": "ipython",
    "version": 3
   },
   "file_extension": ".py",
   "mimetype": "text/x-python",
   "name": "python",
   "nbconvert_exporter": "python",
   "pygments_lexer": "ipython3",
   "version": "3.10.5"
  },
  "orig_nbformat": 4,
  "vscode": {
   "interpreter": {
    "hash": "26de051ba29f2982a8de78e945f0abaf191376122a1563185a90213a26c5da77"
   }
  }
 },
 "nbformat": 4,
 "nbformat_minor": 2
}

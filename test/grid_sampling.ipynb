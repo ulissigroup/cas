{
 "cells": [
  {
   "cell_type": "code",
   "execution_count": null,
   "metadata": {},
   "outputs": [],
   "source": [
    "import torch\n",
    "import gpytorch\n",
    "import random\n",
    "from gpytorch.likelihoods import GaussianLikelihood, DirichletClassificationLikelihood\n",
    "from gpytorch.mlls import ExactMarginalLogLikelihood\n",
    "from botorch.models import SingleTaskGP\n",
    "from botorch.fit import fit_gpytorch_model\n",
    "from gpytorch.constraints import Interval\n",
    "import matplotlib.pyplot as plt\n",
    "import numpy as np\n",
    "from alse.gp_model import DirichletGPModel"
   ]
  },
  {
   "cell_type": "code",
   "execution_count": null,
   "metadata": {},
   "outputs": [],
   "source": [
    "tkwargs = {\n",
    "    \"device\": torch.device(\"cpu\"),\n",
    "    \"dtype\": torch.float,\n",
    "}"
   ]
  },
  {
   "cell_type": "code",
   "execution_count": null,
   "metadata": {},
   "outputs": [],
   "source": [
    "def get_and_fit_gp(X, Y):\n",
    "    assert Y.ndim == 2 and Y.shape[-1] == 1\n",
    "    likelihood = GaussianLikelihood(noise_constraint=Interval(1e-6, 1e-3))  # Noise-free\n",
    "    gp = SingleTaskGP(X, Y, likelihood=likelihood)\n",
    "    mll = ExactMarginalLogLikelihood(gp.likelihood, gp)\n",
    "    fit_gpytorch_model(mll)\n",
    "    return gp"
   ]
  },
  {
   "cell_type": "code",
   "execution_count": null,
   "metadata": {},
   "outputs": [],
   "source": [
    "def get_and_fit_gp_class(X, Y):\n",
    "    likelihood = DirichletClassificationLikelihood(Y[:,0].long(), learn_additional_noise=True)\n",
    "    model = DirichletGPModel(X, likelihood.transformed_targets, likelihood, num_classes=likelihood.num_classes)\n",
    "    model.train()\n",
    "    likelihood.train()\n",
    "    optimizer = torch.optim.Adam(model.parameters(), lr=0.1)  # Includes GaussianLikelihood parameters\n",
    "    mll = gpytorch.mlls.ExactMarginalLogLikelihood(likelihood, model)\n",
    "\n",
    "    for i in range(100):\n",
    "        optimizer.zero_grad()\n",
    "        output = model(X)\n",
    "        loss = -mll(output, likelihood.transformed_targets).sum()\n",
    "        loss.backward()\n",
    "        optimizer.step()\n",
    "    return model"
   ]
  },
  {
   "cell_type": "markdown",
   "metadata": {},
   "source": [
    "Define Necessary functions"
   ]
  },
  {
   "cell_type": "code",
   "execution_count": null,
   "metadata": {},
   "outputs": [],
   "source": [
    "def hills(x):\n",
    "    v = 0.5*torch.cos(x[:,0]*2-torch.pi)+torch.sin(x[:,1]+torch.pi/2)\n",
    "    \n",
    "    return v.unsqueeze(-1)\n",
    "    \n",
    "def circle(x):\n",
    "    v = -(x[:,0] ** 2 + x[:,1] ** 2) + 25\n",
    "    return v.unsqueeze(-1)\n",
    "\n",
    "def yf(x):\n",
    "    v = (((x[:,0]**2+x[:,1]-11)**2+(x[:,0]+x[:,1]**2-7)**2)>160)\n",
    "    return v.unsqueeze(-1)\n",
    "\n",
    "def get_rand_coord(num_rand_points):\n",
    "    a = 6*torch.rand(num_rand_points)-3\n",
    "    b = 6*torch.rand(num_rand_points)-3\n",
    "    return torch.stack((a,b),-1)\n",
    "\n",
    "def get_grid_coord(N):\n",
    "    X, Y = torch.meshgrid(\n",
    "    torch.linspace(-3, 3, N, **tkwargs), torch.linspace(-3, 3, N, **tkwargs),\n",
    "    indexing='xy',)\n",
    "    return torch.stack(\n",
    "        (\n",
    "            torch.reshape(X, (X.shape[0] * X.shape[1],)),\n",
    "            torch.reshape(Y, (Y.shape[0] * Y.shape[1],)),\n",
    "        ),\n",
    "        dim=1,\n",
    "    )"
   ]
  },
  {
   "cell_type": "markdown",
   "metadata": {},
   "source": [
    "Grid of N1xN2 for plotting"
   ]
  },
  {
   "cell_type": "code",
   "execution_count": null,
   "metadata": {},
   "outputs": [],
   "source": [
    "N1, N2 = 150, 150\n",
    "X, Y = torch.meshgrid(\n",
    "    torch.linspace(-3, 3, N1, **tkwargs), torch.linspace(-3, 3, N2, **tkwargs),\n",
    "    indexing='xy',\n",
    ")\n",
    "x = torch.stack(\n",
    "    (\n",
    "        torch.reshape(X, (X.shape[0] * X.shape[1],)),\n",
    "        torch.reshape(Y, (Y.shape[0] * Y.shape[1],)),\n",
    "    ),\n",
    "    dim=1,\n",
    ")"
   ]
  },
  {
   "cell_type": "markdown",
   "metadata": {},
   "source": [
    "In bound points would be set to 1, else 0"
   ]
  },
  {
   "cell_type": "code",
   "execution_count": null,
   "metadata": {},
   "outputs": [],
   "source": [
    "Y_hills = (hills(x) > 0.3).reshape(N1, N2)\n",
    "Y_circle = (circle(x) > 20).reshape(N1, N2)\n",
    "Y_yf = yf(x).reshape(N1, N2)\n",
    "\n",
    "reference = (Y_hills & Y_circle & Y_yf)"
   ]
  },
  {
   "cell_type": "markdown",
   "metadata": {},
   "source": [
    "Created a model from random data"
   ]
  },
  {
   "cell_type": "code",
   "execution_count": null,
   "metadata": {},
   "outputs": [],
   "source": [
    "num_rand_points = 6"
   ]
  },
  {
   "cell_type": "code",
   "execution_count": null,
   "metadata": {},
   "outputs": [],
   "source": [
    "rand_x = get_grid_coord(num_rand_points)\n",
    "rand_y_hills = hills(rand_x)\n",
    "rand_y_circle = circle(rand_x)\n",
    "rand_y_class = yf(rand_x)"
   ]
  },
  {
   "cell_type": "markdown",
   "metadata": {},
   "source": [
    "Fit a model based on these points"
   ]
  },
  {
   "cell_type": "code",
   "execution_count": null,
   "metadata": {},
   "outputs": [],
   "source": [
    "def fit_all_models(rand_x, rand_y_hills, rand_y_circle, rand_y_class):\n",
    "    model_hills = get_and_fit_gp(rand_x, rand_y_hills)\n",
    "    model_circle = get_and_fit_gp(rand_x, rand_y_circle)\n",
    "    model_class = get_and_fit_gp_class(rand_x, rand_y_class)\n",
    "    ##########################################################\n",
    "    model_class.eval()\n",
    "    with gpytorch.settings.fast_pred_var(), torch.no_grad():\n",
    "        test_dist = model_class(x)\n",
    "        pred_means = test_dist.loc\n",
    "\n",
    "    fig, ax = plt.subplots(1, 2, figsize = (20, 7))\n",
    "\n",
    "    for i in range(2):\n",
    "        im = ax[i].contourf(\n",
    "            X.numpy(), Y.numpy(), pred_means[i].numpy().reshape(N1,N2),\n",
    "        cmap=\"Blues\", alpha=0.6)\n",
    "        fig.colorbar(im, ax=ax[i])\n",
    "        ax[i].plot(rand_x[:,0].numpy(), rand_x[:,1].numpy(), \"ko\")\n",
    "        ax[i].set_title(\"Logits: Class \" + str(i), fontsize = 20)\n",
    "    \n",
    "\n",
    "    pred_samples = test_dist.sample(torch.Size((256,))).exp()\n",
    "    probabilities = (pred_samples / pred_samples.sum(-2, keepdim=True)).mean(0)\n",
    "    probabilities[0] = probabilities[0]*(probabilities[0].max()-probabilities[0].min())\n",
    "    probabilities[1] = probabilities[1]/probabilities[1].max()\n",
    "    # probabilities[0] = 1-probabilities[1]\n",
    "    ###################################################################\n",
    "    fig, ax = plt.subplots(1, 2, figsize = (20, 7))\n",
    "\n",
    "    levels = np.linspace(0, 1.05, 20)\n",
    "    for i in range(2):\n",
    "        im = ax[i].contourf(\n",
    "            X.numpy(), Y.numpy(), probabilities[i].numpy().reshape(N1,N2), levels=levels,\n",
    "        cmap=\"Blues\", alpha=0.6)\n",
    "        fig.colorbar(im, ax=ax[i])\n",
    "        ax[i].plot(rand_x[:,0].numpy(), rand_x[:,1].numpy(), \"ko\")\n",
    "        ax[i].set_title(\"Probabilities: Class \" + str(i), fontsize = 20)\n",
    "    ##################################################################\n",
    "    predicted_hills = model_hills(x).loc.reshape(N1,N2)\n",
    "    predicted_circle = model_circle(x).loc.reshape(N1,N2)\n",
    "    predicted_yf = probabilities.max(0)[1].reshape(N1,N2)\n",
    "    return predicted_hills, predicted_circle, predicted_yf"
   ]
  },
  {
   "cell_type": "code",
   "execution_count": null,
   "metadata": {},
   "outputs": [],
   "source": [
    "predicted_hills, predicted_circle, predicted_yf = fit_all_models(rand_x, rand_y_hills, rand_y_circle, rand_y_class)"
   ]
  },
  {
   "cell_type": "markdown",
   "metadata": {},
   "source": [
    "Plot model 1"
   ]
  },
  {
   "cell_type": "code",
   "execution_count": null,
   "metadata": {},
   "outputs": [],
   "source": [
    "fig, ax = plt.subplots(1, 2, figsize=(16, 7))\n",
    "ax[0].contourf(X, Y, hills(x).reshape(N1,N2), levels=torch.linspace(-2, 2, 15), cmap=\"Blues\", alpha=0.6)\n",
    "ax[0].plot(rand_x[:,0], rand_x[:,1], \"ko\")\n",
    "ax[0].contour(X, Y, hills(x).reshape(N1,N2), [0.3, 2], colors=\"k\")\n",
    "ax[1].contourf(X, Y, predicted_hills.detach(), levels=torch.linspace(-2, 2, 15), cmap=\"Blues\", alpha=0.6)\n",
    "ax[1].contour(X, Y, predicted_hills.detach(), [0.3, 2], colors=\"k\")\n",
    "ax[1].plot(rand_x[:,0], rand_x[:,1], \"ko\")"
   ]
  },
  {
   "cell_type": "markdown",
   "metadata": {},
   "source": [
    "Plot model 2"
   ]
  },
  {
   "cell_type": "code",
   "execution_count": null,
   "metadata": {},
   "outputs": [],
   "source": [
    "fig, ax = plt.subplots(1, 2, figsize=(16, 7))\n",
    "ax[0].contourf(X, Y, circle(x).reshape(N1,N2), levels=torch.linspace(0, 25, 15), cmap=\"Blues\", alpha=0.6)\n",
    "ax[0].contour(X, Y, circle(x).reshape(N1,N2), [20, 30], colors=\"k\")\n",
    "ax[0].plot(rand_x[:,0], rand_x[:,1], \"ko\")\n",
    "ax[1].contourf(X, Y, predicted_circle.detach(), levels=torch.linspace(0, 25, 15), cmap=\"Blues\", alpha=0.6)\n",
    "ax[1].contour(X, Y, predicted_circle.detach(), [20, 30], colors=\"k\")\n",
    "ax[1].plot(rand_x[:,0], rand_x[:,1], \"ko\")"
   ]
  },
  {
   "cell_type": "markdown",
   "metadata": {},
   "source": [
    "Plot model 3"
   ]
  },
  {
   "cell_type": "code",
   "execution_count": null,
   "metadata": {},
   "outputs": [],
   "source": [
    "fig, ax = plt.subplots(1, 2, figsize=(16, 7))\n",
    "ax[0].contourf(X, Y, yf(x).reshape(N1,N2), cmap=\"Blues\", alpha=0.6)\n",
    "ax[0].contour(X, Y, yf(x).reshape(N1,N2), linewidths=0.3, colors=\"k\")\n",
    "ax[0].plot(rand_x[:,0], rand_x[:,1], \"ko\")\n",
    "ax[1].contourf(X.cpu(), Y.cpu(), predicted_yf, cmap=\"Blues\", alpha=0.6)\n",
    "ax[1].contour(X, Y, predicted_yf, linewidths=0.3, colors=\"k\")\n",
    "ax[1].plot(rand_x[:,0], rand_x[:,1], \"ko\")"
   ]
  },
  {
   "cell_type": "code",
   "execution_count": null,
   "metadata": {},
   "outputs": [],
   "source": [
    "est_overlap = (predicted_circle > 20) & (predicted_hills > 0.3) & predicted_yf\n",
    "\n",
    "fig, ax = plt.subplots(1, 2, figsize=(16, 7))\n",
    "ax[0].contourf(X, Y, reference, levels=torch.linspace(0.1,1,3), cmap=\"Blues\", alpha=0.6)\n",
    "ax[0].contour(X, Y, Y_hills, linewidths=0.3, colors=\"k\")\n",
    "ax[0].contour(X, Y, Y_circle, linewidths=0.3, colors=\"k\")\n",
    "ax[0].contour(X, Y, Y_yf, linewidths=0.3, colors=\"k\")\n",
    "ax[0].set_title(\"True boundary\", fontsize=20)\n",
    "\n",
    "\n",
    "ax[1].contourf(X, Y, est_overlap, levels=torch.linspace(0.1,1,3), cmap=\"Blues\", alpha=0.6)\n",
    "ax[1].contour(X, Y, (predicted_hills > 0.3), linewidths=0.3, colors=\"k\")\n",
    "ax[1].contour(X, Y, (predicted_circle > 20), linewidths=0.3, colors=\"k\")\n",
    "ax[1].contour(X, Y, predicted_yf, linewidths=0.3, colors=\"k\")\n",
    "ax[1].set_title(\"Estimated boundary\", fontsize=20)"
   ]
  },
  {
   "cell_type": "markdown",
   "metadata": {},
   "source": [
    "1. Method 1\n",
    "2. Find the estimated overlap, then find points that are not accurate (logic behind this is % of in bound squares we correctly identified)\n",
    "3. Maybe this is not the best way to calculate accuracy? Logical & operation only considers true & true, it does not consider spills (outside the correct boundary)"
   ]
  },
  {
   "cell_type": "code",
   "execution_count": null,
   "metadata": {},
   "outputs": [],
   "source": [
    "est_overlap = (predicted_circle > 20) & (predicted_hills > 0.3) & predicted_yf\n",
    "\n",
    "a = est_overlap & reference\n",
    "accuracy = float(a.sum()/reference.sum())\n",
    "accuracy = round(accuracy, 4)\n",
    "print(f\"Accuracy of this run: {accuracy}\")\n"
   ]
  },
  {
   "cell_type": "markdown",
   "metadata": {},
   "source": [
    "1. Method 2\n",
    "2. Consider this alternative method which introduce an equally weighted penalty for going out of bound"
   ]
  },
  {
   "cell_type": "code",
   "execution_count": null,
   "metadata": {},
   "outputs": [],
   "source": [
    "reward = est_overlap & reference\n",
    "penalty = est_overlap & ~reference\n",
    "\n",
    "accuracy = float((reward.sum() - penalty.sum())/reference.sum())\n",
    "accuracy = round(accuracy, 4)\n",
    "print(f\"Accuracy of this run: {accuracy}\")"
   ]
  },
  {
   "cell_type": "code",
   "execution_count": null,
   "metadata": {},
   "outputs": [],
   "source": [
    "reference.sum()"
   ]
  },
  {
   "cell_type": "code",
   "execution_count": null,
   "metadata": {},
   "outputs": [],
   "source": [
    "reward.sum()"
   ]
  },
  {
   "cell_type": "code",
   "execution_count": null,
   "metadata": {},
   "outputs": [],
   "source": [
    "penalty.sum()"
   ]
  },
  {
   "cell_type": "markdown",
   "metadata": {},
   "source": [
    "Result of random sampling using method 1"
   ]
  },
  {
   "cell_type": "code",
   "execution_count": null,
   "metadata": {},
   "outputs": [],
   "source": [
    "def test_rand():\n",
    "    raw = torch.tensor([0])\n",
    "    for i in range(500):\n",
    "        rand_x = get_rand_coord(50)\n",
    "        predicted_hills, predicted_circle, predicted_yf = fit_all_models(rand_x, hills(rand_x), circle(rand_x), yf(rand_x))\n",
    "\n",
    "        est_overlap = (predicted_circle > 20) & (predicted_hills > 0.3) & predicted_yf\n",
    "        a = (est_overlap & reference)\n",
    "        accuracy = torch.tensor([round(float(a.sum()/reference.sum()), 4)])\n",
    "        raw = torch.cat((raw, accuracy),0)\n",
    "    #Return everything after the intial zero\n",
    "    return raw[1:]"
   ]
  },
  {
   "cell_type": "code",
   "execution_count": null,
   "metadata": {},
   "outputs": [],
   "source": [
    "# trial = test_rand()\n"
   ]
  },
  {
   "cell_type": "code",
   "execution_count": null,
   "metadata": {},
   "outputs": [],
   "source": [
    "trial.mean()"
   ]
  }
 ],
 "metadata": {
  "kernelspec": {
   "display_name": "Python 3.10.5 64-bit",
   "language": "python",
   "name": "python3"
  },
  "language_info": {
   "codemirror_mode": {
    "name": "ipython",
    "version": 3
   },
   "file_extension": ".py",
   "mimetype": "text/x-python",
   "name": "python",
   "nbconvert_exporter": "python",
   "pygments_lexer": "ipython3",
   "version": "3.10.5"
  },
  "orig_nbformat": 4,
  "vscode": {
   "interpreter": {
    "hash": "26de051ba29f2982a8de78e945f0abaf191376122a1563185a90213a26c5da77"
   }
  }
 },
 "nbformat": 4,
 "nbformat_minor": 2
}
